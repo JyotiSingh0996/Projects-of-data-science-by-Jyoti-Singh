{
  "nbformat": 4,
  "nbformat_minor": 0,
  "metadata": {
    "colab": {
      "private_outputs": true,
      "provenance": [],
      "collapsed_sections": [
        "w6K7xa23Elo4",
        "yQaldy8SH6Dl",
        "mDgbUHAGgjLW",
        "H0kj-8xxnORC",
        "4rjfw8sW9n-v",
        "85gYPyotYoAp",
        "RoGjAbkUYoAp",
        "iky9q4vBYrdO",
        "F6T5p64dYrdO",
        "y-Ehk30pYrdP",
        "bbFf2-_FphqN",
        "_ouA3fa0phqN",
        "Seke61FWphqN",
        "PIIx-8_IphqN",
        "t27r6nlMphqO",
        "r2jJGEOYphqO",
        "b0JNsNcRphqO",
        "BZR9WyysphqO",
        "jj7wYXLtphqO",
        "eZrbJ2SmphqO",
        "rFu4xreNphqO",
        "YJ55k-q6phqO",
        "gCFgpxoyphqP",
        "OVtJsKN_phqQ",
        "lssrdh5qphqQ",
        "U2RJ9gkRphqQ",
        "1M8mcRywphqQ",
        "tgIPom80phqQ",
        "JMzcOPDDphqR",
        "x-EpHcCOp1ci",
        "X_VqEhTip1ck",
        "8zGJKyg5p1ck",
        "PVzmfK_Ep1ck",
        "n3dbpmDWp1ck",
        "ylSl6qgtp1ck",
        "ZWILFDl5p1ck",
        "M7G43BXep1ck",
        "Ag9LCva-p1cl",
        "E6MkPsBcp1cl",
        "2cELzS2fp1cl",
        "3MPXvC8up1cl",
        "NC_X3p0fY2L0",
        "UV0SzAkaZNRQ",
        "YPEH6qLeZNRQ",
        "q29F0dvdveiT",
        "EXh0U9oCveiU",
        "22aHeOlLveiV",
        "Yfr_Vlr8HBkt",
        "8yEUt7NnHlrM",
        "tEA2Xm5dHt1r",
        "I79__PHVH19G",
        "Ou-I18pAyIpj",
        "fF3858GYyt-u",
        "4_0_7-oCpUZd",
        "hwyV_J3ipUZe",
        "3yB-zSqbpUZe",
        "dEUvejAfpUZe",
        "Fd15vwWVpUZf",
        "bn_IUdTipZyH",
        "49K5P_iCpZyH",
        "Nff-vKELpZyI",
        "kLW572S8pZyI",
        "dWbDXHzopZyI",
        "67NQN5KX2AMe",
        "Hlsf0x5436Go",
        "c49ITxTc407N",
        "OeJFEK0N496M",
        "9ExmJH0g5HBk",
        "cJNqERVU536h",
        "k5UmGsbsOxih",
        "qBMux9mC6MCf",
        "-oLEiFgy-5Pf",
        "C74aWNz2AliB",
        "2DejudWSA-a0",
        "pEMng2IbBLp7",
        "rAdphbQ9Bhjc",
        "TNVZ9zx19K6k",
        "nqoHp30x9hH9",
        "yiiVWRdJDDil",
        "1UUpS68QDMuG",
        "kexQrXU-DjzY",
        "T5CmagL3EC8N",
        "BhH2vgX9EjGr",
        "qjKvONjwE8ra",
        "P1XJ9OREExlT",
        "VFOzZv6IFROw",
        "TIqpNgepFxVj",
        "4qY1EAkEfxKe",
        "PiV4Ypx8fxKe",
        "TfvqoZmBfxKf",
        "dJ2tPlVmpsJ0",
        "JWYfwnehpsJ1",
        "-jK_YjpMpsJ2",
        "HAih1iBOpsJ2",
        "zVGeBEFhpsJ2",
        "bmKjuQ-FpsJ3",
        "Fze-IPXLpx6K",
        "7AN1z2sKpx6M",
        "9PIHJqyupx6M",
        "_-qAgymDpx6N",
        "Z-hykwinpx6N",
        "h_CCil-SKHpo",
        "cBFFvTBNJzUa",
        "HvGl1hHyA_VK",
        "EyNgTHvd2WFk",
        "KH5McJBi2d8v",
        "iW_Lq9qf2h6X",
        "-Kee-DAl2viO",
        "gCX9965dhzqZ",
        "gIfDvo9L0UH2"
      ]
    },
    "kernelspec": {
      "name": "python3",
      "display_name": "Python 3"
    },
    "language_info": {
      "name": "python"
    },
    "gpuClass": "standard"
  },
  "cells": [
    {
      "cell_type": "markdown",
      "source": [
        "# **Project Name**    - **NETFLIX Movies AND TV Shows Clustering**\n",
        "\n"
      ],
      "metadata": {
        "id": "vncDsAP0Gaoa"
      }
    },
    {
      "cell_type": "markdown",
      "source": [
        "##### **Project Type**    - **Unsupervised**\n",
        "##### **Contribution**    - **Individual**\n",
        "\n"
      ],
      "metadata": {
        "id": "beRrZCGUAJYm"
      }
    },
    {
      "cell_type": "markdown",
      "source": [
        "# **Project Summary -**"
      ],
      "metadata": {
        "id": "FJNUwmbgGyua"
      }
    },
    {
      "cell_type": "markdown",
      "source": [
        "First I do Exploratory Data Analysis on the dataset. Check the Null values replace the null space ('no director','no cast'). Check duplicate value. But there are no duplicate value in this dataset. Next Data Wrangling replace rating word(TV-Y, TV-Y7) in adult,teen etc.Next Data Visualization and understand the relationship between variables.\n",
        "Text Preprocessing Techniques,Remove Punctuations,Remove Stopwords,Stemming,TF-IDF Vectorizer.\n",
        "\n",
        "Then use clustering method like Silhouette score(KMeans),Elbow Method(KMeans), DBSCAN, Dendrogram, Agglomerative clustering\n"
      ],
      "metadata": {
        "id": "F6v_1wHtG2nS"
      }
    },
    {
      "cell_type": "markdown",
      "source": [
        "# **GitHub Link -**"
      ],
      "metadata": {
        "id": "w6K7xa23Elo4"
      }
    },
    {
      "cell_type": "markdown",
      "source": [
        "https://github.com/JyotiSingh0996/Netflix-movies-TV-shows-clustering-capstone_project-4.git"
      ],
      "metadata": {
        "id": "h1o69JH3Eqqn"
      }
    },
    {
      "cell_type": "markdown",
      "source": [
        "# **Problem Statement**\n"
      ],
      "metadata": {
        "id": "yQaldy8SH6Dl"
      }
    },
    {
      "cell_type": "markdown",
      "source": [
        "Netflix, Inc. is an American subscription streaming service and production company. Launched on August 29, 1997, it offers a film and television series library through distribution deals as well as its own productions, known as Netflix Originals.\n",
        "\n",
        "This dataset consists of tv shows and movies available on Netflix as of 2019. The dataset is collected from Flixable which is a third-party Netflix search engine.\n",
        "\n",
        "In 2018, they released an interesting report which shows that the number of TV shows on Netflix has nearly tripled since 2010. The streaming service’s number of movies has decreased by more than 2,000 titles since 2010, while its number of TV shows has nearly tripled. It will be interesting to explore what all other insights can be obtained from the same dataset.\n",
        "\n",
        "Integrating this dataset with other external datasets such as IMDB ratings, rotten tomatoes can also provide many interesting findings."
      ],
      "metadata": {
        "id": "DpeJGUA3kjGy"
      }
    },
    {
      "cell_type": "markdown",
      "source": [
        "# **General Guidelines** : -  "
      ],
      "metadata": {
        "id": "mDgbUHAGgjLW"
      }
    },
    {
      "cell_type": "markdown",
      "source": [
        "1.   Well-structured, formatted, and commented code is required. \n",
        "2.   Exception Handling, Production Grade Code & Deployment Ready Code will be a plus. Those students will be awarded some additional credits. \n",
        "     \n",
        "     The additional credits will have advantages over other students during Star Student selection.\n",
        "       \n",
        "             [ Note: - Deployment Ready Code is defined as, the whole .ipynb notebook should be executable in one go\n",
        "                       without a single error logged. ]\n",
        "\n",
        "3.   Each and every logic should have proper comments.\n",
        "4. You may add as many number of charts you want. Make Sure for each and every chart the following format should be answered.\n",
        "        \n",
        "\n",
        "```\n",
        "# Chart visualization code\n",
        "```\n",
        "            \n",
        "\n",
        "*   Why did you pick the specific chart?\n",
        "*   What is/are the insight(s) found from the chart?\n",
        "* Will the gained insights help creating a positive business impact? \n",
        "Are there any insights that lead to negative growth? Justify with specific reason.\n",
        "\n",
        "5. You have to create at least 15 logical & meaningful charts having important insights.\n",
        "\n",
        "\n",
        "[ Hints : - Do the Vizualization in  a structured way while following \"UBM\" Rule. \n",
        "\n",
        "U - Univariate Analysis,\n",
        "\n",
        "B - Bivariate Analysis (Numerical - Categorical, Numerical - Numerical, Categorical - Categorical)\n",
        "\n",
        "M - Multivariate Analysis\n",
        " ]\n",
        "\n",
        "\n",
        "\n",
        "\n",
        "\n",
        "6. You may add more ml algorithms for model creation. Make sure for each and every algorithm, the following format should be answered.\n",
        "\n",
        "\n",
        "*   Explain the ML Model used and it's performance using Evaluation metric Score Chart.\n",
        "\n",
        "\n",
        "*   Cross- Validation & Hyperparameter Tuning\n",
        "\n",
        "*   Have you seen any improvement? Note down the improvement with updates Evaluation metric Score Chart.\n",
        "\n",
        "*   Explain each evaluation metric's indication towards business and the business impact pf the ML model used.\n",
        "\n",
        "\n",
        "\n",
        "\n",
        "\n",
        "\n",
        "\n",
        "\n",
        "\n",
        "\n",
        "\n",
        "\n",
        "\n",
        "\n",
        "\n",
        "\n",
        "\n",
        "\n"
      ],
      "metadata": {
        "id": "ZrxVaUj-hHfC"
      }
    },
    {
      "cell_type": "markdown",
      "source": [
        "# ***Let's Begin !***"
      ],
      "metadata": {
        "id": "O_i_v8NEhb9l"
      }
    },
    {
      "cell_type": "markdown",
      "source": [
        "## ***1. Know Your Data***"
      ],
      "metadata": {
        "id": "HhfV-JJviCcP"
      }
    },
    {
      "cell_type": "markdown",
      "source": [
        "### Import Libraries"
      ],
      "metadata": {
        "id": "Y3lxredqlCYt"
      }
    },
    {
      "cell_type": "code",
      "source": [
        "# Import necessary Libraries\n",
        "import pandas as pd\n",
        "import numpy as np\n",
        "import matplotlib.pyplot as plt\n",
        "import seaborn as sns\n",
        "%matplotlib inline\n",
        "import seaborn as sns\n",
        "import math\n",
        "import scipy.stats as stat\n",
        "import plotly.express as px\n",
        "import matplotlib.pyplot as plt\n",
        "from matplotlib import cm\n",
        "from math import log10\n",
        "#necessary imports for plotly and map\n",
        "import os\n",
        "import re\n",
        "import plotly.graph_objs as go\n",
        "import plotly.figure_factory as ff\n",
        "from plotly import tools\n",
        "from plotly.offline import download_plotlyjs, init_notebook_mode, plot, iplot\n",
        "from plotly.subplots import make_subplots\n",
        "import re, string, unicodedata\n",
        "import nltk\n",
        "import inflect\n",
        "from nltk import word_tokenize, sent_tokenize\n",
        "from nltk.corpus import stopwords\n",
        "from nltk.stem import LancasterStemmer, WordNetLemmatizer\n",
        "from keras.preprocessing.text import Tokenizer\n",
        "from sklearn import preprocessing\n",
        "import nltk\n",
        "from nltk.corpus import stopwords\n",
        "from nltk.tokenize import word_tokenize\n",
        "from nltk.stem.snowball import SnowballStemmer\n",
        "from sklearn.feature_extraction.text import CountVectorizer,TfidfVectorizer\n",
        "#word cloud imports\n",
        "from os import path\n",
        "from PIL import Image\n",
        "from wordcloud import WordCloud, STOPWORDS, ImageColorGenerator\n",
        "from sklearn.metrics import silhouette_score\n",
        "from sklearn.cluster import KMeans\n",
        "from sklearn.metrics import silhouette_samples\n",
        "import scipy.cluster.hierarchy as sch\n",
        "     \n"
      ],
      "metadata": {
        "id": "M8Vqi-pPk-HR"
      },
      "execution_count": null,
      "outputs": []
    },
    {
      "cell_type": "markdown",
      "source": [
        "### Dataset Loading"
      ],
      "metadata": {
        "id": "3RnN4peoiCZX"
      }
    },
    {
      "cell_type": "code",
      "source": [
        "# Mounting drive.\n",
        "from google.colab import drive\n",
        "drive.mount('/content/drive')\n",
        "     "
      ],
      "metadata": {
        "id": "4CkvbW_SlZ_R"
      },
      "execution_count": null,
      "outputs": []
    },
    {
      "cell_type": "code",
      "source": [
        "# load the data from drive\n",
        "movies_df = pd.read_csv('/content/drive/MyDrive/NETFLIX MOVIES AND TV SHOWS CLUSTERING.csv')"
      ],
      "metadata": {
        "id": "TBBuVLCDZz_F"
      },
      "execution_count": null,
      "outputs": []
    },
    {
      "cell_type": "markdown",
      "source": [
        "### Dataset First View"
      ],
      "metadata": {
        "id": "x71ZqKXriCWQ"
      }
    },
    {
      "cell_type": "code",
      "source": [
        "# Dataset First Look\n",
        "movies_df.head()"
      ],
      "metadata": {
        "id": "LWNFOSvLl09H"
      },
      "execution_count": null,
      "outputs": []
    },
    {
      "cell_type": "markdown",
      "source": [
        "### Dataset Rows & Columns count"
      ],
      "metadata": {
        "id": "7hBIi_osiCS2"
      }
    },
    {
      "cell_type": "code",
      "source": [
        "# Dataset Rows & Columns count\n",
        "movies_df.shape"
      ],
      "metadata": {
        "id": "Kllu7SJgmLij"
      },
      "execution_count": null,
      "outputs": []
    },
    {
      "cell_type": "markdown",
      "source": [
        "there are 7787 rows and 12 columns"
      ],
      "metadata": {
        "id": "YfSEhsNLcuFn"
      }
    },
    {
      "cell_type": "markdown",
      "source": [
        "Check the Datatype"
      ],
      "metadata": {
        "id": "VQfWHZncdFQo"
      }
    },
    {
      "cell_type": "code",
      "source": [
        "movies_df.dtypes"
      ],
      "metadata": {
        "id": "_k7oX4QYdEop"
      },
      "execution_count": null,
      "outputs": []
    },
    {
      "cell_type": "markdown",
      "source": [
        "date_added is having datatype as object we need to convert it to date-time."
      ],
      "metadata": {
        "id": "0exyeEV9dfq-"
      }
    },
    {
      "cell_type": "markdown",
      "source": [
        "### Dataset Information"
      ],
      "metadata": {
        "id": "JlHwYmJAmNHm"
      }
    },
    {
      "cell_type": "code",
      "source": [
        "# Dataset Info\n",
        "movies_df.info()"
      ],
      "metadata": {
        "id": "e9hRXRi6meOf"
      },
      "execution_count": null,
      "outputs": []
    },
    {
      "cell_type": "markdown",
      "source": [
        "#### Duplicate Values"
      ],
      "metadata": {
        "id": "35m5QtbWiB9F"
      }
    },
    {
      "cell_type": "code",
      "source": [
        "# Dataset Duplicate Value Count\n",
        "movies_df.duplicated().sum()\n"
      ],
      "metadata": {
        "id": "1sLdpKYkmox0"
      },
      "execution_count": null,
      "outputs": []
    },
    {
      "cell_type": "markdown",
      "source": [
        "#### Missing Values/Null Values"
      ],
      "metadata": {
        "id": "PoPl-ycgm1ru"
      }
    },
    {
      "cell_type": "code",
      "source": [
        "# Missing Values/Null Values Count\n",
        "movies_df.isna().sum()"
      ],
      "metadata": {
        "id": "GgHWkxvamxVg"
      },
      "execution_count": null,
      "outputs": []
    },
    {
      "cell_type": "markdown",
      "source": [
        "* We can clearly see there are null alues present in director, cast, country, date_added and rating.\n",
        "* We have 30% of values as null in director so instead of dropping we can fill those values with 'No Director' same for cast and country.\n",
        "* We can drop null values from date_added and rating as there are not much null values."
      ],
      "metadata": {
        "id": "kkey33pVfvKR"
      }
    },
    {
      "cell_type": "code",
      "source": [
        "# null values treatment\n",
        "movies_df['country'] = movies_df['country'].fillna('No Country')\n",
        "movies_df['director'] = movies_df['director'].fillna('No Director')\n",
        "movies_df['cast'] = movies_df['cast'].fillna('No Cast')\n",
        "movies_df.dropna(subset=['date_added','rating'],inplace=True)"
      ],
      "metadata": {
        "id": "_FM7mjngfa9a"
      },
      "execution_count": null,
      "outputs": []
    },
    {
      "cell_type": "code",
      "source": [
        "# Visualizing the missing values\n",
        "plt.figure(figsize=(14, 5))\n",
        "sns.heatmap(movies_df.isnull(), cbar=True, yticklabels=False,cmap=\"Purples_r\")\n",
        "plt.xlabel(\"column_name\", size=14, weight=\"bold\")\n",
        "plt.title(\"missing values in column\",fontweight=\"bold\",size=17)\n",
        "plt.show()"
      ],
      "metadata": {
        "id": "3q5wnI3om9sJ"
      },
      "execution_count": null,
      "outputs": []
    },
    {
      "cell_type": "markdown",
      "source": [
        "### What did you know about your dataset?"
      ],
      "metadata": {
        "id": "H0kj-8xxnORC"
      }
    },
    {
      "cell_type": "markdown",
      "source": [
        " 12 Columns in this Dataset show_id,type,title...Each variable has its important role.\n",
        "* Title tells that what is the title of the movie/show\n",
        "* Director column tells that what is the director name of that Movie/Show\n",
        "* Cast tells the name of Actor\n",
        "* Country column tells the origin of that Movie/Show\n",
        "* Movie/Show rating tell who the movie is for(kids,Teen,adult)\n",
        "* Listed_in tell the genre of the movie/Show\n",
        "* Description tell the summary of Movie/Show"
      ],
      "metadata": {
        "id": "74TFr4qYHiL-"
      }
    },
    {
      "cell_type": "markdown",
      "source": [
        "![image.png](data:image/png;base64,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)"
      ],
      "metadata": {
        "id": "gfoNAAC-nUe_"
      }
    },
    {
      "cell_type": "markdown",
      "source": [
        "## ***2. Understanding Your Variables***"
      ],
      "metadata": {
        "id": "nA9Y7ga8ng1Z"
      }
    },
    {
      "cell_type": "code",
      "source": [
        "# dataset.columns\n",
        "movies_df.columns"
      ],
      "metadata": {
        "id": "-Y5ghaNqcncs"
      },
      "execution_count": null,
      "outputs": []
    },
    {
      "cell_type": "code",
      "source": [
        "# Dataset Describe\n",
        "# Getting some basic statistical information\n",
        "movies_df.describe(include='all')"
      ],
      "metadata": {
        "id": "YOh-KFgYd9AO"
      },
      "execution_count": null,
      "outputs": []
    },
    {
      "cell_type": "markdown",
      "source": [
        "### Variables Description "
      ],
      "metadata": {
        "id": "PBTbrJXOngz2"
      }
    },
    {
      "cell_type": "markdown",
      "source": [
        "Total 7787 rows and 12 columns."
      ],
      "metadata": {
        "id": "aJV4KIxSnxay"
      }
    },
    {
      "cell_type": "markdown",
      "source": [
        "### Check Unique Values for each variable."
      ],
      "metadata": {
        "id": "u3PMJOP6ngxN"
      }
    },
    {
      "cell_type": "code",
      "source": [
        "#Unique values present in each feature\n",
        "movies_df.nunique()"
      ],
      "metadata": {
        "id": "XgO1JXHYfPLo"
      },
      "execution_count": null,
      "outputs": []
    },
    {
      "cell_type": "markdown",
      "source": [
        "* We have a dataset of 7787 rows and 12 columns.\n",
        "* We need to change the datatype of date_added column and we can also see there are some comma separated values we need to clean that columns.\n",
        "* We can see there are some null values present in our dataset we will first treat those null values."
      ],
      "metadata": {
        "id": "_3EKTm9ZMSDD"
      }
    },
    {
      "cell_type": "markdown",
      "source": [
        "## 3. ***Data Wrangling***"
      ],
      "metadata": {
        "id": "dauF4eBmngu3"
      }
    },
    {
      "cell_type": "markdown",
      "source": [
        "### Data Wrangling Code"
      ],
      "metadata": {
        "id": "bKJF3rekwFvQ"
      }
    },
    {
      "cell_type": "markdown",
      "source": [
        "Rating: It appears like there is nothing wrong with 'rating'. But, to the viewer - ratings like 'TV-MA' or 'PG-13' means nothing. We just know that the rating means \"for specific audiance\". So, we want to conduct a research to understand all the ratings, and then change the text into a more readable, appropriate text"
      ],
      "metadata": {
        "id": "Ygk4vKLp2PsI"
      }
    },
    {
      "cell_type": "code",
      "source": [
        "print('TV Shows Ratings:',movies_df[movies_df['type'] == 'TV Show']['rating'].unique(),'\\n')\n",
        "print('Movies Ratings:',movies_df[movies_df['type'] == 'Movie']['rating'].unique())"
      ],
      "metadata": {
        "id": "wk-9a2fpoLcV"
      },
      "execution_count": null,
      "outputs": []
    },
    {
      "cell_type": "markdown",
      "source": [
        "Processing the 'rating' column'. Here we have 2 challenges, because not only we need to interpert what every rating means, we also need to change it to a more understandable text. Our course of action will be:\n",
        "\n",
        "* Listing all the unique ratings for movies and TV shows.\n",
        "* Check for similarities / differences between TV and movie ratings.\n",
        "* Interpert what every rating means.\n",
        "* Decide on new rating categories and change accordingly"
      ],
      "metadata": {
        "id": "NBGfVKdo2syK"
      }
    },
    {
      "cell_type": "markdown",
      "source": [
        "We decided to categorize the different ratings based on CONTENT (and not AGE). From our understanding, there are 6 content categories in which we want to divide the ratings by:\n",
        "\n",
        "* Kids\n",
        "* All Ages\n",
        "* Teens\n",
        "* Brief Violence/Nude\n",
        "* Adult Content\n",
        "* Unrated"
      ],
      "metadata": {
        "id": "dtn_0UCx260w"
      }
    },
    {
      "cell_type": "markdown",
      "source": [
        "# **Classifying the 'rating' feature into three categories. (Kids, Teenagers, Adults)**\n",
        "\n",
        "In Kids:\n",
        "\n",
        "TV-Y,\n",
        "TV-Y7,\n",
        "TV-Y7-FV,\n",
        "G,\n",
        "TV-G,\n",
        "PG,\n",
        "TV-PG,  \n",
        "In Teenagers:\n",
        "\n",
        "PG-13,\n",
        "TV-14,  \n",
        "In Adults:\n",
        "\n",
        "TV-MA,\n",
        "R,\n",
        "NC-17,\n",
        "NR,\n",
        "UR"
      ],
      "metadata": {
        "id": "J1kpK8pT3ICH"
      }
    },
    {
      "cell_type": "code",
      "source": [
        "# change the rating in kids, teenager, adult\n",
        "rating_cleaning = {\n",
        "    'TV-PG': 'Older Kids',\n",
        "    'TV-MA': 'Adults',\n",
        "    'TV-Y7-FV': 'Older Kids',\n",
        "    'TV-Y7': 'Older Kids',\n",
        "    'TV-14': 'Teens',\n",
        "    'R': 'Adults',\n",
        "    'TV-Y': 'Kids',\n",
        "    'NR': 'Adults',\n",
        "    'PG-13': 'Teens',\n",
        "    'TV-G': 'Kids',\n",
        "    'PG': 'Older Kids',\n",
        "    'G': 'Kids',\n",
        "    'UR': 'Adults',\n",
        "    'NC-17': 'Adults'\n",
        "}\n",
        "movies_df['rating_clean'] = movies_df['rating'].replace(to_replace = rating_cleaning)\n",
        "movies_df['rating_clean'].unique()"
      ],
      "metadata": {
        "id": "bqAnp1km2sSk"
      },
      "execution_count": null,
      "outputs": []
    },
    {
      "cell_type": "code",
      "source": [
        "#Next task is to replace all NaN values with \"Not Available\"\n",
        "movies_df = movies_df.fillna(\"Not Available\")"
      ],
      "metadata": {
        "id": "fAKa24YL2ad9"
      },
      "execution_count": null,
      "outputs": []
    },
    {
      "cell_type": "markdown",
      "source": [
        "**\"Listed In\"**: We did notice something odd in listed_in column. Values like \"International TV Show\" or \"International Movie\" are not genres. These are types of content. So, let's split all the \"International\" to a different column, and remove them from \""
      ],
      "metadata": {
        "id": "m0w67Yw05Gkx"
      }
    },
    {
      "cell_type": "code",
      "source": [
        "movies_df['international'] = movies_df['listed_in'].apply(lambda x: \"International\" in x)\n",
        "movies_df['listed_in'] = movies_df['listed_in'].apply(lambda x:x.split(\", \"))\n",
        "movies_df[(movies_df['type'] =='TV Show') & (movies_df['international']=='True')]['listed_in'].apply(lambda x: x.remove(\"International TV Shows\"))\n",
        "movies_df[(movies_df['type'] == 'Movies') & (movies_df['international']=='True')]['listed_in'].apply(lambda x:x.remove(\"International Movies\"))\n",
        "movies_df['listed_in'] = movies_df['listed_in'].apply(lambda x:\", \".join(x))"
      ],
      "metadata": {
        "id": "fFeYoInK5GFL"
      },
      "execution_count": null,
      "outputs": []
    },
    {
      "cell_type": "markdown",
      "source": [
        "Let fix the data type of the features"
      ],
      "metadata": {
        "id": "fyAeWgII8TPe"
      }
    },
    {
      "cell_type": "code",
      "source": [
        "# type should be a category\n",
        "movies_df['type']= pd.Categorical(movies_df['type'])\n",
        "\n",
        "# change the rating_clean\n",
        "movies_df['rating_clean'] = pd.Categorical(movies_df['rating_clean'], categories = ['Kids','Older Kids','Teens','Adults'])"
      ],
      "metadata": {
        "id": "79X87ajP8Sxx"
      },
      "execution_count": null,
      "outputs": []
    },
    {
      "cell_type": "markdown",
      "source": [
        "## **Handling Comma Separated Values**"
      ],
      "metadata": {
        "id": "4rjfw8sW9n-v"
      }
    },
    {
      "cell_type": "code",
      "source": [
        "movies_df.head(2)"
      ],
      "metadata": {
        "id": "MissJRvc96U3"
      },
      "execution_count": null,
      "outputs": []
    },
    {
      "cell_type": "markdown",
      "source": [
        "we can see that cast,director,country,listed in variable are the comma separated value"
      ],
      "metadata": {
        "id": "E_tP_i0s-BDk"
      }
    },
    {
      "cell_type": "code",
      "source": [
        "comma_columns = ['cast','director','country','listed_in']\n",
        "for column in comma_columns:\n",
        "  if len(movies_df[movies_df[column].str. startswith(\",\")]) > 0:\n",
        "    print(\"In column:\",column,\"there are bad entries that BEGIN with a comma\")\n",
        "  if len(movies_df[movies_df[column].str. endswith(\",\")]) > 0:\n",
        "    print(\"In column:\",column,\"there are bad entries that END with a comma\")\n",
        "  if len(movies_df[movies_df[column] == ''])>0:\n",
        "    print(\"In column:\",column,\"there are bad entries that CONTAIN empty values ''\")\n",
        "\n",
        "    "
      ],
      "metadata": {
        "id": "tIu0MLOp-ZFk"
      },
      "execution_count": null,
      "outputs": []
    },
    {
      "cell_type": "code",
      "source": [
        "movies_df[movies_df['country'].str.endswith(\",\")]"
      ],
      "metadata": {
        "id": "_OFseNskAmUB"
      },
      "execution_count": null,
      "outputs": []
    },
    {
      "cell_type": "markdown",
      "source": [
        "There are only four rows'country. In which comma .let's remove the comma"
      ],
      "metadata": {
        "id": "wqc5SbQtCYNQ"
      }
    },
    {
      "cell_type": "code",
      "source": [
        "movies_df.loc[1402,'country'] = 'United States'\n",
        "movies_df.loc[2315,'country'] = 'France, Belgium, Luxembourg, Cambodia'\n",
        "movies_df.loc[2827,'country'] = 'Poland'\n",
        "movies_df.loc[7433,'country'] = 'United Kingdom'"
      ],
      "metadata": {
        "id": "BrV89t9nEKKP"
      },
      "execution_count": null,
      "outputs": []
    },
    {
      "cell_type": "code",
      "source": [
        "movies_df[movies_df['country'].str.endswith(\",\")]"
      ],
      "metadata": {
        "id": "SK8znoj8DxDc"
      },
      "execution_count": null,
      "outputs": []
    },
    {
      "cell_type": "code",
      "source": [
        "movies_df['country'][1402]"
      ],
      "metadata": {
        "id": "a4josnr5EE8f"
      },
      "execution_count": null,
      "outputs": []
    },
    {
      "cell_type": "code",
      "source": [
        "#movies_df['date_added'] = pd.to_datetime(movies_df['date_added'])"
      ],
      "metadata": {
        "id": "INHXb4UtHOQV"
      },
      "execution_count": null,
      "outputs": []
    },
    {
      "cell_type": "code",
      "source": [
        "movies_df.dtypes"
      ],
      "metadata": {
        "id": "PHPWLpv0Hj2N"
      },
      "execution_count": null,
      "outputs": []
    },
    {
      "cell_type": "code",
      "source": [
        "movies_df.shape"
      ],
      "metadata": {
        "id": "haPU1m_QHtBs"
      },
      "execution_count": null,
      "outputs": []
    },
    {
      "cell_type": "markdown",
      "source": [
        "## ***4. Data Vizualization, Storytelling & Experimenting with charts : Understand the relationships between variables***"
      ],
      "metadata": {
        "id": "GF8Ens_Soomf"
      }
    },
    {
      "cell_type": "markdown",
      "source": [
        "#### Chart - 1"
      ],
      "metadata": {
        "id": "0wOQAZs5pc--"
      }
    },
    {
      "cell_type": "markdown",
      "source": [
        "Lets Check value counts of type with help of chart"
      ],
      "metadata": {
        "id": "LYZ3DLIYAJUN"
      }
    },
    {
      "cell_type": "code",
      "source": [
        "# Plotting graph for type\n",
        "labels = ['Movie','TV_Show']\n",
        "fig = px.pie(movies_df['type'], values=movies_df['type'].value_counts(),\n",
        "             names = labels,\n",
        "             color = labels,\n",
        "             color_discrete_map={'Movie':'red','TV_Show':'Black'},\n",
        "             hole = 0.4,width = 550,height=400)\n",
        "fig.show()"
      ],
      "metadata": {
        "id": "7v_ESjsspbW7"
      },
      "execution_count": null,
      "outputs": []
    },
    {
      "cell_type": "markdown",
      "source": [
        "## Netflix has 69% of its content as movies\n",
        "\n",
        "## Movies are clearly more popular on Netflix than TV shows."
      ],
      "metadata": {
        "id": "XESiWehPqBRc"
      }
    },
    {
      "cell_type": "markdown",
      "source": [
        "#### Chart - 2"
      ],
      "metadata": {
        "id": "KSlN3yHqYklG"
      }
    },
    {
      "cell_type": "markdown",
      "source": [
        "### CountPlot for Rating"
      ],
      "metadata": {
        "id": "wkK32qnuJw-T"
      }
    },
    {
      "cell_type": "code",
      "source": [
        "# Movie Rating Analysis\n",
        "plt.figure(figsize=(10,8))\n",
        "sns.set(style=\"darkgrid\")\n",
        "sns.set(style=\"ticks\")\n",
        "ax = sns.countplot(x=\"rating\" ,data=movies_df,palette=[\"red\"],order=movies_df['rating'].value_counts().index[0:15],edgecolor=\"black\")"
      ],
      "metadata": {
        "id": "R4YgtaqtYklH"
      },
      "execution_count": null,
      "outputs": []
    },
    {
      "cell_type": "markdown",
      "source": [
        "## TV-MA is the most given rating then TV-14.That means most of the shows are for adults."
      ],
      "metadata": {
        "id": "5aaW0BYyYklI"
      }
    },
    {
      "cell_type": "markdown",
      "source": [
        "#### Chart - 3"
      ],
      "metadata": {
        "id": "EM7whBJCYoAo"
      }
    },
    {
      "cell_type": "markdown",
      "source": [
        "### **Countplot for releases over years**"
      ],
      "metadata": {
        "id": "h0ZAHAnzLhFn"
      }
    },
    {
      "cell_type": "code",
      "source": [
        "# Year wise analysis\n",
        "plt.figure(figsize=(10,8))\n",
        "sns.set(style=\"darkgrid\")\n",
        "sns.set(style=\"ticks\")\n",
        "ax = sns.countplot(x=\"release_year\", data= movies_df, palette=[\"red\"],order = movies_df['release_year'].value_counts().index[0:10],edgecolor='Black')"
      ],
      "metadata": {
        "id": "t6GMdE67YoAp"
      },
      "execution_count": null,
      "outputs": []
    },
    {
      "cell_type": "markdown",
      "source": [
        "## We can see after 2014 there is growth in the amount of content added."
      ],
      "metadata": {
        "id": "vmKdnk0lNDV2"
      }
    },
    {
      "cell_type": "markdown",
      "source": [
        "## Top 10 genres for Movies/Shows on Netflix"
      ],
      "metadata": {
        "id": "R9M6Q_LTPf6Y"
      }
    },
    {
      "cell_type": "code",
      "source": [
        "plt.figure(figsize=(10,8))\n",
        "sns.barplot(x = movies_df[\"listed_in\"].value_counts().head(10).index,\n",
        "            y = movies_df[\"listed_in\"].value_counts().head(10).values,palette=[\"red\"],edgecolor=\"Black\")\n",
        "plt.xticks(rotation=80)\n",
        "plt.title(\"Top 10 Genre\",size=16,fontweight= \"bold\")\n",
        "plt.show()"
      ],
      "metadata": {
        "id": "9JAizTezNG_a"
      },
      "execution_count": null,
      "outputs": []
    },
    {
      "cell_type": "markdown",
      "source": [
        "## This Documentation shows the Top 10 Genre in the Netflix . Documentaries and Stand up Comedy are the most watched Genres."
      ],
      "metadata": {
        "id": "NwrgBxd_NIlS"
      }
    },
    {
      "cell_type": "markdown",
      "source": [
        "#### Chart - 4"
      ],
      "metadata": {
        "id": "4Of9eVA-YrdM"
      }
    },
    {
      "cell_type": "markdown",
      "source": [
        "###**Top 20 Actors with most number of movies/shows on Netflix:**"
      ],
      "metadata": {
        "id": "mONZiZTjSeim"
      }
    },
    {
      "cell_type": "code",
      "source": [
        "# Top 20 actors netflix\n",
        "movies_df['cast_name'] = movies_df['cast'].apply(lambda x :  x.split(',')) \n",
        "cast_count = []\n",
        "for i in movies_df['cast_name']: cast_count += i\n",
        "cast_dict = dict((i, cast_count.count(i)) for i in cast_count)\n",
        "df_cast_count = pd.DataFrame(cast_dict.values(),cast_dict.keys()).reset_index().sort_values(0,ascending=False).rename(\n",
        "    columns = {'index' : 'cast_name', 0 : 'count'}).iloc[1:21]\n",
        "plt.figure(figsize=(15,5))\n",
        "sns.barplot(x='cast_name',y='count',data=df_cast_count,palette=[\"red\"],edgecolor=\"black\")\n",
        "plt.title(\"Top-20 ACTORS on Netflix\",size='16',fontweight=\"bold\")\n",
        "plt.xticks(rotation=90)\n",
        "plt.show()"
      ],
      "metadata": {
        "id": "irlUoxc8YrdO"
      },
      "execution_count": null,
      "outputs": []
    },
    {
      "cell_type": "markdown",
      "source": [
        "## This chart show the Top 20 Actor with most number of Movie/Show on Netflix\n",
        "\n"
      ],
      "metadata": {
        "id": "aJRCwT6DYrdO"
      }
    },
    {
      "cell_type": "markdown",
      "source": [
        "* We can see Anupam Kher, Takahiro Sakurai, Shah Rukh Khan, Om Puri,Boman Irani are among the top 5 actors worked on shows/movies on Netflix.\n",
        "* Majority of Netflix movies are having Indian actors.In this list, we can see that the most popular actors on Netflix based on the number of titles are international as well"
      ],
      "metadata": {
        "id": "Xx8WAJvtYrdO"
      }
    },
    {
      "cell_type": "markdown",
      "source": [
        "#### Chart - 5"
      ],
      "metadata": {
        "id": "bamQiAODYuh1"
      }
    },
    {
      "cell_type": "markdown",
      "source": [
        "# Country wise content for top countries"
      ],
      "metadata": {
        "id": "PQdgVJ59VVpZ"
      }
    },
    {
      "cell_type": "code",
      "source": [
        "# Chart - 5 visualization code\n",
        "all_country = movies_df.groupby(['country','type']).count()['show_id'].reset_index()\n",
        "all_country.head()"
      ],
      "metadata": {
        "id": "TIJwrbroYuh3"
      },
      "execution_count": null,
      "outputs": []
    },
    {
      "cell_type": "code",
      "source": [
        "country_count = {}\n",
        "for i in range(len(all_country)):\n",
        "  l = all_country['country'][i].split(', ')\n",
        "  for x in l:\n",
        "     x = re.sub('[^A-Za-z0-9 ]+', '', x)\n",
        "     if x not in country_count.keys():\n",
        "            country_count[x] = all_country['show_id'][i]\n",
        "     else:\n",
        "            country_count[x] += all_country['show_id'][i]\n",
        "country_df = pd.DataFrame(list(zip(country_count.keys(), country_count.values())), columns =['country', 'count']) \n",
        "\n",
        "d = country_df.sort_values(by=['count'], ascending=False).head(10)\n",
        "# .plot.bar(x='country',y='count',edgecolor='black')\n",
        "fig = px.bar(d, x='country',y='count')\n",
        "fig.update_traces(marker_color='red', marker_line_color='black',marker_line_width=2, opacity=1)\n",
        "fig.update_layout(title='Content produced country wise')\n",
        "fig.show()\n",
        "top_30 = country_df.sort_values(by=['count'], ascending=False)['country'].head(30)"
      ],
      "metadata": {
        "id": "-av0j8y2WBrN"
      },
      "execution_count": null,
      "outputs": []
    },
    {
      "cell_type": "markdown",
      "source": [
        " ## United State and India has the most number of content.\n",
        " ## After that UK and that country which name are not available in the data"
      ],
      "metadata": {
        "id": "90GrrDVeOder"
      }
    },
    {
      "cell_type": "markdown",
      "source": [
        "#### Chart - 6"
      ],
      "metadata": {
        "id": "OH-pJp9IphqM"
      }
    },
    {
      "cell_type": "markdown",
      "source": [
        "## **Country Vs Director**"
      ],
      "metadata": {
        "id": "sy83WP8Fa-43"
      }
    },
    {
      "cell_type": "code",
      "source": [
        "def convertListToString(s):\n",
        "  return ' '.join([str(elem) for elem in s])\n",
        "\n",
        "movies_df['director']=movies_df['director'].apply(lambda x:convertListToString(x))"
      ],
      "metadata": {
        "id": "FeK0ViIibD7e"
      },
      "execution_count": null,
      "outputs": []
    },
    {
      "cell_type": "code",
      "source": [
        "#word cloud for user rating review\n",
        "def func_select_Category(category_name,category_column,column_of_choice):\n",
        "  df_word_cloud = movies_df[[category_column,column_of_choice]].dropna()\n",
        "  df_word_cloud = df_word_cloud[df_word_cloud[category_column]==category_name]\n",
        "  text = \" \".join(word for word in df_word_cloud[column_of_choice])\n",
        "  # Create stopword list:\n",
        "  stopwords = set(STOPWORDS)\n",
        "  # Generate a word cloud image\n",
        "  wordcloud = WordCloud(stopwords=stopwords, background_color=\"black\").generate(text)\n",
        "  # Display the generated image:\n",
        "  # the matplotlib way:\n",
        "  plt.figure( figsize=(8,8), facecolor='white' )\n",
        "  plt.imshow(wordcloud, interpolation='bilinear')\n",
        "  plt.axis(\"off\")\n",
        "  plt.show()"
      ],
      "metadata": {
        "id": "Fj0uhXP0bLiP"
      },
      "execution_count": null,
      "outputs": []
    },
    {
      "cell_type": "code",
      "source": [
        "for i in ['India','United Kingdom','United States']:\n",
        "  func_select_Category(i,'country','cast')"
      ],
      "metadata": {
        "id": "a3NAcGs1brGS"
      },
      "execution_count": null,
      "outputs": []
    },
    {
      "cell_type": "markdown",
      "source": [
        "* In India we can see  Shah Rukh Khan, Naseeruddin Shah, Kareena Kapoor, Anupam Kher and many more.\n",
        "* In UK we can see John, James, David, Katherine and many more.\n",
        "* In US we can see Michael, Tom Adam, Scott, William,David, James and many more."
      ],
      "metadata": {
        "id": "qFpJvp-UO3la"
      }
    },
    {
      "cell_type": "code",
      "source": [
        "for i in ['India','United Kingdom','United States']:\n",
        "  func_select_Category(i,'country','listed_in')"
      ],
      "metadata": {
        "id": "UGrJKTI6b5in"
      },
      "execution_count": null,
      "outputs": []
    },
    {
      "cell_type": "markdown",
      "source": [
        "* Most of the Comedy, Thriller, Romantic, International Movies is watched in India\n",
        "* In UK International Show , Crime TV, International Tv  is watched on NetFlix\n",
        "* IN US most of the Action , Adventure, Drama Movie, Sports Movie,Horror Movies, romantic Movies is watched on NetFlix\n",
        "\n",
        "\n"
      ],
      "metadata": {
        "id": "tgu6jTX7QTim"
      }
    },
    {
      "cell_type": "code",
      "source": [
        "from wordcloud import WordCloud, STOPWORDS\n",
        "\n",
        "text = ' '.join(movies_df['description'])\n",
        "\n",
        "plt.rcParams['figure.figsize'] = (10,10)\n",
        "wordcloud = WordCloud(background_color = 'black',colormap='vlag', width = 1500,  height = 1500, max_words = 121).generate(text)\n",
        "plt.imshow(wordcloud)\n",
        "plt.axis('off')\n",
        "plt.show()"
      ],
      "metadata": {
        "id": "kEALYYNTcIKe"
      },
      "execution_count": null,
      "outputs": []
    },
    {
      "cell_type": "markdown",
      "source": [
        " This wordCloud chart show the word repeated in description like Family, Life New Love etc \n",
        "\n",
        " It means most of the Movie/Show story based on Family, murder,love,Friend,Team,daughter etc\n",
        "\n"
      ],
      "metadata": {
        "id": "VECbqPI7phqN"
      }
    },
    {
      "cell_type": "markdown",
      "source": [
        "#### Chart - 7"
      ],
      "metadata": {
        "id": "PIIx-8_IphqN"
      }
    },
    {
      "cell_type": "markdown",
      "source": [
        "## **Is Netflix has increasingly focusing on Movies rather than TV Shows in recent years.?**\n",
        "\n",
        "## **lets Check**"
      ],
      "metadata": {
        "id": "wfW0Z0X9U_kt"
      }
    },
    {
      "cell_type": "code",
      "source": [
        "# Chart subsetting data for visualisation\n",
        "d1 = movies_df[movies_df[\"type\"] == \"TV Show\"]\n",
        "d2 = movies_df[movies_df[\"type\"] == \"Movie\"]\n",
        "\n",
        "col = \"release_year\"\n",
        "\n",
        "vc1 = d1[col].value_counts().reset_index()\n",
        "vc1 = vc1.rename(columns = {col : \"count\", \"index\" : col})\n",
        "vc1['percent'] = vc1['count'].apply(lambda x : 100*x/sum(vc1['count']))\n",
        "vc1 = vc1.sort_values(col)\n",
        "\n",
        "vc2 = d2[col].value_counts().reset_index()\n",
        "vc2 = vc2.rename(columns = {col : \"count\", \"index\" : col})\n",
        "vc2['percent'] = vc2['count'].apply(lambda x : 100*x/sum(vc2['count']))\n",
        "vc2 = vc2.sort_values(col)\n",
        "\n",
        "trace1 = go.Scatter(\n",
        "                    x=vc1[col], \n",
        "                    y=vc1[\"count\"], \n",
        "                    name=\"TV Shows\", \n",
        "                    marker=dict(color = 'rgb(249, 6, 6)',\n",
        "                             line=dict(color='rgb(0,0,0)',width=1.5)))\n",
        "\n",
        "trace2 = go.Scatter(\n",
        "                    x=vc2[col], \n",
        "                    y=vc2[\"count\"], \n",
        "                    name=\"Movies\", \n",
        "                    marker= dict(color = 'rgb(255, 255, 255)',\n",
        "                              line=dict(color='rgb(0,0,0)',width=1.5)))\n",
        "layout = go.Layout(hovermode= 'closest', title = 'Content added over the years' , xaxis = dict(title = 'Year'), yaxis = dict(title = 'Count'),template= \"plotly_dark\")\n",
        "fig = go.Figure(data = [trace1, trace2], layout=layout)\n",
        "fig.show(renderer='colab')"
      ],
      "metadata": {
        "id": "lqAIGUfyphqO"
      },
      "execution_count": null,
      "outputs": []
    },
    {
      "cell_type": "markdown",
      "source": [
        "##### 2. What is/are the insight(s) found from the chart?"
      ],
      "metadata": {
        "id": "r2jJGEOYphqO"
      }
    },
    {
      "cell_type": "markdown",
      "source": [
        "# **Yes**\n",
        "\n",
        "* Netflix has increasingly focusing on Movies rather than TV Shows from 2000.\n",
        "* whiteline indicate the movies and red line indicate the TV Shows \n",
        "* From 2020 movies rapidly increase rather than Shows "
      ],
      "metadata": {
        "id": "Po6ZPi4hphqO"
      }
    },
    {
      "cell_type": "code",
      "source": [
        "movies_df.sample()"
      ],
      "metadata": {
        "id": "1AylmBBA4JAM"
      },
      "execution_count": null,
      "outputs": []
    },
    {
      "cell_type": "markdown",
      "source": [
        "## ***5. Hypothesis Testing***"
      ],
      "metadata": {
        "id": "g-ATYxFrGrvw"
      }
    },
    {
      "cell_type": "markdown",
      "source": [
        "**Null Hypothesis**- All the price range group are similar according to the ram\n",
        "\n",
        "**Alternative Hypothesis** - All the price range group are not similar according to the ram\n",
        "\n",
        "In this hypothesis, we will check whether two or more categories of price ranges are similar or not based on their means similiarity and F score .\n",
        "\n",
        "There are four different category of price ranges and their ram and other variables are given so we need to check all the basis of ram that all the three groups are similar or not."
      ],
      "metadata": {
        "id": "kQIMSKLPECA-"
      }
    },
    {
      "cell_type": "markdown",
      "source": [
        "## ***6. Feature Engineering & Data Pre-processing***"
      ],
      "metadata": {
        "id": "yLjJCtPM0KBk"
      }
    },
    {
      "cell_type": "markdown",
      "source": [
        "### 1. **Text Classification**"
      ],
      "metadata": {
        "id": "xiyOF9F70UgQ"
      }
    },
    {
      "cell_type": "markdown",
      "source": [
        "Text clarification is the process of categorizing the text into a group of words. By using NLP, text classification can automatically analyze text and then assign a set of predefined tags or categories based on its context. NLP is used for sentiment analysis, topic detection, and language detection."
      ],
      "metadata": {
        "id": "CAKTiEsCffL0"
      }
    },
    {
      "cell_type": "code",
      "source": [
        "movies_df.dtypes"
      ],
      "metadata": {
        "id": "R_k6lW-oftW5"
      },
      "execution_count": null,
      "outputs": []
    },
    {
      "cell_type": "markdown",
      "source": [
        "### 3. Categorical Encoding\n",
        "\n",
        "First, we transform column data to a list so that we can do suitable actions in columns. Then we find the unique cast, directors, and genres for these columns."
      ],
      "metadata": {
        "id": "89xtkJwZ18nB"
      }
    },
    {
      "cell_type": "code",
      "source": [
        "# Encode your categorical columns\n",
        "movies_df.country = movies_df.country.str.split(',')\n",
        "movies_df.loc[:, 'country'] = movies_df.country.map(lambda x: x[0])\n",
        "\n",
        "#Taking the primary director into account for each record and not the others\n",
        "movies_df.director = movies_df.director.str.split(',')\n",
        "movies_df.loc[:, 'director'] = movies_df.director.map(lambda x: x[0])\n",
        "\n",
        "#Taking the primary cast member into account for each record and not the others\n",
        "movies_df.cast = movies_df.cast.str.split(',')\n",
        "movies_df.loc[:, 'cast'] = movies_df.cast.map(lambda x: x[0])\n"
      ],
      "metadata": {
        "id": "21JmIYMG2hEo"
      },
      "execution_count": null,
      "outputs": []
    },
    {
      "cell_type": "code",
      "source": [
        "movies_df[\"combined_text_feat\"] =movies_df['listed_in'].astype(str) + \" \" + movies_df['description'].astype(str) + \" \" + movies_df['type'].astype(str) + \" \"  + movies_df['country'].astype(str) + \" \" + movies_df['cast'].astype(str) + \" \" + movies_df['rating'].astype(str)"
      ],
      "metadata": {
        "id": "L_qWvwG0gb4x"
      },
      "execution_count": null,
      "outputs": []
    },
    {
      "cell_type": "markdown",
      "source": [
        "### 4. Textual Data Preprocessing \n",
        "(It's mandatory for textual dataset i.e., NLP, Sentiment Analysis, Text Clustering etc.)"
      ],
      "metadata": {
        "id": "Iwf50b-R2tYG"
      }
    },
    {
      "cell_type": "markdown",
      "source": [
        "In any Machine learning task, cleaning or preprocessing the data is as important as model building. Text data is one of the most unstructured forms of available data and when comes to deal with Human language then it’s too complex.\n",
        "\n",
        "* Text Preprocessing Techniques\n",
        "* Lower Case\n",
        "* Remove Punctuations\n",
        "* Remove words and digits containing digits\n",
        "* Remove Stopwords\n",
        "* Rephrase Text\n",
        "* Stemming and Lemmatization\n",
        "* Remove White spaces"
      ],
      "metadata": {
        "id": "oHXuzKMeg5-i"
      }
    },
    {
      "cell_type": "markdown",
      "source": [
        "# **Count Vectorizer**\n",
        "Machines cannot understand characters and words. So when dealing with text data we need to represent it in numbers to be understood by the machine. Countvectorizer is a method to convert text to numerical data.\n",
        "\n",
        "# **TF-IDF Vectorizer**\n",
        "Term frequency-inverse document frequency is a text vectorizer that transforms the text into a usable vector. It combines 2 concepts, Term Frequency (TF) and Document Frequency (DF).\n",
        "\n",
        "\n"
      ],
      "metadata": {
        "id": "niIWmWGGhKC_"
      }
    },
    {
      "cell_type": "markdown",
      "source": [
        "#### 1. Expand Contraction"
      ],
      "metadata": {
        "id": "GMQiZwjn3iu7"
      }
    },
    {
      "cell_type": "code",
      "source": [
        "# Expand Contraction\n",
        "def remove_punctuation(text):\n",
        "    '''a function for removing punctuation'''\n",
        "    import string\n",
        "    # replacing the punctuations with no space, \n",
        "    # which in effect deletes the punctuation marks \n",
        "    translator = str.maketrans('', '', string.punctuation)\n",
        "    # return the text stripped of punctuation marks\n",
        "    return text.translate(translator)\n",
        "def count_vectorizer_func(feature):\n",
        "  # Create a count vectorizer object\n",
        "  count_vectorizer = CountVectorizer()\n",
        "  # fit the count vectorizer using the text data\n",
        "  count_vectorizer.fit(movies_df[feature])\n",
        "  # Collect the vocabulary items used in the vectorizer\n",
        "  dictionary = count_vectorizer.vocabulary_.items()\n",
        "  return dictionary\n",
        "\n",
        "def vocab_func(dictionary):\n",
        "  vocab = [ ]\n",
        "  count_of_vocab = []\n",
        "  for key , value in dictionary:\n",
        "    vocab.append( key )\n",
        "    count_of_vocab.append( value )\n",
        "  # Store the count in panadas dataframe with vocab as index\n",
        "  vocab_before_stemming = pd.DataFrame({\"Word\": vocab ,\n",
        "                                      \"count\" :count_of_vocab})\n",
        "  # Sort the dataframe\n",
        "  vocab_before_stemming = vocab_before_stemming.sort_values(\"count\" ,ascending=False)\n",
        "  return vocab_before_stemming\n",
        "\n",
        "\n",
        "#Removing stopwords\n",
        "# extracting the stopwords from nltk library\n",
        "from nltk.stem import PorterStemmer\n",
        "\n",
        "import re\n",
        "import nltk\n",
        "\n",
        "nltk.download('stopwords')\n",
        "nltk.download('punkt')\n",
        "\n",
        "from nltk.corpus import stopwords\n",
        "sw = nltk.corpus.stopwords.words('english')\n",
        "# displaying the stopwords\n",
        "for i in sw:\n",
        "  print(i , end=',  ')\n",
        "\n",
        "def remove_stopwords(text):\n",
        "    '''a function for removing the stopword'''\n",
        "    # removing the stop words and lowercasing the selected words\n",
        "    #Method 1\n",
        "    text1 = [word.lower() for word in text.split() if word.lower() not in sw]\n",
        "    # joining the list of words with space separator\n",
        "    return \" \".join(text1)\n",
        "\n",
        "\n",
        "def clean_text(inp_str):\n",
        "\n",
        "    # Lowercase text\n",
        "    inp_str = inp_str.lower() \n",
        "\n",
        "    # Replace REPLACE_BY_SPACE_RE symbols by space in text\n",
        "    inp_str = REPLACE_BY_SPACE_RE.sub(' ', inp_str) \n",
        "    \n",
        "    # Remove the XXXX values\n",
        "    inp_str = inp_str.replace('x', '') \n",
        "    \n",
        "    # Remove white space\n",
        "    inp_str = REMOVE_NUM.sub('', inp_str)\n",
        "\n",
        "    # Remove symbols which are in BAD_SYMBOLS_RE from text\n",
        "    inp_str = BAD_SYMBOLS_RE.sub('', inp_str) \n",
        "\n",
        "    # Remove stopwords from text\n",
        "    inp_str = ' '.join(word for word in inp_str.split() if word not in STOPWORDS) \n",
        "    \n",
        "    # Remove any words composed of less than 2 or more than 21 letters\n",
        "    inp_str = ' '.join(word for word in inp_str.split() if (len(word) >= 2 and len(word) <= 21))\n",
        "\n",
        "    # Stemming the words\n",
        "    inp_str = ' '.join([stemmer.stem(word) for word in inp_str.split()])\n",
        "    return inp_str\n",
        "\n",
        "import re\n",
        "def cleaned(x):\n",
        "    return re.sub(r\"[^a-zA-Z ]\",\"\",str(x))\n",
        "\n",
        "\n",
        "from nltk.tokenize import word_tokenize\n",
        "from nltk.stem.snowball import SnowballStemmer\n",
        "\n",
        "def wordfilter(string, filtwords):\n",
        "    filtered = []\n",
        "    tokens = word_tokenize(string) \n",
        "    for word in tokens:\n",
        "        if word not in filtwords:\n",
        "            filtered.append(stemmer.stem(word))\n",
        "    return filtered\n",
        "\n",
        "def join_words(x):\n",
        "  return \" \".join(x)\n",
        "\n",
        "\n",
        "def Apply_stemming(text):    \n",
        "    '''a function which stems each word in the given text'''\n",
        "    text = [stemmer.stem(word) for word in text.split()]\n",
        "    return \" \".join(text)\n",
        "\n",
        "def Tf_IDF_Vectorizer_func(feature):\n",
        "  # Create the object of tfid vectorizer\n",
        "  tfid_vectorizer = TfidfVectorizer()\n",
        "\n",
        "  # Fit the vectorizer using the text data\n",
        "  tfid_vectorizer.fit(movies_df[feature])\n",
        "\n",
        "  # Collect the vocabulary items used in the vectorizer\n",
        "  dictionary = tfid_vectorizer.vocabulary_.items()\n",
        "  return dictionary"
      ],
      "metadata": {
        "id": "PTouz10C3oNN"
      },
      "execution_count": null,
      "outputs": []
    },
    {
      "cell_type": "markdown",
      "source": [
        "# REMOVE PUNCTUATION"
      ],
      "metadata": {
        "id": "5_0yjqkjiKd8"
      }
    },
    {
      "cell_type": "code",
      "source": [
        "movies_df['description'] = movies_df['description'].apply(remove_punctuation)\n",
        "movies_df.head()"
      ],
      "metadata": {
        "id": "BA4xJAQgh3WH"
      },
      "execution_count": null,
      "outputs": []
    },
    {
      "cell_type": "markdown",
      "source": [
        "#### 2. Lower Casing"
      ],
      "metadata": {
        "id": "WVIkgGqN3qsr"
      }
    },
    {
      "cell_type": "code",
      "source": [
        "# Lower Casing\n",
        "vocab_before_stemming = vocab_func(count_vectorizer_func('description'))\n",
        "vocab_before_stemming.head()"
      ],
      "metadata": {
        "id": "88JnJ1jN3w7j"
      },
      "execution_count": null,
      "outputs": []
    },
    {
      "cell_type": "code",
      "source": [
        "top15_most_ocurred_vocab = vocab_before_stemming.head(10)\n",
        "top15_most_occurred_words = top15_most_ocurred_vocab.Word.values \n",
        "top15_most_occurred_words"
      ],
      "metadata": {
        "id": "1ayX9shFjMmg"
      },
      "execution_count": null,
      "outputs": []
    },
    {
      "cell_type": "markdown",
      "source": [
        "#### Removing Stopwords & Removing White spaces"
      ],
      "metadata": {
        "id": "mT9DMSJo4nBL"
      }
    },
    {
      "cell_type": "code",
      "source": [
        "print(\"Number of stopwords in english:\", len(sw))"
      ],
      "metadata": {
        "id": "T2LSJh154s8W"
      },
      "execution_count": null,
      "outputs": []
    },
    {
      "cell_type": "markdown",
      "source": [
        "####  Text Normalization"
      ],
      "metadata": {
        "id": "9ExmJH0g5HBk"
      }
    },
    {
      "cell_type": "markdown",
      "source": [
        "## **Stemming** = Stemming is the process of reducing a word to its stem that affixes to suffixes and prefixes or to the roots of words\n",
        "\n",
        "## In other words Stemming operation bundles together words of same root. e.g. stem operation bundles \"response\" and \"respond\" into a common \"respon\"\n"
      ],
      "metadata": {
        "id": "6wevabtEHD9W"
      }
    },
    {
      "cell_type": "code",
      "source": [
        "# Remove White spaces\n",
        "stemmer = PorterStemmer()\n",
        "REPLACE_BY_SPACE_RE = re.compile('[/(){}\\[\\]\\|@,;]')\n",
        "BAD_SYMBOLS_RE = re.compile('[^0-9a-z #+_]')\n",
        "REMOVE_NUM = re.compile('[\\d+]')\n",
        "STOPWORDS = set(stopwords.words('english'))"
      ],
      "metadata": {
        "id": "EgLJGffy4vm0"
      },
      "execution_count": null,
      "outputs": []
    },
    {
      "cell_type": "code",
      "source": [
        "#applying the clean text funtion to the combined feature column for cleanup\n",
        "movies_df[\"combined_text_feat\"] = movies_df[\"combined_text_feat\"].apply(clean_text)\n",
        "movies_df[\"combined_text_feat\"]"
      ],
      "metadata": {
        "id": "CdpEpb0DkYys"
      },
      "execution_count": null,
      "outputs": []
    },
    {
      "cell_type": "code",
      "source": [
        "movies_df['filtered'] = movies_df['description'] + ' '+ movies_df['listed_in']"
      ],
      "metadata": {
        "id": "gUmrr3oJkmfO"
      },
      "execution_count": null,
      "outputs": []
    },
    {
      "cell_type": "code",
      "source": [
        "movies_df['filtered'] = movies_df['filtered'].apply(cleaned)"
      ],
      "metadata": {
        "id": "ORf_yRmKkwqs"
      },
      "execution_count": null,
      "outputs": []
    },
    {
      "cell_type": "code",
      "source": [
        "movies_df['filtered' ]= movies_df['filtered'].str.lower()"
      ],
      "metadata": {
        "id": "WkJf2wP-kwuN"
      },
      "execution_count": null,
      "outputs": []
    },
    {
      "cell_type": "code",
      "source": [
        "# Create an object of stemming function\n",
        "stemmer = SnowballStemmer('english')\n",
        "stop_words = set(stopwords.words('english'))"
      ],
      "metadata": {
        "id": "mws_lrinlDR4"
      },
      "execution_count": null,
      "outputs": []
    },
    {
      "cell_type": "code",
      "source": [
        "movies_df['filtered_new'] = ''\n",
        "for item, row in movies_df.iterrows():\n",
        "   movies_df.at[item, 'filtered_new'] = wordfilter(row['filtered'], stop_words)\n",
        "    \n",
        "movies_df['filtered_new']"
      ],
      "metadata": {
        "id": "tAT3jP0ClH0M"
      },
      "execution_count": null,
      "outputs": []
    },
    {
      "cell_type": "code",
      "source": [
        "movies_df['filtered_new'] = movies_df['filtered_new'].apply(join_words)"
      ],
      "metadata": {
        "id": "cOO62V0ClUU0"
      },
      "execution_count": null,
      "outputs": []
    },
    {
      "cell_type": "code",
      "source": [
        "#Stemming for description\n",
        "movies_df['description'] = movies_df['description'].apply( Apply_stemming )\n",
        "movies_df.head()"
      ],
      "metadata": {
        "id": "9iD8Cf77ld1W"
      },
      "execution_count": null,
      "outputs": []
    },
    {
      "cell_type": "markdown",
      "source": [
        "#### Text Vectorization"
      ],
      "metadata": {
        "id": "T0VqWOYE6DLQ"
      }
    },
    {
      "cell_type": "code",
      "source": [
        "# Vectorizing Text\n",
        "# Run TF IDF Vectorizer on the text data\n",
        "from sklearn.feature_extraction.text import TfidfVectorizer\n",
        "\n",
        "# sublinear_df is set to True to use a logarithmic form for frequency\n",
        "# min_df is the minimum numbers of documents a word must be present in to be kept\n",
        "# norm is set to l2, to ensure all our feature vectors have a euclidian norm of 1\n",
        "# ngram_range is set to (1, 2) to indicate that we want to consider both unigrams and bigrams\n",
        "# stop_words is set to \"english\" to remove all common pronouns (\"a\", \"the\", ...) to reduce the number of noisy features\n",
        "\n",
        "vectorizer = TfidfVectorizer(sublinear_tf= True, min_df=10, norm='l2', ngram_range=(1, 2), stop_words='english')\n",
        "X_vc = vectorizer.fit_transform(movies_df[\"combined_text_feat\"])\n",
        "\n",
        "pd.DataFrame(X_vc.toarray(), columns=vectorizer.get_feature_names()).head()"
      ],
      "metadata": {
        "id": "yBRtdhth6JDE"
      },
      "execution_count": null,
      "outputs": []
    },
    {
      "cell_type": "markdown",
      "source": [
        "##### tf-idf weight is product of two terms: the first term is the normalized Term Frequency (TF), aka. the number of times a word appears in a document, divided by the total number of words in that document; the second term is the Inverse Document Frequency (IDF), computed as the logarithm of the number of the documents in the corpus divided by the number of documents where the specific term appears.\n",
        "TF(t) = (Number of times term t appears in a document) / (Total number of terms in the document).\n",
        "IDF(t) = ![image.png](data:image/png;base64,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)\n",
        " \n"
      ],
      "metadata": {
        "id": "qBMux9mC6MCf"
      }
    },
    {
      "cell_type": "markdown",
      "source": [
        "###  Data Scaling"
      ],
      "metadata": {
        "id": "rMDnDkt2B6du"
      }
    },
    {
      "cell_type": "code",
      "source": [
        "# Scaling your data\n",
        "words = movies_df.filtered_new\n",
        "t_vectorizer = TfidfVectorizer(max_df = 0.9,min_df = 1, max_features=10000)\n",
        "X= t_vectorizer.fit_transform(words)\n",
        "X"
      ],
      "metadata": {
        "id": "dL9LWpySC6x_"
      },
      "execution_count": null,
      "outputs": []
    },
    {
      "cell_type": "code",
      "source": [
        "X.shape"
      ],
      "metadata": {
        "id": "nGzood1pmDDG"
      },
      "execution_count": null,
      "outputs": []
    },
    {
      "cell_type": "code",
      "source": [
        "vocab_after_stemming=vocab_func(count_vectorizer_func('description'))"
      ],
      "metadata": {
        "id": "vu3Dw6MamIzs"
      },
      "execution_count": null,
      "outputs": []
    },
    {
      "cell_type": "code",
      "source": [
        "top15_most_ocurred_vocab = vocab_after_stemming.head(15)"
      ],
      "metadata": {
        "id": "akNdcbp1mMxN"
      },
      "execution_count": null,
      "outputs": []
    },
    {
      "cell_type": "code",
      "source": [
        "movies_df['Length(description)'] = movies_df['description'].apply(lambda x: len(x))"
      ],
      "metadata": {
        "id": "fEjx7ZqupArK"
      },
      "execution_count": null,
      "outputs": []
    },
    {
      "cell_type": "code",
      "source": [
        "movies_df.description.iloc[0]"
      ],
      "metadata": {
        "id": "4HbJh9jZpFf5"
      },
      "execution_count": null,
      "outputs": []
    },
    {
      "cell_type": "code",
      "source": [
        "movies_df['listed_in'] = movies_df['listed_in'].apply(remove_punctuation)\n",
        "movies_df.head()"
      ],
      "metadata": {
        "id": "YYXKo9AfpMpI"
      },
      "execution_count": null,
      "outputs": []
    },
    {
      "cell_type": "code",
      "source": [
        "#Remove stopwords for listed_in(genres)\n",
        "movies_df['listed_in'] = movies_df['listed_in'].apply( remove_stopwords )\n",
        "movies_df.head()"
      ],
      "metadata": {
        "id": "aROc_gI_pYtG"
      },
      "execution_count": null,
      "outputs": []
    },
    {
      "cell_type": "code",
      "source": [
        "listed_in_vocab_before_stem=vocab_func(count_vectorizer_func('listed_in'))"
      ],
      "metadata": {
        "id": "TGTS3h85pisg"
      },
      "execution_count": null,
      "outputs": []
    },
    {
      "cell_type": "code",
      "source": [
        "listed_in_vocab_before_stem=vocab_func(count_vectorizer_func('listed_in'))"
      ],
      "metadata": {
        "id": "bc_IaeLCpmpm"
      },
      "execution_count": null,
      "outputs": []
    },
    {
      "cell_type": "code",
      "source": [
        "listed_in_vocab_before_stem"
      ],
      "metadata": {
        "id": "TJUxqoLOpwTm"
      },
      "execution_count": null,
      "outputs": []
    },
    {
      "cell_type": "code",
      "source": [
        "#SNOWBALL STEMMER FOR ENGLISH\n",
        "#Stemming for description\n",
        "movies_df['listed_in'] = movies_df['listed_in'].apply( Apply_stemming )\n",
        "movies_df.head()"
      ],
      "metadata": {
        "id": "5w4tZEJmp4po"
      },
      "execution_count": null,
      "outputs": []
    },
    {
      "cell_type": "code",
      "source": [
        "vocab_after_stemming_listed_in=vocab_func(Tf_IDF_Vectorizer_func('listed_in'))"
      ],
      "metadata": {
        "id": "KjOa8OzVqEpH"
      },
      "execution_count": null,
      "outputs": []
    },
    {
      "cell_type": "code",
      "source": [
        "movies_df['Length(listed_in)'] = movies_df['listed_in'].apply(lambda x: len(x))\n",
        "movies_df.head()"
      ],
      "metadata": {
        "id": "-TyP6kTzqwCe"
      },
      "execution_count": null,
      "outputs": []
    },
    {
      "cell_type": "code",
      "source": [
        "# fit StandardScaler\n",
        "\n",
        "X_features_rec = movies_df[['Length(description)','Length(listed_in)']]\n",
        "stdscaler = preprocessing.StandardScaler()\n",
        "X_features_rec.describe()"
      ],
      "metadata": {
        "id": "7ebyywQieS1U"
      },
      "execution_count": null,
      "outputs": []
    },
    {
      "cell_type": "code",
      "source": [
        "X_rescale=stdscaler.fit_transform(X_features_rec)\n",
        "X=X_rescale\n",
        "silhouette_score_ = [  ]\n",
        "range_n_clusters = [i for i in range(2,16)]"
      ],
      "metadata": {
        "id": "zRkajgo1rBS2"
      },
      "execution_count": null,
      "outputs": []
    },
    {
      "cell_type": "markdown",
      "source": [
        "##  **ML Model Implementation**"
      ],
      "metadata": {
        "id": "VfCC591jGiD4"
      }
    },
    {
      "cell_type": "markdown",
      "source": [
        "# **Clustering:**\n",
        "Clustering can be considered the most important unsupervised learning problem. So, as every other problem of this kind, it deals with finding a structure in a collection of unlabeled data. A loose definition of clustering could be “the process of organizing objects into groups whose members are similar in some way”.\n",
        "\n",
        "A cluster is therefore a collection of objects which are “similar” between them and are “dissimilar” to the objects belonging to other clusters.\n",
        "\n",
        "We have used 5 clustering algorithms:\n",
        "\n",
        "1.Silhouette score(KMeans)\n",
        "\n",
        "2.Elbow Method(KMeans)\n",
        "\n",
        "3.DBSCAN\n",
        "\n",
        "4.Dendrogram\n",
        "\n",
        "5.Agglomerative clustering"
      ],
      "metadata": {
        "id": "HijyVip_moK7"
      }
    },
    {
      "cell_type": "markdown",
      "source": [
        "# **KMEANS**\n",
        "K-Means Clustering is an Unsupervised Learning algorithm, which groups the unlabeled dataset into different clusters. Here K defines the number of pre-defined clusters that need to be created in the process, as if K=2, there will be two clusters, and for K=3, there will be three clusters, and so on.bold text"
      ],
      "metadata": {
        "id": "ZLDfaM2tmxYq"
      }
    },
    {
      "cell_type": "markdown",
      "source": [
        "# Model 1 : KMeans"
      ],
      "metadata": {
        "id": "WzBrMmTr6Pq1"
      }
    },
    {
      "cell_type": "code",
      "source": [
        "# fit KMeans Clustering algorithm in the dataset\n",
        "for n_clusters in range_n_clusters:\n",
        "    clusterer = KMeans(n_clusters=n_clusters)\n",
        "    preds = clusterer.fit_predict(X)\n",
        "    centers = clusterer.cluster_centers_\n",
        "\n",
        "    score = silhouette_score(X, preds)\n",
        "    silhouette_score_.append([int(n_clusters) , round(score , 2)])\n",
        "    print(\"For n_clusters = {}, silhouette score is {}\".format(n_clusters, score))"
      ],
      "metadata": {
        "id": "IYuW-DDarCu9"
      },
      "execution_count": null,
      "outputs": []
    },
    {
      "cell_type": "code",
      "source": [
        "# Lets K_cluster = 45\n",
        "k_clusters = 45"
      ],
      "metadata": {
        "id": "6CFmYTbcrVLG"
      },
      "execution_count": null,
      "outputs": []
    },
    {
      "cell_type": "code",
      "source": [
        "#Clustering the dataset with the optimal number of clusters\n",
        "model = KMeans(n_clusters=k_clusters, init='k-means++', n_init=10, max_iter=600, tol=0.000001, random_state=42)\n",
        "model.fit(X)"
      ],
      "metadata": {
        "id": "2TuNg7eMrS3_"
      },
      "execution_count": null,
      "outputs": []
    },
    {
      "cell_type": "markdown",
      "source": [
        "# Silhouette_Score"
      ],
      "metadata": {
        "id": "5hUyFytH623_"
      }
    },
    {
      "cell_type": "markdown",
      "source": [
        "# **Silhouette Score**\n",
        "Silhouette Coefficient or silhouette score is a metric used to calculate the goodness of a clustering technique. Its value ranges from -1 to 1.\n",
        "\n",
        "1: Means clusters are well apart from each other and clearly distinguished.\n",
        "\n",
        "0: Means clusters are indifferent, or we can say that the distance between clusters is not significant.\n",
        "\n",
        "-1: Means clusters are assigned in the wrong way."
      ],
      "metadata": {
        "id": "MCI5adBvm08j"
      }
    },
    {
      "cell_type": "code",
      "source": [
        "#Predict the clusters and evaluate the silhouette score\n",
        "clusters = model.predict(X)\n",
        "score = silhouette_score(X, clusters)\n",
        "print(\"Silhouette score is {}\".format(score))"
      ],
      "metadata": {
        "id": "kaYtSmJDrcE_"
      },
      "execution_count": null,
      "outputs": []
    },
    {
      "cell_type": "code",
      "source": [
        "#Adding a seperate column for the clusters\n",
        "movies_df[\"Cluster Label\"] = clusters\n",
        "movies_df.head()"
      ],
      "metadata": {
        "id": "Zn2P8ywgrgkn"
      },
      "execution_count": null,
      "outputs": []
    },
    {
      "cell_type": "code",
      "source": [
        "temp = pd.DataFrame(silhouette_score_ , columns = [\"n clusters\" , \"silhouette score\"])\n",
        "temp = temp.sort_values( \"silhouette score\" , ascending = False )\n",
        "temp.head(15)"
      ],
      "metadata": {
        "id": "Tdz1OPfrrou1"
      },
      "execution_count": null,
      "outputs": []
    },
    {
      "cell_type": "code",
      "source": [
        "range_n_clusters = [i for i in range(2,16)]\n",
        "\n",
        "for n_clusters in range_n_clusters:\n",
        "    # Create a subplot with 1 row and 2 columns\n",
        "    fig, (ax1, ax2) = plt.subplots(1, 2)\n",
        "    fig.set_size_inches(18, 7)\n",
        "\n",
        "    # The 1st subplot is the silhouette plot\n",
        "    # The silhouette coefficient can range from -1, 1 but in this example all\n",
        "    # lie within [-0.1, 1]\n",
        "    ax1.set_xlim([-0.1, 1])\n",
        "    # The (n_clusters+1)*10 is for inserting blank space between silhouette\n",
        "    # plots of individual clusters, to demarcate them clearly.\n",
        "    ax1.set_ylim([0, len(X) + (n_clusters + 1) * 10])\n",
        "\n",
        "    # Initialize the clusterer with n_clusters value and a random generator\n",
        "    # seed of 10 for reproducibility.\n",
        "    clusterer = KMeans(n_clusters=n_clusters, random_state=42)\n",
        "    cluster_labels = clusterer.fit_predict(X)\n",
        "\n",
        "    # The silhouette_score gives the average value for all the samples.\n",
        "    # This gives a perspective into the density and separation of the formed\n",
        "    # clusters\n",
        "    silhouette_avg = silhouette_score(X, cluster_labels)\n",
        "    print(\"For n_clusters =\", n_clusters,\n",
        "          \"The average silhouette_score is :\", silhouette_avg)\n",
        "\n",
        "    # Compute the silhouette scores for each sample\n",
        "    sample_silhouette_values = silhouette_samples(X, cluster_labels)\n",
        "\n",
        "    y_lower = 10\n",
        "    for i in range(n_clusters):\n",
        "        # Aggregate the silhouette scores for samples belonging to\n",
        "        # cluster i, and sort them\n",
        "        ith_cluster_silhouette_values = \\\n",
        "            sample_silhouette_values[cluster_labels == i]\n",
        "\n",
        "        ith_cluster_silhouette_values.sort()\n",
        "\n",
        "        size_cluster_i = ith_cluster_silhouette_values.shape[0]\n",
        "        y_upper = y_lower + size_cluster_i\n",
        "\n",
        "        color = cm.hsv_r(float(i) / n_clusters)\n",
        "        ax1.fill_betweenx(np.arange(y_lower, y_upper),\n",
        "                          0, ith_cluster_silhouette_values,\n",
        "                          facecolor=color, edgecolor=color, alpha=0.7)\n",
        "\n",
        "        # Label the silhouette plots with their cluster numbers at the middle\n",
        "        ax1.text(-0.05, y_lower + 0.5 * size_cluster_i, str(i))\n",
        "\n",
        "        # Compute the new y_lower for next plot\n",
        "        y_lower = y_upper + 10  # 10 for the 0 samples\n",
        "    #ax1.set_facecolor(\"white\")\n",
        "    ax1.set_title(\"The silhouette plot for the various clusters.\")\n",
        "    ax1.set_xlabel(\"The silhouette coefficient values\")\n",
        "    ax1.set_ylabel(\"Cluster label\")\n",
        "    ax1.grid(False)\n",
        "    # The vertical line for average silhouette score of all the values\n",
        "    ax1.axvline(x=silhouette_avg, color=\"red\", linestyle=\"--\")\n",
        "\n",
        "    ax1.set_yticks([])  # Clear the yaxis labels / ticks\n",
        "    ax1.set_xticks([-0.1, 0, 0.2, 0.4, 0.6, 0.8, 1])\n",
        "\n",
        "    # 2nd Plot showing the actual clusters formed\n",
        "    colors = cm.hsv_r(cluster_labels.astype(float) /n_clusters)\n",
        "    ax2.scatter(X[:, 0], X[:, 1], marker='.', s=30, lw=0, alpha=0.7,\n",
        "                c=colors, edgecolor='k')\n",
        "\n",
        "    # Labeling the clusters\n",
        "    centers = clusterer.cluster_centers_\n",
        "    # Draw white circles at cluster centers\n",
        "    ax2.scatter(centers[:, 0], centers[:, 1], marker='o',\n",
        "                c=\"white\", alpha=1, s=200, edgecolor='k')\n",
        "\n",
        "    for i, c in enumerate(centers):\n",
        "        ax2.scatter(c[0], c[1], marker='$%d$' % i, alpha=1,\n",
        "                    s=50, edgecolor='k')\n",
        "\n",
        "    ax2.set_title(\"The visualization of the clustered data.\")\n",
        "    ax2.set_xlabel(\"Feature space for the 1st feature\")\n",
        "    ax2.set_ylabel(\"Feature space for the 2nd feature\")\n",
        "    ax2.grid(False)\n",
        "    #ax2.set_facecolor(\"white\")\n",
        "    plt.suptitle((\"Silhouette analysis for KMeans clustering on sample data \"\n",
        "                  \"with n_clusters = %d\" % n_clusters),\n",
        "                 fontsize=14, fontweight='bold')\n",
        "\n",
        "plt.show()"
      ],
      "metadata": {
        "id": "nkJ4DK0YaHXN"
      },
      "execution_count": null,
      "outputs": []
    },
    {
      "cell_type": "markdown",
      "source": [
        "Silhouette score is a metric used to calculate the goodness of a clustering technique. Its value ranges from -1 to 1.\n",
        "\n",
        "1: Means clusters are well apart from each other and clearly distinguished.\n",
        "\n",
        "0: Means clusters are indifferent, or we can say that the distance between clusters is not significant.\n",
        "\n",
        "-1: Means clusters are assigned in the wrong way.\n",
        "\n",
        "Silhouette Score = (b-a)/max(a,b)\n",
        "\n",
        "where\n",
        "\n",
        "a= average intra-cluster distance i.e the average distance between each point within a cluster.\n",
        "\n",
        "b= average inter-cluster distance i.e the average distance between all clusters."
      ],
      "metadata": {
        "id": "IU9ao9Qd49ef"
      }
    },
    {
      "cell_type": "markdown",
      "source": [
        "### ML Model - 2"
      ],
      "metadata": {
        "id": "dJ2tPlVmpsJ0"
      }
    },
    {
      "cell_type": "markdown",
      "source": [
        "# **ELBOW METHOD**"
      ],
      "metadata": {
        "id": "N2TrLLmFa6g-"
      }
    },
    {
      "cell_type": "markdown",
      "source": [
        "The Elbow method is one of the most popular ways to find the optimal number of clusters. This method uses the concept of WCSS value. WCSS stands for Within Cluster Sum of Squares, which defines the total variations within a cluste"
      ],
      "metadata": {
        "id": "auPEpzGGbG05"
      }
    },
    {
      "cell_type": "code",
      "source": [
        "sum_of_square_dist = {}\n",
        "for k in range(1,15):\n",
        "    km = KMeans(n_clusters= k, init= 'k-means++', max_iter= 1000)\n",
        "    km = km.fit(X)\n",
        "    sum_of_square_dist[k] = km.inertia_\n",
        "    \n",
        "#Plot the graph for the sum of square distance values and Number of Clusters\n",
        "sns.pointplot(x = list(sum_of_square_dist.keys()), y = list(sum_of_square_dist.values()),color=\"red\")\n",
        "plt.xlabel('Number of Clusters(k)')\n",
        "plt.ylabel('Sum of Square Distances')\n",
        "plt.title('Elbow Method For Optimal k')\n",
        "plt.show()"
      ],
      "metadata": {
        "id": "rMDQ6AQra5oh"
      },
      "execution_count": null,
      "outputs": []
    },
    {
      "cell_type": "markdown",
      "source": [
        "We will use 5 clusters.We can see from the above graph that 5 is the elbow point"
      ],
      "metadata": {
        "id": "evjobXc1bcsy"
      }
    },
    {
      "cell_type": "code",
      "source": [
        "kmeans = KMeans(n_clusters = 5 )\n",
        "kmeans.fit(X)\n",
        "y_kmeans= kmeans.predict(X)"
      ],
      "metadata": {
        "id": "FYLkFNz1bjVY"
      },
      "execution_count": null,
      "outputs": []
    },
    {
      "cell_type": "code",
      "source": [
        "plt.figure(figsize=(14,10))\n",
        "plt.title('description and listed_in')\n",
        "plt.scatter(X[:, 0], X[:, 1], c=y_kmeans, s=60, cmap='rainbow')\n",
        "\n",
        "centers = kmeans.cluster_centers_\n",
        "plt.scatter(centers[:, 0], centers[:, 1], c='blue', s=200, alpha=0.5)"
      ],
      "metadata": {
        "id": "wYFAUqnxbkML"
      },
      "execution_count": null,
      "outputs": []
    },
    {
      "cell_type": "markdown",
      "source": [
        "# **DBSCAN**\n",
        "\n",
        "DBSCAN - Density-Based Spatial Clustering of Applications with Noise. Finds core samples of high density and expands clusters from them. Good for data which contains clusters of similar density."
      ],
      "metadata": {
        "id": "LUtA-juebyfE"
      }
    },
    {
      "cell_type": "code",
      "source": [
        "from sklearn.cluster import DBSCAN\n",
        "from sklearn import metrics\n",
        "y_pred = DBSCAN(eps=0.5, min_samples=20).fit_predict(X)\n",
        "plt.figure(figsize=(10,6))\n",
        "\n",
        "plt.scatter(X[:,0], X[:,1], c=y_pred, cmap='rainbow')"
      ],
      "metadata": {
        "id": "JMCu_vSPb-H5"
      },
      "execution_count": null,
      "outputs": []
    },
    {
      "cell_type": "markdown",
      "source": [
        "# Model 3 - **HIERARCHICAL CLUSTERING**\n",
        "\n",
        "Hierarchical clustering is an unsupervised learning method for clustering data points. The algorithm builds clusters by measuring the dissimilarities between data. Unsupervised learning means that a model does not have to be trained, and we do not need a \"target\" variable. This method can be used on any data to visualize and interpret the relationship between individual data points."
      ],
      "metadata": {
        "id": "wohb6ErccEO2"
      }
    },
    {
      "cell_type": "code",
      "source": [
        "#  importing sch\n",
        "import scipy.cluster.hierarchy as sch\n",
        "plt.figure(figsize=(14,10))\n",
        "\n",
        "sch.set_link_color_palette(['#b30000','#996600', '#b30086'])\n",
        "dendrogram = sch.dendrogram(sch.linkage(X, method = 'ward'),above_threshold_color=\"green\")\n",
        "plt.axhline(y=70, color='r', linestyle='--')\n",
        " # find largest vertical distance we can make without crossing any other horizontal line\n",
        "plt.title('Dendrogram')\n",
        "plt.xlabel('Content')\n",
        "plt.ylabel('Euclidean Distances')\n",
        "plt.show() "
      ],
      "metadata": {
        "id": "oEXnMbXycNu0"
      },
      "execution_count": null,
      "outputs": []
    },
    {
      "cell_type": "markdown",
      "source": [
        "# **Agglomerative Clustering** \n",
        "\n",
        "Also known as bottom up approach. A structure that is more informative than the unstructured set of clusters returned by flat clustering. This clustering algorithm does not require us to prespecify the number of clusters."
      ],
      "metadata": {
        "id": "if2NowHpdTeN"
      }
    },
    {
      "cell_type": "code",
      "source": [
        "from scipy.spatial.distance import euclidean\n",
        "# import agglomerative clustering\n",
        "from sklearn.cluster import AgglomerativeClustering\n",
        "hc = AgglomerativeClustering(n_clusters = 3,affinity = 'euclidean' , linkage = 'ward')\n",
        "y_hc = hc.fit_predict(X)"
      ],
      "metadata": {
        "id": "WBlYNww4d8uN"
      },
      "execution_count": null,
      "outputs": []
    },
    {
      "cell_type": "code",
      "source": [
        "# Visualizing the clusters\n",
        "plt.figure(figsize=(14,10))\n",
        "plt.scatter(X[y_hc == 0, 0], X[y_hc == 0, 1], s = 100, c = 'red', label = '1')\n",
        "plt.scatter(X[y_hc == 1, 0], X[y_hc == 1, 1], s = 100, c = 'blue', label = '2')\n",
        "plt.scatter(X[y_hc == 2, 0], X[y_hc == 2, 1], s = 100, c = 'green', label = '3')\n",
        "\n",
        "\n",
        "plt.title('Clusters of content')\n",
        "\n",
        "plt.legend()\n",
        "plt.show()"
      ],
      "metadata": {
        "id": "NJ9qhkSZgUvw"
      },
      "execution_count": null,
      "outputs": []
    },
    {
      "cell_type": "markdown",
      "source": [
        "# **PCA(Principal Component Analysis)**\n",
        "\n",
        "PCA is an unsupervised statistical technique used to examine the interrelations among a set of variables. It is also known as a general factor analysis where regression determines a line of best fit."
      ],
      "metadata": {
        "id": "grT1mPU7grJF"
      }
    },
    {
      "cell_type": "code",
      "source": [
        "#Applying PCA for dimenstionality reduction\n",
        "from sklearn.decomposition import PCA\n",
        "from matplotlib import rcParams\n",
        "pca = PCA(n_components = 2)\n",
        "y = pca.fit_transform(X_vc.toarray())\n",
        "kmeans = KMeans(n_clusters=5, max_iter=600, algorithm = 'auto')\n",
        "fitted = kmeans.fit(y)\n",
        "y_pred = kmeans.predict(y)\n",
        "\n",
        "plt.figure(figsize=(14,8))\n",
        "\n",
        "rcParams['axes.facecolor'] = 'gainsboro'\n",
        "rcParams[\"figure.facecolor\"] = 'black'\n",
        "plt.scatter(y[:, 0], y[:, 1], c=y_pred, s=40, cmap='gnuplot',linewidths=6)\n",
        "\n",
        "#plt.grid(b=None)\n",
        "\n",
        "centers = fitted.cluster_centers_\n",
        "plt.scatter(centers[:, 0], centers[:, 1],c='red', s=200, alpha=1);\n"
      ],
      "metadata": {
        "id": "xr0YlYosm3aC"
      },
      "execution_count": null,
      "outputs": []
    },
    {
      "cell_type": "code",
      "source": [
        "score = silhouette_score(y,y_pred)\n",
        "print(\"Silhouette_score is {}\".format(score))"
      ],
      "metadata": {
        "id": "R3AB0JQPnmal"
      },
      "execution_count": null,
      "outputs": []
    },
    {
      "cell_type": "code",
      "source": [
        "# Function for getting most commom words in each cluster\n",
        "def get_common_words_cluster(vc_arr, y_pred, n_feats):\n",
        "    labels = np.unique(y_pred)\n",
        "    dfs=[]\n",
        "    for label in labels:\n",
        "      id_temp = np.where(y_pred==label)\n",
        "      x_means = np.mean(vc_arr[id_temp],axis=0)\n",
        "      sorted_means = np.argsort(x_means)[::-1][:n_feats] \n",
        "      features = vectorizer.get_feature_names()\n",
        "      common_words = [(features[i], x_means[i]) for i in sorted_means]\n",
        "      df = pd.DataFrame(common_words, columns = ['words', 'count'])\n",
        "      dfs.append(df)\n",
        "    return dfs\n"
      ],
      "metadata": {
        "id": "5LOi_EqEoEaY"
      },
      "execution_count": null,
      "outputs": []
    },
    {
      "cell_type": "code",
      "source": [
        "#Function for data visualization of the most commin words in each cluster\n",
        "def plot_common_words(dfs, num):\n",
        "    for i in range(0, len(dfs)):\n",
        "        plt.figure(figsize=(10, 4))\n",
        "        plt.title((\"Most Common Words in the Cluster {}\".format(i)), fontsize=10, fontweight='bold')\n",
        "        sns.barplot(x = 'count' , y = 'words', orient = 'h' , data = dfs[i][:num],palette = 'plasma')\n",
        "\n",
        "dfs = get_common_words_cluster(X_vc.toarray(), y_pred, 5)\n",
        "plot_common_words(dfs, 5)"
      ],
      "metadata": {
        "id": "Q40-DHFxpkPD"
      },
      "execution_count": null,
      "outputs": []
    },
    {
      "cell_type": "code",
      "source": [
        "order_centroids = model.cluster_centers_.argsort()[:, ::-1]\n",
        "\n",
        "terms = vectorizer.get_feature_names()\n",
        "for i in range(k_clusters):\n",
        "    top_ten_words = [terms[ind] for ind in order_centroids[i, :k_clusters]]\n",
        "    print(\"Cluster {}: {}\".format(i, ' '.join(top_ten_words)))"
      ],
      "metadata": {
        "id": "GRpE_BQvqqu5"
      },
      "execution_count": null,
      "outputs": []
    },
    {
      "cell_type": "code",
      "source": [
        "movies_df['cluster'] = kmeans.labels_\n",
        "movies_df.head()"
      ],
      "metadata": {
        "id": "1pwx4npgqt16"
      },
      "execution_count": null,
      "outputs": []
    },
    {
      "cell_type": "code",
      "source": [
        "#Function for getting the some of the same cluster item details\n",
        "def find_same_cluster_items(name_nf):\n",
        "  inp_nf =movies_df.loc[movies_df['title'].str.lower() == name_nf.lower()]\n",
        "  num = inp_nf.cluster.iloc[0]\n",
        "  type_nf = inp_nf.type.iloc[0]\n",
        "  temp_df = movies_df.loc[(movies_df['cluster'] == num) & (movies_df['type']==type_nf)]\n",
        "  temp_df = temp_df.sample(10)\n",
        "  print(\"The cluster number is {}\".format(num))\n",
        "   #print(\"For n_clusters = {}, silhouette score is {}\".format(n_clusters, score))\n",
        "  return list(temp_df['title'])"
      ],
      "metadata": {
        "id": "cDZoIgU59fqB"
      },
      "execution_count": null,
      "outputs": []
    },
    {
      "cell_type": "code",
      "source": [
        "find_same_cluster_items('zodiac')"
      ],
      "metadata": {
        "id": "QmU31FACqEOG"
      },
      "execution_count": null,
      "outputs": []
    },
    {
      "cell_type": "code",
      "source": [
        "find_same_cluster_items('Zindagi Na Milegi Dobara')"
      ],
      "metadata": {
        "id": "if0l7T-Hr7PA"
      },
      "execution_count": null,
      "outputs": []
    },
    {
      "cell_type": "code",
      "source": [
        "find_same_cluster_items('Dear Zindagi')"
      ],
      "metadata": {
        "id": "3HiuuJhs-cyl"
      },
      "execution_count": null,
      "outputs": []
    },
    {
      "cell_type": "markdown",
      "source": [
        "# **Recommendation System**\n",
        "\n",
        "A recommender system, or a recommendation system, is a subclass of information filtering system that seeks to predict the “rating” or “preference” a user would give to an item. They are primarily used in commercial applications.The famous The Netflix Prize is also a competition in the context of recommendation systems.\n",
        "\n"
      ],
      "metadata": {
        "id": "hhy0pMJZsM50"
      }
    },
    {
      "cell_type": "code",
      "source": [
        "from sklearn.metrics.pairwise import linear_kernel\n",
        "# compute the cosine similarity matrix\n",
        "cosine_sim = linear_kernel(X_vc,X_vc)\n"
      ],
      "metadata": {
        "id": "4Ml0mBKqsb3W"
      },
      "execution_count": null,
      "outputs": []
    },
    {
      "cell_type": "code",
      "source": [
        "indices = pd.Series(movies_df.index, index=movies_df['title']).drop_duplicates()\n"
      ],
      "metadata": {
        "id": "j4VyezzetQWK"
      },
      "execution_count": null,
      "outputs": []
    },
    {
      "cell_type": "code",
      "source": [
        "def get_recommendations(title, cosine_sim = cosine_sim):\n",
        "  idx = indices[title]\n",
        "  sim_scores=list(enumerate(cosine_sim[idx]))\n",
        "  sim_scores=sorted(sim_scores, key=lambda x:x[1], reverse=True)\n",
        "  sim_scores=sim_scores[1:11]\n",
        "  movie_indices = [i[0] for i in sim_scores]\n",
        "  return movies_df['title'].iloc[movie_indices]"
      ],
      "metadata": {
        "id": "Joc3sSvktrS2"
      },
      "execution_count": null,
      "outputs": []
    },
    {
      "cell_type": "code",
      "source": [
        "get_recommendations('Dear Zindagi')"
      ],
      "metadata": {
        "id": "pWe_7NhquVCL"
      },
      "execution_count": null,
      "outputs": []
    },
    {
      "cell_type": "code",
      "source": [
        "get_recommendations('Zindagi Na Milegi Dobara')"
      ],
      "metadata": {
        "id": "UTORbOUsu1_j"
      },
      "execution_count": null,
      "outputs": []
    },
    {
      "cell_type": "code",
      "source": [
        "find_same_cluster_items('Dear Zindagi')"
      ],
      "metadata": {
        "id": "JVh8-A5zvHLP"
      },
      "execution_count": null,
      "outputs": []
    },
    {
      "cell_type": "markdown",
      "source": [
        "### ***Congrats! Your model is successfully created and ready for deployment on a live server for a real user interaction !!!***"
      ],
      "metadata": {
        "id": "-Kee-DAl2viO"
      }
    },
    {
      "cell_type": "markdown",
      "source": [
        "# **Conclusion**"
      ],
      "metadata": {
        "id": "gCX9965dhzqZ"
      }
    },
    {
      "cell_type": "markdown",
      "source": [
        "1. The dataset contains 7787 rows and 12 columns, cast and director columns have a lot of missing values so we dropped them and we have 10 features for the further analysis.\n",
        "\n",
        "2. We have two types of content movies and TV shows.\n",
        "\n",
        "3. Netflix has 69% of its content as movies, so we can say that movies are clearly more popular on Netflix than TV shows.\n",
        "\n",
        "4. For mature audience, there is much more movie content than TV shows. However, for the younger audience (under the age of 17),there are more TV shows than movies.\n",
        "\n",
        "5. Netflix has started adding content since 2014,highest number of movies and tv shows added in the year 2019,there is consistent content addition to netflix across the year.\n",
        "\n",
        "6. The average duration of a movie on netflix is 90 minutes.\n",
        "\n",
        "7. With respect to available content,the United States is on the top.India is at second followed by the UK and Canada. China is not even close to the top.\n",
        "\n",
        "8. In terms of genres, Dramas is on the top followed by Comedies and Documentaries.\n",
        "\n",
        "9. Number of movies added to netflix is higher than that of TV shows. In 2019, netflix added 1497 movies and 656 TV shows. So there we cannot conclude that netflix has switched focus from movies to TV shows.\n",
        "\n",
        "10. Principal component analysis was performed inorder to reduce the higher dimensionality which improved the silhouette coefficient to 0.34118.\n",
        "\n",
        "11. Clusters are identified for each of the record in the dataset.\n",
        "\n",
        "12. Recommendation based on cosine similiarity is done.\n",
        "\n"
      ],
      "metadata": {
        "id": "P28xFrQm5iLH"
      }
    },
    {
      "cell_type": "markdown",
      "source": [
        "### ***Hurrah! You have successfully completed your Machine Learning Capstone Project !!!***"
      ],
      "metadata": {
        "id": "gIfDvo9L0UH2"
      }
    }
  ]
}