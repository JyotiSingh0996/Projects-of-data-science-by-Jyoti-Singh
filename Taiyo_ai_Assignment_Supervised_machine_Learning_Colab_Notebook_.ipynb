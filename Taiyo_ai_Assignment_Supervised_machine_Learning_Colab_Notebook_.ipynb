{
  "nbformat": 4,
  "nbformat_minor": 0,
  "metadata": {
    "colab": {
      "provenance": [],
      "authorship_tag": "ABX9TyMELhwbuhTORc8epaX/Aw2C",
      "include_colab_link": true
    },
    "kernelspec": {
      "name": "python3",
      "display_name": "Python 3"
    },
    "language_info": {
      "name": "python"
    }
  },
  "cells": [
    {
      "cell_type": "markdown",
      "metadata": {
        "id": "view-in-github",
        "colab_type": "text"
      },
      "source": [
        "<a href=\"https://colab.research.google.com/github/JyotiSingh0996/Projects-of-data-science-by-Jyoti-Singh/blob/main/Taiyo_ai_Assignment_Supervised_machine_Learning_Colab_Notebook_.ipynb\" target=\"_parent\"><img src=\"https://colab.research.google.com/assets/colab-badge.svg\" alt=\"Open In Colab\"/></a>"
      ]
    },
    {
      "cell_type": "markdown",
      "source": [
        "# Main Objective - Predict Domestic Market"
      ],
      "metadata": {
        "id": "AvVeANcyLpXb"
      }
    },
    {
      "cell_type": "code",
      "execution_count": null,
      "metadata": {
        "id": "_Pi9QDfQzi58"
      },
      "outputs": [],
      "source": [
        "# Import Libraries\n",
        "import numpy as np\n",
        "import pandas as pd\n",
        "from numpy import math\n",
        "import seaborn as sns\n",
        "import matplotlib.pyplot as plt\n",
        "%matplotlib inline\n",
        "from matplotlib import rcParams\n",
        "import math\n",
        "from statsmodels.stats.outliers_influence import variance_inflation_factor\n",
        "from sklearn.preprocessing import StandardScaler\n",
        "from sklearn.preprocessing import MinMaxScaler\n",
        "from sklearn.model_selection import train_test_split\n",
        "from imblearn.over_sampling import SMOTE\n",
        "from sklearn.linear_model import LogisticRegression\n",
        "from sklearn.tree import DecisionTreeClassifier \n",
        "from sklearn.ensemble import RandomForestClassifier\n",
        "from sklearn.metrics import accuracy_score, confusion_matrix\n",
        "from sklearn import metrics\n",
        "from sklearn.metrics import mean_absolute_error\n",
        "from sklearn.metrics import r2_score\n",
        "from sklearn.metrics import mean_squared_error\n",
        "from sklearn.metrics import roc_curve\n",
        "from sklearn.model_selection import GridSearchCV\n",
        "from sklearn.model_selection import RepeatedStratifiedKFold\n",
        "from xgboost import XGBClassifier\n",
        "from xgboost import XGBRFClassifier\n",
        "from sklearn.tree import export_graphviz\n",
        "#mport shap \n",
        "import graphviz\n",
        "sns.set_style('darkgrid') \n",
        "\n",
        "import warnings\n",
        "warnings.filterwarnings('ignore')"
      ]
    },
    {
      "cell_type": "code",
      "source": [
        "# Load dfset\n",
        "from google.colab import drive\n",
        "drive.mount('/content/drive')"
      ],
      "metadata": {
        "colab": {
          "base_uri": "https://localhost:8080/"
        },
        "id": "gxLaykrw0FGR",
        "outputId": "f9f90227-c2c0-4536-9800-757973363f11"
      },
      "execution_count": null,
      "outputs": [
        {
          "output_type": "stream",
          "name": "stdout",
          "text": [
            "Drive already mounted at /content/drive; to attempt to forcibly remount, call drive.mount(\"/content/drive\", force_remount=True).\n"
          ]
        }
      ]
    },
    {
      "cell_type": "code",
      "source": [
        "# dfset_first_look\n",
        "df = pd.read_csv('/content/drive/MyDrive/Random Price Dataset Trial Assignment (1).csv')\n",
        "df.head()"
      ],
      "metadata": {
        "colab": {
          "base_uri": "https://localhost:8080/",
          "height": 386
        },
        "id": "8R1GtSwp0N0v",
        "outputId": "1fde5637-3a49-4af1-beab-1fa556194bb0"
      },
      "execution_count": null,
      "outputs": [
        {
          "output_type": "execute_result",
          "data": {
            "text/plain": [
              "         Date  Domestic Market (Contract) Blow Molding, Low  \\\n",
              "0  01/01/2000                                            41   \n",
              "1  01/02/2000                                            41   \n",
              "2  01/03/2000                                            45   \n",
              "3  01/04/2000                                            47   \n",
              "4  01/05/2000                                            47   \n",
              "\n",
              "   Spot/Export Blow Molding  Spot, Domestic  WTISPLC  MCOILBRENTEU  GASREGM  \\\n",
              "0                       NaN             NaN    27.18         25.51     1.29   \n",
              "1                       NaN             NaN    29.35         27.78     1.38   \n",
              "2                       NaN             NaN    29.89         27.49     1.52   \n",
              "3                       NaN             NaN    25.74         22.76     1.47   \n",
              "4                       NaN             NaN    28.78         27.74     1.49   \n",
              "\n",
              "    IMPCH   EXPCH  PRUBBUSDM  ...  Russia_import  South_Africa_import  \\\n",
              "0 6902.10  863.10      29.21  ...            NaN                  NaN   \n",
              "1 6584.40  972.70      33.39  ...            NaN                  NaN   \n",
              "2 6424.10 1330.50      30.94  ...            NaN                  NaN   \n",
              "3 7070.50 1227.50      31.93  ...            NaN                  NaN   \n",
              "4 7850.20 1526.30      31.20  ...            NaN                  NaN   \n",
              "\n",
              "   Turkey_import  Brazil_import  France_import  Germeny_import  \\\n",
              "0   6,833,222.00   2,649,293.00  35,239,920.00             NaN   \n",
              "1   5,647,987.00   2,787,667.00  36,716,752.00             NaN   \n",
              "2   6,721,125.00   4,692,701.00  45,144,561.00             NaN   \n",
              "3   7,169,182.00   2,565,068.00  32,240,349.00             NaN   \n",
              "4  10,466,333.00   4,671,325.00  29,351,633.00             NaN   \n",
              "\n",
              "   United Kingdome_import  China_import  Japan_import  South_korea_import  \n",
              "0                     NaN           NaN           NaN                 NaN  \n",
              "1                     NaN           NaN           NaN                 NaN  \n",
              "2                     NaN           NaN           NaN                 NaN  \n",
              "3                     NaN           NaN           NaN                 NaN  \n",
              "4                     NaN           NaN           NaN                 NaN  \n",
              "\n",
              "[5 rows x 50 columns]"
            ],
            "text/html": [
              "\n",
              "  <div id=\"df-40c24d41-2568-4401-9b59-261f94a231d5\">\n",
              "    <div class=\"colab-df-container\">\n",
              "      <div>\n",
              "<style scoped>\n",
              "    .dataframe tbody tr th:only-of-type {\n",
              "        vertical-align: middle;\n",
              "    }\n",
              "\n",
              "    .dataframe tbody tr th {\n",
              "        vertical-align: top;\n",
              "    }\n",
              "\n",
              "    .dataframe thead th {\n",
              "        text-align: right;\n",
              "    }\n",
              "</style>\n",
              "<table border=\"1\" class=\"dataframe\">\n",
              "  <thead>\n",
              "    <tr style=\"text-align: right;\">\n",
              "      <th></th>\n",
              "      <th>Date</th>\n",
              "      <th>Domestic Market (Contract) Blow Molding, Low</th>\n",
              "      <th>Spot/Export Blow Molding</th>\n",
              "      <th>Spot, Domestic</th>\n",
              "      <th>WTISPLC</th>\n",
              "      <th>MCOILBRENTEU</th>\n",
              "      <th>GASREGM</th>\n",
              "      <th>IMPCH</th>\n",
              "      <th>EXPCH</th>\n",
              "      <th>PRUBBUSDM</th>\n",
              "      <th>...</th>\n",
              "      <th>Russia_import</th>\n",
              "      <th>South_Africa_import</th>\n",
              "      <th>Turkey_import</th>\n",
              "      <th>Brazil_import</th>\n",
              "      <th>France_import</th>\n",
              "      <th>Germeny_import</th>\n",
              "      <th>United Kingdome_import</th>\n",
              "      <th>China_import</th>\n",
              "      <th>Japan_import</th>\n",
              "      <th>South_korea_import</th>\n",
              "    </tr>\n",
              "  </thead>\n",
              "  <tbody>\n",
              "    <tr>\n",
              "      <th>0</th>\n",
              "      <td>01/01/2000</td>\n",
              "      <td>41</td>\n",
              "      <td>NaN</td>\n",
              "      <td>NaN</td>\n",
              "      <td>27.18</td>\n",
              "      <td>25.51</td>\n",
              "      <td>1.29</td>\n",
              "      <td>6902.10</td>\n",
              "      <td>863.10</td>\n",
              "      <td>29.21</td>\n",
              "      <td>...</td>\n",
              "      <td>NaN</td>\n",
              "      <td>NaN</td>\n",
              "      <td>6,833,222.00</td>\n",
              "      <td>2,649,293.00</td>\n",
              "      <td>35,239,920.00</td>\n",
              "      <td>NaN</td>\n",
              "      <td>NaN</td>\n",
              "      <td>NaN</td>\n",
              "      <td>NaN</td>\n",
              "      <td>NaN</td>\n",
              "    </tr>\n",
              "    <tr>\n",
              "      <th>1</th>\n",
              "      <td>01/02/2000</td>\n",
              "      <td>41</td>\n",
              "      <td>NaN</td>\n",
              "      <td>NaN</td>\n",
              "      <td>29.35</td>\n",
              "      <td>27.78</td>\n",
              "      <td>1.38</td>\n",
              "      <td>6584.40</td>\n",
              "      <td>972.70</td>\n",
              "      <td>33.39</td>\n",
              "      <td>...</td>\n",
              "      <td>NaN</td>\n",
              "      <td>NaN</td>\n",
              "      <td>5,647,987.00</td>\n",
              "      <td>2,787,667.00</td>\n",
              "      <td>36,716,752.00</td>\n",
              "      <td>NaN</td>\n",
              "      <td>NaN</td>\n",
              "      <td>NaN</td>\n",
              "      <td>NaN</td>\n",
              "      <td>NaN</td>\n",
              "    </tr>\n",
              "    <tr>\n",
              "      <th>2</th>\n",
              "      <td>01/03/2000</td>\n",
              "      <td>45</td>\n",
              "      <td>NaN</td>\n",
              "      <td>NaN</td>\n",
              "      <td>29.89</td>\n",
              "      <td>27.49</td>\n",
              "      <td>1.52</td>\n",
              "      <td>6424.10</td>\n",
              "      <td>1330.50</td>\n",
              "      <td>30.94</td>\n",
              "      <td>...</td>\n",
              "      <td>NaN</td>\n",
              "      <td>NaN</td>\n",
              "      <td>6,721,125.00</td>\n",
              "      <td>4,692,701.00</td>\n",
              "      <td>45,144,561.00</td>\n",
              "      <td>NaN</td>\n",
              "      <td>NaN</td>\n",
              "      <td>NaN</td>\n",
              "      <td>NaN</td>\n",
              "      <td>NaN</td>\n",
              "    </tr>\n",
              "    <tr>\n",
              "      <th>3</th>\n",
              "      <td>01/04/2000</td>\n",
              "      <td>47</td>\n",
              "      <td>NaN</td>\n",
              "      <td>NaN</td>\n",
              "      <td>25.74</td>\n",
              "      <td>22.76</td>\n",
              "      <td>1.47</td>\n",
              "      <td>7070.50</td>\n",
              "      <td>1227.50</td>\n",
              "      <td>31.93</td>\n",
              "      <td>...</td>\n",
              "      <td>NaN</td>\n",
              "      <td>NaN</td>\n",
              "      <td>7,169,182.00</td>\n",
              "      <td>2,565,068.00</td>\n",
              "      <td>32,240,349.00</td>\n",
              "      <td>NaN</td>\n",
              "      <td>NaN</td>\n",
              "      <td>NaN</td>\n",
              "      <td>NaN</td>\n",
              "      <td>NaN</td>\n",
              "    </tr>\n",
              "    <tr>\n",
              "      <th>4</th>\n",
              "      <td>01/05/2000</td>\n",
              "      <td>47</td>\n",
              "      <td>NaN</td>\n",
              "      <td>NaN</td>\n",
              "      <td>28.78</td>\n",
              "      <td>27.74</td>\n",
              "      <td>1.49</td>\n",
              "      <td>7850.20</td>\n",
              "      <td>1526.30</td>\n",
              "      <td>31.20</td>\n",
              "      <td>...</td>\n",
              "      <td>NaN</td>\n",
              "      <td>NaN</td>\n",
              "      <td>10,466,333.00</td>\n",
              "      <td>4,671,325.00</td>\n",
              "      <td>29,351,633.00</td>\n",
              "      <td>NaN</td>\n",
              "      <td>NaN</td>\n",
              "      <td>NaN</td>\n",
              "      <td>NaN</td>\n",
              "      <td>NaN</td>\n",
              "    </tr>\n",
              "  </tbody>\n",
              "</table>\n",
              "<p>5 rows × 50 columns</p>\n",
              "</div>\n",
              "      <button class=\"colab-df-convert\" onclick=\"convertToInteractive('df-40c24d41-2568-4401-9b59-261f94a231d5')\"\n",
              "              title=\"Convert this dataframe to an interactive table.\"\n",
              "              style=\"display:none;\">\n",
              "        \n",
              "  <svg xmlns=\"http://www.w3.org/2000/svg\" height=\"24px\"viewBox=\"0 0 24 24\"\n",
              "       width=\"24px\">\n",
              "    <path d=\"M0 0h24v24H0V0z\" fill=\"none\"/>\n",
              "    <path d=\"M18.56 5.44l.94 2.06.94-2.06 2.06-.94-2.06-.94-.94-2.06-.94 2.06-2.06.94zm-11 1L8.5 8.5l.94-2.06 2.06-.94-2.06-.94L8.5 2.5l-.94 2.06-2.06.94zm10 10l.94 2.06.94-2.06 2.06-.94-2.06-.94-.94-2.06-.94 2.06-2.06.94z\"/><path d=\"M17.41 7.96l-1.37-1.37c-.4-.4-.92-.59-1.43-.59-.52 0-1.04.2-1.43.59L10.3 9.45l-7.72 7.72c-.78.78-.78 2.05 0 2.83L4 21.41c.39.39.9.59 1.41.59.51 0 1.02-.2 1.41-.59l7.78-7.78 2.81-2.81c.8-.78.8-2.07 0-2.86zM5.41 20L4 18.59l7.72-7.72 1.47 1.35L5.41 20z\"/>\n",
              "  </svg>\n",
              "      </button>\n",
              "      \n",
              "  <style>\n",
              "    .colab-df-container {\n",
              "      display:flex;\n",
              "      flex-wrap:wrap;\n",
              "      gap: 12px;\n",
              "    }\n",
              "\n",
              "    .colab-df-convert {\n",
              "      background-color: #E8F0FE;\n",
              "      border: none;\n",
              "      border-radius: 50%;\n",
              "      cursor: pointer;\n",
              "      display: none;\n",
              "      fill: #1967D2;\n",
              "      height: 32px;\n",
              "      padding: 0 0 0 0;\n",
              "      width: 32px;\n",
              "    }\n",
              "\n",
              "    .colab-df-convert:hover {\n",
              "      background-color: #E2EBFA;\n",
              "      box-shadow: 0px 1px 2px rgba(60, 64, 67, 0.3), 0px 1px 3px 1px rgba(60, 64, 67, 0.15);\n",
              "      fill: #174EA6;\n",
              "    }\n",
              "\n",
              "    [theme=dark] .colab-df-convert {\n",
              "      background-color: #3B4455;\n",
              "      fill: #D2E3FC;\n",
              "    }\n",
              "\n",
              "    [theme=dark] .colab-df-convert:hover {\n",
              "      background-color: #434B5C;\n",
              "      box-shadow: 0px 1px 3px 1px rgba(0, 0, 0, 0.15);\n",
              "      filter: drop-shadow(0px 1px 2px rgba(0, 0, 0, 0.3));\n",
              "      fill: #FFFFFF;\n",
              "    }\n",
              "  </style>\n",
              "\n",
              "      <script>\n",
              "        const buttonEl =\n",
              "          document.querySelector('#df-40c24d41-2568-4401-9b59-261f94a231d5 button.colab-df-convert');\n",
              "        buttonEl.style.display =\n",
              "          google.colab.kernel.accessAllowed ? 'block' : 'none';\n",
              "\n",
              "        async function convertToInteractive(key) {\n",
              "          const element = document.querySelector('#df-40c24d41-2568-4401-9b59-261f94a231d5');\n",
              "          const dataTable =\n",
              "            await google.colab.kernel.invokeFunction('convertToInteractive',\n",
              "                                                     [key], {});\n",
              "          if (!dataTable) return;\n",
              "\n",
              "          const docLinkHtml = 'Like what you see? Visit the ' +\n",
              "            '<a target=\"_blank\" href=https://colab.research.google.com/notebooks/data_table.ipynb>data table notebook</a>'\n",
              "            + ' to learn more about interactive tables.';\n",
              "          element.innerHTML = '';\n",
              "          dataTable['output_type'] = 'display_data';\n",
              "          await google.colab.output.renderOutput(dataTable, element);\n",
              "          const docLink = document.createElement('div');\n",
              "          docLink.innerHTML = docLinkHtml;\n",
              "          element.appendChild(docLink);\n",
              "        }\n",
              "      </script>\n",
              "    </div>\n",
              "  </div>\n",
              "  "
            ]
          },
          "metadata": {},
          "execution_count": 77
        }
      ]
    },
    {
      "cell_type": "code",
      "source": [
        "df.describe()"
      ],
      "metadata": {
        "colab": {
          "base_uri": "https://localhost:8080/",
          "height": 567
        },
        "id": "OwTBx6Ltj1hK",
        "outputId": "e91f0bea-98ba-49e7-c749-b3d6cbf9573b"
      },
      "execution_count": null,
      "outputs": [
        {
          "output_type": "execute_result",
          "data": {
            "text/plain": [
              "       Domestic Market (Contract) Blow Molding, Low  Spot/Export Blow Molding  \\\n",
              "count                                        276.00                    185.00   \n",
              "mean                                          72.38                     57.98   \n",
              "std                                           19.41                     13.12   \n",
              "min                                           32.00                     28.00   \n",
              "25%                                           57.75                     49.00   \n",
              "50%                                           73.00                     59.00   \n",
              "75%                                           86.00                     67.00   \n",
              "max                                          108.00                     92.00   \n",
              "\n",
              "       Spot, Domestic  WTISPLC  MCOILBRENTEU  GASREGM    IMPCH    EXPCH  \\\n",
              "count          125.00   276.00        276.00   276.00   275.00   275.00   \n",
              "mean            60.40    62.51         65.40     2.57 29591.89  7176.50   \n",
              "std             12.65    26.07         29.61     0.78 12303.53  3764.25   \n",
              "min             33.25    16.55         18.38     1.09  6375.60   863.10   \n",
              "25%             53.00    41.00         42.73     1.98 20508.61  3644.35   \n",
              "50%             59.00    59.28         62.77     2.56 31563.99  8080.52   \n",
              "75%             67.50    84.17         85.59     3.15 39575.41  9741.47   \n",
              "max            100.75   133.93        132.72     4.93 52081.07 16678.51   \n",
              "\n",
              "       PRUBBUSDM  WPUFD4111  ...  WPU0915021625  PCU3252132521  MHHNGSP  \\\n",
              "count     275.00     275.00  ...         132.00         228.00   276.00   \n",
              "mean       89.58     185.98  ...         108.87         164.04     4.52   \n",
              "std        46.39      31.71  ...          10.69          25.56     2.17   \n",
              "min        22.12     135.00  ...          99.50         100.00     1.63   \n",
              "25%        60.83     155.65  ...         103.00         145.00     2.88   \n",
              "50%        78.41     193.40  ...         105.00         165.55     3.96   \n",
              "75%       107.59     208.60  ...         107.53         176.95     5.73   \n",
              "max       280.79     278.02  ...         143.79         231.26    13.42   \n",
              "\n",
              "       WPU072205011  PCU32611132611115  PCU32611332611301.1  \\\n",
              "count        115.00             115.00               204.00   \n",
              "mean         106.62             135.45               201.24   \n",
              "std           11.89              15.07                50.82   \n",
              "min           94.10             100.00               102.80   \n",
              "25%           99.70             126.90               152.80   \n",
              "50%          102.00             130.20               215.60   \n",
              "75%          106.25             133.05               231.90   \n",
              "max          138.09             179.10               311.13   \n",
              "\n",
              "       PCU32611132611112  WPU0915021622  \\\n",
              "count             115.00         133.00   \n",
              "mean              128.04         111.18   \n",
              "std                14.15          12.07   \n",
              "min               100.00          99.20   \n",
              "25%               120.00         104.10   \n",
              "50%               123.10         107.20   \n",
              "75%               127.15         111.40   \n",
              "max               168.91         147.62   \n",
              "\n",
              "       Producer Price Index by Industry: Plastics Material and Resins Manufacturing: Thermoplastic Resins and Plastics Materials   \\\n",
              "count                                             276.00                                                                            \n",
              "mean                                              222.32                                                                            \n",
              "std                                                51.94                                                                            \n",
              "min                                               122.90                                                                            \n",
              "25%                                               193.38                                                                            \n",
              "50%                                               227.55                                                                            \n",
              "75%                                               249.00                                                                            \n",
              "max                                               359.61                                                                            \n",
              "\n",
              "       South_korea_import  \n",
              "count                0.00  \n",
              "mean                  NaN  \n",
              "std                   NaN  \n",
              "min                   NaN  \n",
              "25%                   NaN  \n",
              "50%                   NaN  \n",
              "75%                   NaN  \n",
              "max                   NaN  \n",
              "\n",
              "[8 rows x 22 columns]"
            ],
            "text/html": [
              "\n",
              "  <div id=\"df-87870fed-8d55-4f8e-aaaa-6fa93c69b6f1\">\n",
              "    <div class=\"colab-df-container\">\n",
              "      <div>\n",
              "<style scoped>\n",
              "    .dataframe tbody tr th:only-of-type {\n",
              "        vertical-align: middle;\n",
              "    }\n",
              "\n",
              "    .dataframe tbody tr th {\n",
              "        vertical-align: top;\n",
              "    }\n",
              "\n",
              "    .dataframe thead th {\n",
              "        text-align: right;\n",
              "    }\n",
              "</style>\n",
              "<table border=\"1\" class=\"dataframe\">\n",
              "  <thead>\n",
              "    <tr style=\"text-align: right;\">\n",
              "      <th></th>\n",
              "      <th>Domestic Market (Contract) Blow Molding, Low</th>\n",
              "      <th>Spot/Export Blow Molding</th>\n",
              "      <th>Spot, Domestic</th>\n",
              "      <th>WTISPLC</th>\n",
              "      <th>MCOILBRENTEU</th>\n",
              "      <th>GASREGM</th>\n",
              "      <th>IMPCH</th>\n",
              "      <th>EXPCH</th>\n",
              "      <th>PRUBBUSDM</th>\n",
              "      <th>WPUFD4111</th>\n",
              "      <th>...</th>\n",
              "      <th>WPU0915021625</th>\n",
              "      <th>PCU3252132521</th>\n",
              "      <th>MHHNGSP</th>\n",
              "      <th>WPU072205011</th>\n",
              "      <th>PCU32611132611115</th>\n",
              "      <th>PCU32611332611301.1</th>\n",
              "      <th>PCU32611132611112</th>\n",
              "      <th>WPU0915021622</th>\n",
              "      <th>Producer Price Index by Industry: Plastics Material and Resins Manufacturing: Thermoplastic Resins and Plastics Materials</th>\n",
              "      <th>South_korea_import</th>\n",
              "    </tr>\n",
              "  </thead>\n",
              "  <tbody>\n",
              "    <tr>\n",
              "      <th>count</th>\n",
              "      <td>276.00</td>\n",
              "      <td>185.00</td>\n",
              "      <td>125.00</td>\n",
              "      <td>276.00</td>\n",
              "      <td>276.00</td>\n",
              "      <td>276.00</td>\n",
              "      <td>275.00</td>\n",
              "      <td>275.00</td>\n",
              "      <td>275.00</td>\n",
              "      <td>275.00</td>\n",
              "      <td>...</td>\n",
              "      <td>132.00</td>\n",
              "      <td>228.00</td>\n",
              "      <td>276.00</td>\n",
              "      <td>115.00</td>\n",
              "      <td>115.00</td>\n",
              "      <td>204.00</td>\n",
              "      <td>115.00</td>\n",
              "      <td>133.00</td>\n",
              "      <td>276.00</td>\n",
              "      <td>0.00</td>\n",
              "    </tr>\n",
              "    <tr>\n",
              "      <th>mean</th>\n",
              "      <td>72.38</td>\n",
              "      <td>57.98</td>\n",
              "      <td>60.40</td>\n",
              "      <td>62.51</td>\n",
              "      <td>65.40</td>\n",
              "      <td>2.57</td>\n",
              "      <td>29591.89</td>\n",
              "      <td>7176.50</td>\n",
              "      <td>89.58</td>\n",
              "      <td>185.98</td>\n",
              "      <td>...</td>\n",
              "      <td>108.87</td>\n",
              "      <td>164.04</td>\n",
              "      <td>4.52</td>\n",
              "      <td>106.62</td>\n",
              "      <td>135.45</td>\n",
              "      <td>201.24</td>\n",
              "      <td>128.04</td>\n",
              "      <td>111.18</td>\n",
              "      <td>222.32</td>\n",
              "      <td>NaN</td>\n",
              "    </tr>\n",
              "    <tr>\n",
              "      <th>std</th>\n",
              "      <td>19.41</td>\n",
              "      <td>13.12</td>\n",
              "      <td>12.65</td>\n",
              "      <td>26.07</td>\n",
              "      <td>29.61</td>\n",
              "      <td>0.78</td>\n",
              "      <td>12303.53</td>\n",
              "      <td>3764.25</td>\n",
              "      <td>46.39</td>\n",
              "      <td>31.71</td>\n",
              "      <td>...</td>\n",
              "      <td>10.69</td>\n",
              "      <td>25.56</td>\n",
              "      <td>2.17</td>\n",
              "      <td>11.89</td>\n",
              "      <td>15.07</td>\n",
              "      <td>50.82</td>\n",
              "      <td>14.15</td>\n",
              "      <td>12.07</td>\n",
              "      <td>51.94</td>\n",
              "      <td>NaN</td>\n",
              "    </tr>\n",
              "    <tr>\n",
              "      <th>min</th>\n",
              "      <td>32.00</td>\n",
              "      <td>28.00</td>\n",
              "      <td>33.25</td>\n",
              "      <td>16.55</td>\n",
              "      <td>18.38</td>\n",
              "      <td>1.09</td>\n",
              "      <td>6375.60</td>\n",
              "      <td>863.10</td>\n",
              "      <td>22.12</td>\n",
              "      <td>135.00</td>\n",
              "      <td>...</td>\n",
              "      <td>99.50</td>\n",
              "      <td>100.00</td>\n",
              "      <td>1.63</td>\n",
              "      <td>94.10</td>\n",
              "      <td>100.00</td>\n",
              "      <td>102.80</td>\n",
              "      <td>100.00</td>\n",
              "      <td>99.20</td>\n",
              "      <td>122.90</td>\n",
              "      <td>NaN</td>\n",
              "    </tr>\n",
              "    <tr>\n",
              "      <th>25%</th>\n",
              "      <td>57.75</td>\n",
              "      <td>49.00</td>\n",
              "      <td>53.00</td>\n",
              "      <td>41.00</td>\n",
              "      <td>42.73</td>\n",
              "      <td>1.98</td>\n",
              "      <td>20508.61</td>\n",
              "      <td>3644.35</td>\n",
              "      <td>60.83</td>\n",
              "      <td>155.65</td>\n",
              "      <td>...</td>\n",
              "      <td>103.00</td>\n",
              "      <td>145.00</td>\n",
              "      <td>2.88</td>\n",
              "      <td>99.70</td>\n",
              "      <td>126.90</td>\n",
              "      <td>152.80</td>\n",
              "      <td>120.00</td>\n",
              "      <td>104.10</td>\n",
              "      <td>193.38</td>\n",
              "      <td>NaN</td>\n",
              "    </tr>\n",
              "    <tr>\n",
              "      <th>50%</th>\n",
              "      <td>73.00</td>\n",
              "      <td>59.00</td>\n",
              "      <td>59.00</td>\n",
              "      <td>59.28</td>\n",
              "      <td>62.77</td>\n",
              "      <td>2.56</td>\n",
              "      <td>31563.99</td>\n",
              "      <td>8080.52</td>\n",
              "      <td>78.41</td>\n",
              "      <td>193.40</td>\n",
              "      <td>...</td>\n",
              "      <td>105.00</td>\n",
              "      <td>165.55</td>\n",
              "      <td>3.96</td>\n",
              "      <td>102.00</td>\n",
              "      <td>130.20</td>\n",
              "      <td>215.60</td>\n",
              "      <td>123.10</td>\n",
              "      <td>107.20</td>\n",
              "      <td>227.55</td>\n",
              "      <td>NaN</td>\n",
              "    </tr>\n",
              "    <tr>\n",
              "      <th>75%</th>\n",
              "      <td>86.00</td>\n",
              "      <td>67.00</td>\n",
              "      <td>67.50</td>\n",
              "      <td>84.17</td>\n",
              "      <td>85.59</td>\n",
              "      <td>3.15</td>\n",
              "      <td>39575.41</td>\n",
              "      <td>9741.47</td>\n",
              "      <td>107.59</td>\n",
              "      <td>208.60</td>\n",
              "      <td>...</td>\n",
              "      <td>107.53</td>\n",
              "      <td>176.95</td>\n",
              "      <td>5.73</td>\n",
              "      <td>106.25</td>\n",
              "      <td>133.05</td>\n",
              "      <td>231.90</td>\n",
              "      <td>127.15</td>\n",
              "      <td>111.40</td>\n",
              "      <td>249.00</td>\n",
              "      <td>NaN</td>\n",
              "    </tr>\n",
              "    <tr>\n",
              "      <th>max</th>\n",
              "      <td>108.00</td>\n",
              "      <td>92.00</td>\n",
              "      <td>100.75</td>\n",
              "      <td>133.93</td>\n",
              "      <td>132.72</td>\n",
              "      <td>4.93</td>\n",
              "      <td>52081.07</td>\n",
              "      <td>16678.51</td>\n",
              "      <td>280.79</td>\n",
              "      <td>278.02</td>\n",
              "      <td>...</td>\n",
              "      <td>143.79</td>\n",
              "      <td>231.26</td>\n",
              "      <td>13.42</td>\n",
              "      <td>138.09</td>\n",
              "      <td>179.10</td>\n",
              "      <td>311.13</td>\n",
              "      <td>168.91</td>\n",
              "      <td>147.62</td>\n",
              "      <td>359.61</td>\n",
              "      <td>NaN</td>\n",
              "    </tr>\n",
              "  </tbody>\n",
              "</table>\n",
              "<p>8 rows × 22 columns</p>\n",
              "</div>\n",
              "      <button class=\"colab-df-convert\" onclick=\"convertToInteractive('df-87870fed-8d55-4f8e-aaaa-6fa93c69b6f1')\"\n",
              "              title=\"Convert this dataframe to an interactive table.\"\n",
              "              style=\"display:none;\">\n",
              "        \n",
              "  <svg xmlns=\"http://www.w3.org/2000/svg\" height=\"24px\"viewBox=\"0 0 24 24\"\n",
              "       width=\"24px\">\n",
              "    <path d=\"M0 0h24v24H0V0z\" fill=\"none\"/>\n",
              "    <path d=\"M18.56 5.44l.94 2.06.94-2.06 2.06-.94-2.06-.94-.94-2.06-.94 2.06-2.06.94zm-11 1L8.5 8.5l.94-2.06 2.06-.94-2.06-.94L8.5 2.5l-.94 2.06-2.06.94zm10 10l.94 2.06.94-2.06 2.06-.94-2.06-.94-.94-2.06-.94 2.06-2.06.94z\"/><path d=\"M17.41 7.96l-1.37-1.37c-.4-.4-.92-.59-1.43-.59-.52 0-1.04.2-1.43.59L10.3 9.45l-7.72 7.72c-.78.78-.78 2.05 0 2.83L4 21.41c.39.39.9.59 1.41.59.51 0 1.02-.2 1.41-.59l7.78-7.78 2.81-2.81c.8-.78.8-2.07 0-2.86zM5.41 20L4 18.59l7.72-7.72 1.47 1.35L5.41 20z\"/>\n",
              "  </svg>\n",
              "      </button>\n",
              "      \n",
              "  <style>\n",
              "    .colab-df-container {\n",
              "      display:flex;\n",
              "      flex-wrap:wrap;\n",
              "      gap: 12px;\n",
              "    }\n",
              "\n",
              "    .colab-df-convert {\n",
              "      background-color: #E8F0FE;\n",
              "      border: none;\n",
              "      border-radius: 50%;\n",
              "      cursor: pointer;\n",
              "      display: none;\n",
              "      fill: #1967D2;\n",
              "      height: 32px;\n",
              "      padding: 0 0 0 0;\n",
              "      width: 32px;\n",
              "    }\n",
              "\n",
              "    .colab-df-convert:hover {\n",
              "      background-color: #E2EBFA;\n",
              "      box-shadow: 0px 1px 2px rgba(60, 64, 67, 0.3), 0px 1px 3px 1px rgba(60, 64, 67, 0.15);\n",
              "      fill: #174EA6;\n",
              "    }\n",
              "\n",
              "    [theme=dark] .colab-df-convert {\n",
              "      background-color: #3B4455;\n",
              "      fill: #D2E3FC;\n",
              "    }\n",
              "\n",
              "    [theme=dark] .colab-df-convert:hover {\n",
              "      background-color: #434B5C;\n",
              "      box-shadow: 0px 1px 3px 1px rgba(0, 0, 0, 0.15);\n",
              "      filter: drop-shadow(0px 1px 2px rgba(0, 0, 0, 0.3));\n",
              "      fill: #FFFFFF;\n",
              "    }\n",
              "  </style>\n",
              "\n",
              "      <script>\n",
              "        const buttonEl =\n",
              "          document.querySelector('#df-87870fed-8d55-4f8e-aaaa-6fa93c69b6f1 button.colab-df-convert');\n",
              "        buttonEl.style.display =\n",
              "          google.colab.kernel.accessAllowed ? 'block' : 'none';\n",
              "\n",
              "        async function convertToInteractive(key) {\n",
              "          const element = document.querySelector('#df-87870fed-8d55-4f8e-aaaa-6fa93c69b6f1');\n",
              "          const dataTable =\n",
              "            await google.colab.kernel.invokeFunction('convertToInteractive',\n",
              "                                                     [key], {});\n",
              "          if (!dataTable) return;\n",
              "\n",
              "          const docLinkHtml = 'Like what you see? Visit the ' +\n",
              "            '<a target=\"_blank\" href=https://colab.research.google.com/notebooks/data_table.ipynb>data table notebook</a>'\n",
              "            + ' to learn more about interactive tables.';\n",
              "          element.innerHTML = '';\n",
              "          dataTable['output_type'] = 'display_data';\n",
              "          await google.colab.output.renderOutput(dataTable, element);\n",
              "          const docLink = document.createElement('div');\n",
              "          docLink.innerHTML = docLinkHtml;\n",
              "          element.appendChild(docLink);\n",
              "        }\n",
              "      </script>\n",
              "    </div>\n",
              "  </div>\n",
              "  "
            ]
          },
          "metadata": {},
          "execution_count": 78
        }
      ]
    },
    {
      "cell_type": "code",
      "source": [
        "# dfset Rows & Columns count\n",
        "df.shape"
      ],
      "metadata": {
        "colab": {
          "base_uri": "https://localhost:8080/"
        },
        "id": "dpYQvjdo0yPJ",
        "outputId": "d8af4ff6-0c23-4d1a-e87b-3b90dd4a8d56"
      },
      "execution_count": null,
      "outputs": [
        {
          "output_type": "execute_result",
          "data": {
            "text/plain": [
              "(276, 50)"
            ]
          },
          "metadata": {},
          "execution_count": 79
        }
      ]
    },
    {
      "cell_type": "code",
      "source": [
        "# dfset info\n",
        "df.info()"
      ],
      "metadata": {
        "colab": {
          "base_uri": "https://localhost:8080/"
        },
        "id": "yBYseLZb03VY",
        "outputId": "4533d343-7999-4195-d3fb-24479123ef93"
      },
      "execution_count": null,
      "outputs": [
        {
          "output_type": "stream",
          "name": "stdout",
          "text": [
            "<class 'pandas.core.frame.DataFrame'>\n",
            "RangeIndex: 276 entries, 0 to 275\n",
            "Data columns (total 50 columns):\n",
            " #   Column                                                                                                                      Non-Null Count  Dtype  \n",
            "---  ------                                                                                                                      --------------  -----  \n",
            " 0   Date                                                                                                                        276 non-null    object \n",
            " 1   Domestic Market (Contract) Blow Molding, Low                                                                                276 non-null    int64  \n",
            " 2   Spot/Export Blow Molding                                                                                                    185 non-null    float64\n",
            " 3   Spot, Domestic                                                                                                              125 non-null    float64\n",
            " 4   WTISPLC                                                                                                                     276 non-null    float64\n",
            " 5   MCOILBRENTEU                                                                                                                276 non-null    float64\n",
            " 6   GASREGM                                                                                                                     276 non-null    float64\n",
            " 7   IMPCH                                                                                                                       275 non-null    float64\n",
            " 8   EXPCH                                                                                                                       275 non-null    float64\n",
            " 9   PRUBBUSDM                                                                                                                   275 non-null    float64\n",
            " 10  WPUFD4111                                                                                                                   275 non-null    float64\n",
            " 11  PCU325211325211                                                                                                             275 non-null    float64\n",
            " 12  PCU32611332611301                                                                                                           275 non-null    float64\n",
            " 13  WPU0915021625                                                                                                               132 non-null    float64\n",
            " 14  PCU3252132521                                                                                                               228 non-null    float64\n",
            " 15  MHHNGSP                                                                                                                     276 non-null    float64\n",
            " 16  WPU072205011                                                                                                                115 non-null    float64\n",
            " 17  PCU32611132611115                                                                                                           115 non-null    float64\n",
            " 18  PCU32611332611301.1                                                                                                         204 non-null    float64\n",
            " 19  PCU32611132611112                                                                                                           115 non-null    float64\n",
            " 20  WPU0915021622                                                                                                               133 non-null    float64\n",
            " 21  Producer Price Index by Industry: Plastics Material and Resins Manufacturing: Thermoplastic Resins and Plastics Materials   276 non-null    float64\n",
            " 22  Australia _export                                                                                                           38 non-null     object \n",
            " 23  Canada_export                                                                                                               154 non-null    object \n",
            " 24  Saudi_export                                                                                                                33 non-null     object \n",
            " 25  Usa_export                                                                                                                  154 non-null    object \n",
            " 26  India_export                                                                                                                142 non-null    object \n",
            " 27  Russia_export                                                                                                               108 non-null    object \n",
            " 28  South_Africa_export                                                                                                         154 non-null    object \n",
            " 29  Turkey                                                                                                                      272 non-null    object \n",
            " 30  Brazil                                                                                                                      275 non-null    object \n",
            " 31  France_export                                                                                                               240 non-null    object \n",
            " 32  Germeny_export                                                                                                              178 non-null    object \n",
            " 33  United Kingdome_export                                                                                                      153 non-null    object \n",
            " 34  China_export                                                                                                                108 non-null    object \n",
            " 35  Australia _import                                                                                                           109 non-null    object \n",
            " 36  Canada_import                                                                                                               154 non-null    object \n",
            " 37  Saudi_import                                                                                                                33 non-null     object \n",
            " 38  Usa_import                                                                                                                  154 non-null    object \n",
            " 39  India_import                                                                                                                142 non-null    object \n",
            " 40  Russia_import                                                                                                               108 non-null    object \n",
            " 41  South_Africa_import                                                                                                         154 non-null    object \n",
            " 42  Turkey_import                                                                                                               168 non-null    object \n",
            " 43  Brazil_import                                                                                                               168 non-null    object \n",
            " 44  France_import                                                                                                               240 non-null    object \n",
            " 45  Germeny_import                                                                                                              178 non-null    object \n",
            " 46  United Kingdome_import                                                                                                      154 non-null    object \n",
            " 47  China_import                                                                                                                108 non-null    object \n",
            " 48  Japan_import                                                                                                                153 non-null    object \n",
            " 49  South_korea_import                                                                                                          0 non-null      float64\n",
            "dtypes: float64(21), int64(1), object(28)\n",
            "memory usage: 107.9+ KB\n"
          ]
        }
      ]
    },
    {
      "cell_type": "code",
      "source": [
        "# count Duplicate values\n",
        "df.duplicated().sum()"
      ],
      "metadata": {
        "colab": {
          "base_uri": "https://localhost:8080/"
        },
        "id": "QigHcPtt2njG",
        "outputId": "437a4802-f2c5-465a-d5d0-1f06c127c031"
      },
      "execution_count": null,
      "outputs": [
        {
          "output_type": "execute_result",
          "data": {
            "text/plain": [
              "0"
            ]
          },
          "metadata": {},
          "execution_count": 81
        }
      ]
    },
    {
      "cell_type": "code",
      "source": [
        "# check null values\n",
        "df.isnull().sum()"
      ],
      "metadata": {
        "colab": {
          "base_uri": "https://localhost:8080/"
        },
        "id": "A1fKVL6y21uv",
        "outputId": "b0df02a0-c5cb-44e2-86e3-352fcdda1db5"
      },
      "execution_count": null,
      "outputs": [
        {
          "output_type": "execute_result",
          "data": {
            "text/plain": [
              "Date                                                                                                                            0\n",
              "Domestic Market (Contract) Blow Molding, Low                                                                                    0\n",
              "Spot/Export Blow Molding                                                                                                       91\n",
              "Spot, Domestic                                                                                                                151\n",
              "WTISPLC                                                                                                                         0\n",
              "MCOILBRENTEU                                                                                                                    0\n",
              "GASREGM                                                                                                                         0\n",
              "IMPCH                                                                                                                           1\n",
              "EXPCH                                                                                                                           1\n",
              "PRUBBUSDM                                                                                                                       1\n",
              "WPUFD4111                                                                                                                       1\n",
              "PCU325211325211                                                                                                                 1\n",
              "PCU32611332611301                                                                                                               1\n",
              "WPU0915021625                                                                                                                 144\n",
              "PCU3252132521                                                                                                                  48\n",
              "MHHNGSP                                                                                                                         0\n",
              "WPU072205011                                                                                                                  161\n",
              "PCU32611132611115                                                                                                             161\n",
              "PCU32611332611301.1                                                                                                            72\n",
              "PCU32611132611112                                                                                                             161\n",
              "WPU0915021622                                                                                                                 143\n",
              "Producer Price Index by Industry: Plastics Material and Resins Manufacturing: Thermoplastic Resins and Plastics Materials       0\n",
              "Australia _export                                                                                                             238\n",
              "Canada_export                                                                                                                 122\n",
              "Saudi_export                                                                                                                  243\n",
              "Usa_export                                                                                                                    122\n",
              "India_export                                                                                                                  134\n",
              "Russia_export                                                                                                                 168\n",
              "South_Africa_export                                                                                                           122\n",
              "Turkey                                                                                                                          4\n",
              "Brazil                                                                                                                          1\n",
              "France_export                                                                                                                  36\n",
              "Germeny_export                                                                                                                 98\n",
              "United Kingdome_export                                                                                                        123\n",
              "China_export                                                                                                                  168\n",
              "Australia _import                                                                                                             167\n",
              "Canada_import                                                                                                                 122\n",
              "Saudi_import                                                                                                                  243\n",
              "Usa_import                                                                                                                    122\n",
              "India_import                                                                                                                  134\n",
              "Russia_import                                                                                                                 168\n",
              "South_Africa_import                                                                                                           122\n",
              "Turkey_import                                                                                                                 108\n",
              "Brazil_import                                                                                                                 108\n",
              "France_import                                                                                                                  36\n",
              "Germeny_import                                                                                                                 98\n",
              "United Kingdome_import                                                                                                        122\n",
              "China_import                                                                                                                  168\n",
              "Japan_import                                                                                                                  123\n",
              "South_korea_import                                                                                                            276\n",
              "dtype: int64"
            ]
          },
          "metadata": {},
          "execution_count": 82
        }
      ]
    },
    {
      "cell_type": "markdown",
      "source": [
        "# Understand the datast"
      ],
      "metadata": {
        "id": "_fQVdjqa5W3z"
      }
    },
    {
      "cell_type": "code",
      "source": [
        "# WTISPLC - West Texas Intermediate Spot Crude Oil price (West Texas Intermediate (WTI) is a grade or mix of crude oil)\n",
        "# MCOILBRENTEU - Crude Oil Price of Brent Crude (oil market based around the North Sea of Northwest Europe)\n",
        "# GASREGM - US Regular all formation Gas Price\n",
        "# IMPCH -  U.S. Imports of Goods by Customs Basis from China\n",
        "# EXPCH - U.S. Exports of Goods by F.A.S. Basis to Mainland China (EXPCH)\n",
        "# PRUBBUSDM - Global Price of Rubber\n",
        "# WPUFD4111 - Producer Price Index by Commodity: Final Demand: Finished Consumer Foods \n",
        "# PCU325211325211 - Producer Price Index by Industry: Plastics Material and Resin Manufacturing\n",
        "# PCU32611332611301 -  Producer Price Index by Industry: Nonpackaging Plastics Film and Sheet \n",
        "# WPU0915021625 - Producer Price Index by Commodity: Pulp, Paper, and Allied \n",
        "# PCU3252132521 - Producer Price Index by Industry: Resin and Synthetic Rubber Manufacturing\n",
        "# MHHNGSP - Henry Hub Natural Gas Spot Price\n",
        "# WPU072205011 - Rubber and Plastic Products: Unlaminated Polyethylene Film and Sheet\n",
        "# PCU32611132611115 -  Plastics Bag and Pouch Manufacturing: Other Polyethylene Bags, Pouches, and Liners\n",
        "# PCU32611332611301.1 - Nonpackaging Plastics Film and Sheet Manufacturing: Unlaminated Polyethylene Film and Sheet\n",
        "# PCU32611132611112 -  Producer Price Index by Industry: Plastics Bag and Pouch Manufacturing: Polyethylene Refuse Bags\n",
        "# WPU0915021622 -  Pulp, Paper, and Allied Products: Polyethylene Refuse Bags\n"
      ],
      "metadata": {
        "id": "WgKTN88J5WLi"
      },
      "execution_count": null,
      "outputs": []
    },
    {
      "cell_type": "markdown",
      "source": [
        "# dataset Preprocessing"
      ],
      "metadata": {
        "id": "L8JwQSnW4SB9"
      }
    },
    {
      "cell_type": "code",
      "source": [
        "#replace null values in 0\n",
        "df.fillna(0,inplace=True)"
      ],
      "metadata": {
        "id": "Yf1hwaz03X8C"
      },
      "execution_count": null,
      "outputs": []
    },
    {
      "cell_type": "code",
      "source": [
        "# Date columns to Date format conversion\n",
        "#date_col = pd.DatetimeIndex(df['Date'])\n",
        "#df['Year'] = date_col.year\n",
        "#df['Month'] = date_col.month\n",
        "#df['Day'] = date_col.day"
      ],
      "metadata": {
        "id": "fEoYcN1Z4mTz"
      },
      "execution_count": null,
      "outputs": []
    },
    {
      "cell_type": "code",
      "source": [
        "df.columns"
      ],
      "metadata": {
        "colab": {
          "base_uri": "https://localhost:8080/"
        },
        "id": "rXvC5qBq6Gad",
        "outputId": "7b18b475-9ae5-4550-dc34-05899098fa9a"
      },
      "execution_count": null,
      "outputs": [
        {
          "output_type": "execute_result",
          "data": {
            "text/plain": [
              "Index(['Date', 'Domestic Market (Contract) Blow Molding, Low',\n",
              "       'Spot/Export Blow Molding', 'Spot, Domestic', 'WTISPLC', 'MCOILBRENTEU',\n",
              "       'GASREGM', 'IMPCH', 'EXPCH', 'PRUBBUSDM', 'WPUFD4111',\n",
              "       'PCU325211325211', 'PCU32611332611301', 'WPU0915021625',\n",
              "       'PCU3252132521', 'MHHNGSP', 'WPU072205011', 'PCU32611132611115',\n",
              "       'PCU32611332611301.1', 'PCU32611132611112', 'WPU0915021622',\n",
              "       'Producer Price Index by Industry: Plastics Material and Resins Manufacturing: Thermoplastic Resins and Plastics Materials ',\n",
              "       'Australia _export', 'Canada_export', 'Saudi_export', 'Usa_export',\n",
              "       'India_export', 'Russia_export', 'South_Africa_export', 'Turkey',\n",
              "       'Brazil', 'France_export', 'Germeny_export', 'United Kingdome_export',\n",
              "       'China_export', 'Australia _import', 'Canada_import', 'Saudi_import',\n",
              "       'Usa_import', 'India_import', 'Russia_import', 'South_Africa_import',\n",
              "       'Turkey_import', 'Brazil_import', 'France_import', 'Germeny_import',\n",
              "       'United Kingdome_import', 'China_import', 'Japan_import',\n",
              "       'South_korea_import'],\n",
              "      dtype='object')"
            ]
          },
          "metadata": {},
          "execution_count": 84
        }
      ]
    },
    {
      "cell_type": "code",
      "source": [
        "df.drop(columns=['Date'],inplace=True)"
      ],
      "metadata": {
        "id": "Wkp7ukkNfLsA"
      },
      "execution_count": null,
      "outputs": []
    },
    {
      "cell_type": "code",
      "source": [
        "# remove commas \n",
        "df = df.replace({',':''}, regex=True)"
      ],
      "metadata": {
        "id": "IJv3KJIH7VLR"
      },
      "execution_count": null,
      "outputs": []
    },
    {
      "cell_type": "code",
      "source": [
        "# replace str to float\n",
        "df = df.astype(float)"
      ],
      "metadata": {
        "id": "TLsD2k768SqD"
      },
      "execution_count": null,
      "outputs": []
    },
    {
      "cell_type": "code",
      "source": [
        "# float to int\n",
        "df = df.astype(int)"
      ],
      "metadata": {
        "id": "lLk2_mny8kKq"
      },
      "execution_count": null,
      "outputs": []
    },
    {
      "cell_type": "code",
      "source": [
        "df['Paper_products'] = 0.5*df['WPU0915021625'] + 0.5*df['WPU0915021622']\n",
        "df['Plastics_bags'] = 0.5*df['PCU32611132611115']+0.5*df['PCU32611132611112']\n",
        "df['Non_packing_plastics'] = 0.5*df['PCU32611332611301'] + 0.5*df['PCU32611332611301.1']\n",
        "df['Spot_market'] = 0.6*df['Spot/Export Blow Molding']+0.4*df['Spot, Domestic']\n",
        "df['Rubber_products'] = df['PRUBBUSDM']+df['WPU072205011']+df['PCU3252132521']+df['PCU325211325211']\n",
        "df['Crude_oil'] = 0.5*df['WTISPLC'] + 0.5*df['MCOILBRENTEU']\n"
      ],
      "metadata": {
        "id": "XENaHYVw9O5x"
      },
      "execution_count": null,
      "outputs": []
    },
    {
      "cell_type": "code",
      "source": [
        "# remove unncessary columns or null column\n",
        "df.drop(columns=['WPU0915021625','WPU0915021622','PCU32611132611115','PCU32611132611112','PCU32611332611301','PCU32611332611301','Spot/Export Blow Molding','Spot, Domestic','PRUBBUSDM','WPU072205011','PCU3252132521','PCU325211325211','WTISPLC','MCOILBRENTEU','South_korea_import'],inplace=True)"
      ],
      "metadata": {
        "id": "KFiWTqiiGUwr"
      },
      "execution_count": null,
      "outputs": []
    },
    {
      "cell_type": "code",
      "source": [
        "df['Natural_gas'] = df['GASREGM']+df['MHHNGSP']"
      ],
      "metadata": {
        "id": "degwLUg6Pv18"
      },
      "execution_count": null,
      "outputs": []
    },
    {
      "cell_type": "code",
      "source": [
        "df.drop(columns=['GASREGM','MHHNGSP'],inplace=True)"
      ],
      "metadata": {
        "id": "_f4UXuRVQW5K"
      },
      "execution_count": null,
      "outputs": []
    },
    {
      "cell_type": "code",
      "source": [
        "df.drop(columns=['PCU32611332611301.1'],inplace=True)"
      ],
      "metadata": {
        "id": "3xiO5dSPJuAl"
      },
      "execution_count": null,
      "outputs": []
    },
    {
      "cell_type": "code",
      "source": [
        "df.head()"
      ],
      "metadata": {
        "colab": {
          "base_uri": "https://localhost:8080/",
          "height": 473
        },
        "id": "Je5_JlhyGBh8",
        "outputId": "08a9da34-8766-4be2-9bee-e32f93b1caa8"
      },
      "execution_count": null,
      "outputs": [
        {
          "output_type": "execute_result",
          "data": {
            "text/plain": [
              "   Domestic Market (Contract) Blow Molding, Low  IMPCH  EXPCH  WPUFD4111  \\\n",
              "0                                            41   6902    863        135   \n",
              "1                                            41   6584    972        136   \n",
              "2                                            45   6424   1330        136   \n",
              "3                                            47   7070   1227        137   \n",
              "4                                            47   7850   1526        138   \n",
              "\n",
              "   Producer Price Index by Industry: Plastics Material and Resins Manufacturing: Thermoplastic Resins and Plastics Materials   \\\n",
              "0                                                139                                                                            \n",
              "1                                                141                                                                            \n",
              "2                                                146                                                                            \n",
              "3                                                151                                                                            \n",
              "4                                                155                                                                            \n",
              "\n",
              "   Australia _export  Canada_export  Saudi_export  Usa_export  India_export  \\\n",
              "0                  0              0             0           0             0   \n",
              "1                  0              0             0           0             0   \n",
              "2                  0              0             0           0             0   \n",
              "3                  0              0             0           0             0   \n",
              "4                  0              0             0           0             0   \n",
              "\n",
              "   ...  United Kingdome_import  China_import  Japan_import  Paper_products  \\\n",
              "0  ...                       0             0             0            0.00   \n",
              "1  ...                       0             0             0            0.00   \n",
              "2  ...                       0             0             0            0.00   \n",
              "3  ...                       0             0             0            0.00   \n",
              "4  ...                       0             0             0            0.00   \n",
              "\n",
              "   Plastics_bags  Non_packing_plastics  Spot_market  Rubber_products  \\\n",
              "0           0.00                106.00         0.00              187   \n",
              "1           0.00                105.00         0.00              192   \n",
              "2           0.00                106.00         0.00              193   \n",
              "3           0.00                106.00         0.00              195   \n",
              "4           0.00                106.00         0.00              198   \n",
              "\n",
              "   Crude_oil  Natural_gas  \n",
              "0      26.00            3  \n",
              "1      28.00            3  \n",
              "2      28.00            3  \n",
              "3      23.50            4  \n",
              "4      27.50            4  \n",
              "\n",
              "[5 rows x 39 columns]"
            ],
            "text/html": [
              "\n",
              "  <div id=\"df-0aea9b99-d018-41f0-bf21-4e58f4faaa4f\">\n",
              "    <div class=\"colab-df-container\">\n",
              "      <div>\n",
              "<style scoped>\n",
              "    .dataframe tbody tr th:only-of-type {\n",
              "        vertical-align: middle;\n",
              "    }\n",
              "\n",
              "    .dataframe tbody tr th {\n",
              "        vertical-align: top;\n",
              "    }\n",
              "\n",
              "    .dataframe thead th {\n",
              "        text-align: right;\n",
              "    }\n",
              "</style>\n",
              "<table border=\"1\" class=\"dataframe\">\n",
              "  <thead>\n",
              "    <tr style=\"text-align: right;\">\n",
              "      <th></th>\n",
              "      <th>Domestic Market (Contract) Blow Molding, Low</th>\n",
              "      <th>IMPCH</th>\n",
              "      <th>EXPCH</th>\n",
              "      <th>WPUFD4111</th>\n",
              "      <th>Producer Price Index by Industry: Plastics Material and Resins Manufacturing: Thermoplastic Resins and Plastics Materials</th>\n",
              "      <th>Australia _export</th>\n",
              "      <th>Canada_export</th>\n",
              "      <th>Saudi_export</th>\n",
              "      <th>Usa_export</th>\n",
              "      <th>India_export</th>\n",
              "      <th>...</th>\n",
              "      <th>United Kingdome_import</th>\n",
              "      <th>China_import</th>\n",
              "      <th>Japan_import</th>\n",
              "      <th>Paper_products</th>\n",
              "      <th>Plastics_bags</th>\n",
              "      <th>Non_packing_plastics</th>\n",
              "      <th>Spot_market</th>\n",
              "      <th>Rubber_products</th>\n",
              "      <th>Crude_oil</th>\n",
              "      <th>Natural_gas</th>\n",
              "    </tr>\n",
              "  </thead>\n",
              "  <tbody>\n",
              "    <tr>\n",
              "      <th>0</th>\n",
              "      <td>41</td>\n",
              "      <td>6902</td>\n",
              "      <td>863</td>\n",
              "      <td>135</td>\n",
              "      <td>139</td>\n",
              "      <td>0</td>\n",
              "      <td>0</td>\n",
              "      <td>0</td>\n",
              "      <td>0</td>\n",
              "      <td>0</td>\n",
              "      <td>...</td>\n",
              "      <td>0</td>\n",
              "      <td>0</td>\n",
              "      <td>0</td>\n",
              "      <td>0.00</td>\n",
              "      <td>0.00</td>\n",
              "      <td>106.00</td>\n",
              "      <td>0.00</td>\n",
              "      <td>187</td>\n",
              "      <td>26.00</td>\n",
              "      <td>3</td>\n",
              "    </tr>\n",
              "    <tr>\n",
              "      <th>1</th>\n",
              "      <td>41</td>\n",
              "      <td>6584</td>\n",
              "      <td>972</td>\n",
              "      <td>136</td>\n",
              "      <td>141</td>\n",
              "      <td>0</td>\n",
              "      <td>0</td>\n",
              "      <td>0</td>\n",
              "      <td>0</td>\n",
              "      <td>0</td>\n",
              "      <td>...</td>\n",
              "      <td>0</td>\n",
              "      <td>0</td>\n",
              "      <td>0</td>\n",
              "      <td>0.00</td>\n",
              "      <td>0.00</td>\n",
              "      <td>105.00</td>\n",
              "      <td>0.00</td>\n",
              "      <td>192</td>\n",
              "      <td>28.00</td>\n",
              "      <td>3</td>\n",
              "    </tr>\n",
              "    <tr>\n",
              "      <th>2</th>\n",
              "      <td>45</td>\n",
              "      <td>6424</td>\n",
              "      <td>1330</td>\n",
              "      <td>136</td>\n",
              "      <td>146</td>\n",
              "      <td>0</td>\n",
              "      <td>0</td>\n",
              "      <td>0</td>\n",
              "      <td>0</td>\n",
              "      <td>0</td>\n",
              "      <td>...</td>\n",
              "      <td>0</td>\n",
              "      <td>0</td>\n",
              "      <td>0</td>\n",
              "      <td>0.00</td>\n",
              "      <td>0.00</td>\n",
              "      <td>106.00</td>\n",
              "      <td>0.00</td>\n",
              "      <td>193</td>\n",
              "      <td>28.00</td>\n",
              "      <td>3</td>\n",
              "    </tr>\n",
              "    <tr>\n",
              "      <th>3</th>\n",
              "      <td>47</td>\n",
              "      <td>7070</td>\n",
              "      <td>1227</td>\n",
              "      <td>137</td>\n",
              "      <td>151</td>\n",
              "      <td>0</td>\n",
              "      <td>0</td>\n",
              "      <td>0</td>\n",
              "      <td>0</td>\n",
              "      <td>0</td>\n",
              "      <td>...</td>\n",
              "      <td>0</td>\n",
              "      <td>0</td>\n",
              "      <td>0</td>\n",
              "      <td>0.00</td>\n",
              "      <td>0.00</td>\n",
              "      <td>106.00</td>\n",
              "      <td>0.00</td>\n",
              "      <td>195</td>\n",
              "      <td>23.50</td>\n",
              "      <td>4</td>\n",
              "    </tr>\n",
              "    <tr>\n",
              "      <th>4</th>\n",
              "      <td>47</td>\n",
              "      <td>7850</td>\n",
              "      <td>1526</td>\n",
              "      <td>138</td>\n",
              "      <td>155</td>\n",
              "      <td>0</td>\n",
              "      <td>0</td>\n",
              "      <td>0</td>\n",
              "      <td>0</td>\n",
              "      <td>0</td>\n",
              "      <td>...</td>\n",
              "      <td>0</td>\n",
              "      <td>0</td>\n",
              "      <td>0</td>\n",
              "      <td>0.00</td>\n",
              "      <td>0.00</td>\n",
              "      <td>106.00</td>\n",
              "      <td>0.00</td>\n",
              "      <td>198</td>\n",
              "      <td>27.50</td>\n",
              "      <td>4</td>\n",
              "    </tr>\n",
              "  </tbody>\n",
              "</table>\n",
              "<p>5 rows × 39 columns</p>\n",
              "</div>\n",
              "      <button class=\"colab-df-convert\" onclick=\"convertToInteractive('df-0aea9b99-d018-41f0-bf21-4e58f4faaa4f')\"\n",
              "              title=\"Convert this dataframe to an interactive table.\"\n",
              "              style=\"display:none;\">\n",
              "        \n",
              "  <svg xmlns=\"http://www.w3.org/2000/svg\" height=\"24px\"viewBox=\"0 0 24 24\"\n",
              "       width=\"24px\">\n",
              "    <path d=\"M0 0h24v24H0V0z\" fill=\"none\"/>\n",
              "    <path d=\"M18.56 5.44l.94 2.06.94-2.06 2.06-.94-2.06-.94-.94-2.06-.94 2.06-2.06.94zm-11 1L8.5 8.5l.94-2.06 2.06-.94-2.06-.94L8.5 2.5l-.94 2.06-2.06.94zm10 10l.94 2.06.94-2.06 2.06-.94-2.06-.94-.94-2.06-.94 2.06-2.06.94z\"/><path d=\"M17.41 7.96l-1.37-1.37c-.4-.4-.92-.59-1.43-.59-.52 0-1.04.2-1.43.59L10.3 9.45l-7.72 7.72c-.78.78-.78 2.05 0 2.83L4 21.41c.39.39.9.59 1.41.59.51 0 1.02-.2 1.41-.59l7.78-7.78 2.81-2.81c.8-.78.8-2.07 0-2.86zM5.41 20L4 18.59l7.72-7.72 1.47 1.35L5.41 20z\"/>\n",
              "  </svg>\n",
              "      </button>\n",
              "      \n",
              "  <style>\n",
              "    .colab-df-container {\n",
              "      display:flex;\n",
              "      flex-wrap:wrap;\n",
              "      gap: 12px;\n",
              "    }\n",
              "\n",
              "    .colab-df-convert {\n",
              "      background-color: #E8F0FE;\n",
              "      border: none;\n",
              "      border-radius: 50%;\n",
              "      cursor: pointer;\n",
              "      display: none;\n",
              "      fill: #1967D2;\n",
              "      height: 32px;\n",
              "      padding: 0 0 0 0;\n",
              "      width: 32px;\n",
              "    }\n",
              "\n",
              "    .colab-df-convert:hover {\n",
              "      background-color: #E2EBFA;\n",
              "      box-shadow: 0px 1px 2px rgba(60, 64, 67, 0.3), 0px 1px 3px 1px rgba(60, 64, 67, 0.15);\n",
              "      fill: #174EA6;\n",
              "    }\n",
              "\n",
              "    [theme=dark] .colab-df-convert {\n",
              "      background-color: #3B4455;\n",
              "      fill: #D2E3FC;\n",
              "    }\n",
              "\n",
              "    [theme=dark] .colab-df-convert:hover {\n",
              "      background-color: #434B5C;\n",
              "      box-shadow: 0px 1px 3px 1px rgba(0, 0, 0, 0.15);\n",
              "      filter: drop-shadow(0px 1px 2px rgba(0, 0, 0, 0.3));\n",
              "      fill: #FFFFFF;\n",
              "    }\n",
              "  </style>\n",
              "\n",
              "      <script>\n",
              "        const buttonEl =\n",
              "          document.querySelector('#df-0aea9b99-d018-41f0-bf21-4e58f4faaa4f button.colab-df-convert');\n",
              "        buttonEl.style.display =\n",
              "          google.colab.kernel.accessAllowed ? 'block' : 'none';\n",
              "\n",
              "        async function convertToInteractive(key) {\n",
              "          const element = document.querySelector('#df-0aea9b99-d018-41f0-bf21-4e58f4faaa4f');\n",
              "          const dataTable =\n",
              "            await google.colab.kernel.invokeFunction('convertToInteractive',\n",
              "                                                     [key], {});\n",
              "          if (!dataTable) return;\n",
              "\n",
              "          const docLinkHtml = 'Like what you see? Visit the ' +\n",
              "            '<a target=\"_blank\" href=https://colab.research.google.com/notebooks/data_table.ipynb>data table notebook</a>'\n",
              "            + ' to learn more about interactive tables.';\n",
              "          element.innerHTML = '';\n",
              "          dataTable['output_type'] = 'display_data';\n",
              "          await google.colab.output.renderOutput(dataTable, element);\n",
              "          const docLink = document.createElement('div');\n",
              "          docLink.innerHTML = docLinkHtml;\n",
              "          element.appendChild(docLink);\n",
              "        }\n",
              "      </script>\n",
              "    </div>\n",
              "  </div>\n",
              "  "
            ]
          },
          "metadata": {},
          "execution_count": 94
        }
      ]
    },
    {
      "cell_type": "code",
      "source": [
        "# Due to less time , could not do much work on the data"
      ],
      "metadata": {
        "id": "I0hwtTqgs0ok"
      },
      "execution_count": 141,
      "outputs": []
    },
    {
      "cell_type": "markdown",
      "source": [
        "# Remove Outliers"
      ],
      "metadata": {
        "id": "2a-6-dbrnn_H"
      }
    },
    {
      "cell_type": "code",
      "source": [
        "def remove_outlier(df_in, col_name):\n",
        "\n",
        "  q1 = df_in[col_name].quantile(0.25)\n",
        "  q3 = df_in[col_name].quantile(0.75)\n",
        "  iqr = q3-q1 #Interquartile range\n",
        "  fence_low  = q1-1.5*iqr\n",
        "  fence_high = q3+1.5*iqr\n",
        "  #df_out = df_in.loc[(df_in[col_name] > fence_low) & (df_in[col_name] < fence_high)]\n",
        "  df_out = df[~((df < (q1 - 1.5 * iqr)) | (df > (q3 + 1.5 * iqr))).any(axis=1)]\n",
        "  return df_out\n",
        "\n",
        "re_dat = remove_outlier(df, df.columns)"
      ],
      "metadata": {
        "id": "LuHJMoaXnnJb"
      },
      "execution_count": null,
      "outputs": []
    },
    {
      "cell_type": "markdown",
      "source": [
        "# Check Multicolinearity using VIF"
      ],
      "metadata": {
        "id": "lFlRVBxsHm_t"
      }
    },
    {
      "cell_type": "code",
      "source": [
        "from statsmodels.stats.outliers_influence import variance_inflation_factor\n",
        "def calc_vif(X):\n",
        "\n",
        "    # Calculating VIF\n",
        "    vif = pd.DataFrame()\n",
        "    vif[\"variables\"] = X.columns\n",
        "    vif[\"VIF\"] = [variance_inflation_factor(X.values, i) for i in range(X.shape[1])]\n",
        "\n",
        "    return(vif)\n"
      ],
      "metadata": {
        "id": "BphVA9OnHu_4"
      },
      "execution_count": null,
      "outputs": []
    },
    {
      "cell_type": "code",
      "source": [
        "calc_vif(df[[i for i in df.describe().columns if i not in ['MHHNGSP','GASREGM','Date','Domestic Market (Contract) Blow Molding, Low','Year','Month','Day','Producer Price Index by Industry: Plastics Material and Resins Manufacturing: Thermoplastic Resins and Plastics Materials']]])"
      ],
      "metadata": {
        "colab": {
          "base_uri": "https://localhost:8080/",
          "height": 394
        },
        "id": "qDq5RM6HIT4a",
        "outputId": "ddf08a1f-f801-496e-eedd-dcf9c5a3ad66"
      },
      "execution_count": null,
      "outputs": [
        {
          "output_type": "execute_result",
          "data": {
            "text/plain": [
              "                                            variables    VIF\n",
              "0                                               IMPCH  62.01\n",
              "1                                               EXPCH  53.62\n",
              "2                                           WPUFD4111  93.35\n",
              "3   Producer Price Index by Industry: Plastics Mat... 168.55\n",
              "4                                      Paper_products  15.99\n",
              "5                                       Plastics_bags  18.24\n",
              "6                                Non_packing_plastics  17.15\n",
              "7                                         Spot_market  11.38\n",
              "8                                     Rubber_products 171.51\n",
              "9                                           Crude_oil  38.77\n",
              "10                                        Natural_gas  20.57"
            ],
            "text/html": [
              "\n",
              "  <div id=\"df-ee5383f0-82d4-4948-8faf-236e8a718bbb\">\n",
              "    <div class=\"colab-df-container\">\n",
              "      <div>\n",
              "<style scoped>\n",
              "    .dataframe tbody tr th:only-of-type {\n",
              "        vertical-align: middle;\n",
              "    }\n",
              "\n",
              "    .dataframe tbody tr th {\n",
              "        vertical-align: top;\n",
              "    }\n",
              "\n",
              "    .dataframe thead th {\n",
              "        text-align: right;\n",
              "    }\n",
              "</style>\n",
              "<table border=\"1\" class=\"dataframe\">\n",
              "  <thead>\n",
              "    <tr style=\"text-align: right;\">\n",
              "      <th></th>\n",
              "      <th>variables</th>\n",
              "      <th>VIF</th>\n",
              "    </tr>\n",
              "  </thead>\n",
              "  <tbody>\n",
              "    <tr>\n",
              "      <th>0</th>\n",
              "      <td>IMPCH</td>\n",
              "      <td>62.01</td>\n",
              "    </tr>\n",
              "    <tr>\n",
              "      <th>1</th>\n",
              "      <td>EXPCH</td>\n",
              "      <td>53.62</td>\n",
              "    </tr>\n",
              "    <tr>\n",
              "      <th>2</th>\n",
              "      <td>WPUFD4111</td>\n",
              "      <td>93.35</td>\n",
              "    </tr>\n",
              "    <tr>\n",
              "      <th>3</th>\n",
              "      <td>Producer Price Index by Industry: Plastics Mat...</td>\n",
              "      <td>168.55</td>\n",
              "    </tr>\n",
              "    <tr>\n",
              "      <th>4</th>\n",
              "      <td>Paper_products</td>\n",
              "      <td>15.99</td>\n",
              "    </tr>\n",
              "    <tr>\n",
              "      <th>5</th>\n",
              "      <td>Plastics_bags</td>\n",
              "      <td>18.24</td>\n",
              "    </tr>\n",
              "    <tr>\n",
              "      <th>6</th>\n",
              "      <td>Non_packing_plastics</td>\n",
              "      <td>17.15</td>\n",
              "    </tr>\n",
              "    <tr>\n",
              "      <th>7</th>\n",
              "      <td>Spot_market</td>\n",
              "      <td>11.38</td>\n",
              "    </tr>\n",
              "    <tr>\n",
              "      <th>8</th>\n",
              "      <td>Rubber_products</td>\n",
              "      <td>171.51</td>\n",
              "    </tr>\n",
              "    <tr>\n",
              "      <th>9</th>\n",
              "      <td>Crude_oil</td>\n",
              "      <td>38.77</td>\n",
              "    </tr>\n",
              "    <tr>\n",
              "      <th>10</th>\n",
              "      <td>Natural_gas</td>\n",
              "      <td>20.57</td>\n",
              "    </tr>\n",
              "  </tbody>\n",
              "</table>\n",
              "</div>\n",
              "      <button class=\"colab-df-convert\" onclick=\"convertToInteractive('df-ee5383f0-82d4-4948-8faf-236e8a718bbb')\"\n",
              "              title=\"Convert this dataframe to an interactive table.\"\n",
              "              style=\"display:none;\">\n",
              "        \n",
              "  <svg xmlns=\"http://www.w3.org/2000/svg\" height=\"24px\"viewBox=\"0 0 24 24\"\n",
              "       width=\"24px\">\n",
              "    <path d=\"M0 0h24v24H0V0z\" fill=\"none\"/>\n",
              "    <path d=\"M18.56 5.44l.94 2.06.94-2.06 2.06-.94-2.06-.94-.94-2.06-.94 2.06-2.06.94zm-11 1L8.5 8.5l.94-2.06 2.06-.94-2.06-.94L8.5 2.5l-.94 2.06-2.06.94zm10 10l.94 2.06.94-2.06 2.06-.94-2.06-.94-.94-2.06-.94 2.06-2.06.94z\"/><path d=\"M17.41 7.96l-1.37-1.37c-.4-.4-.92-.59-1.43-.59-.52 0-1.04.2-1.43.59L10.3 9.45l-7.72 7.72c-.78.78-.78 2.05 0 2.83L4 21.41c.39.39.9.59 1.41.59.51 0 1.02-.2 1.41-.59l7.78-7.78 2.81-2.81c.8-.78.8-2.07 0-2.86zM5.41 20L4 18.59l7.72-7.72 1.47 1.35L5.41 20z\"/>\n",
              "  </svg>\n",
              "      </button>\n",
              "      \n",
              "  <style>\n",
              "    .colab-df-container {\n",
              "      display:flex;\n",
              "      flex-wrap:wrap;\n",
              "      gap: 12px;\n",
              "    }\n",
              "\n",
              "    .colab-df-convert {\n",
              "      background-color: #E8F0FE;\n",
              "      border: none;\n",
              "      border-radius: 50%;\n",
              "      cursor: pointer;\n",
              "      display: none;\n",
              "      fill: #1967D2;\n",
              "      height: 32px;\n",
              "      padding: 0 0 0 0;\n",
              "      width: 32px;\n",
              "    }\n",
              "\n",
              "    .colab-df-convert:hover {\n",
              "      background-color: #E2EBFA;\n",
              "      box-shadow: 0px 1px 2px rgba(60, 64, 67, 0.3), 0px 1px 3px 1px rgba(60, 64, 67, 0.15);\n",
              "      fill: #174EA6;\n",
              "    }\n",
              "\n",
              "    [theme=dark] .colab-df-convert {\n",
              "      background-color: #3B4455;\n",
              "      fill: #D2E3FC;\n",
              "    }\n",
              "\n",
              "    [theme=dark] .colab-df-convert:hover {\n",
              "      background-color: #434B5C;\n",
              "      box-shadow: 0px 1px 3px 1px rgba(0, 0, 0, 0.15);\n",
              "      filter: drop-shadow(0px 1px 2px rgba(0, 0, 0, 0.3));\n",
              "      fill: #FFFFFF;\n",
              "    }\n",
              "  </style>\n",
              "\n",
              "      <script>\n",
              "        const buttonEl =\n",
              "          document.querySelector('#df-ee5383f0-82d4-4948-8faf-236e8a718bbb button.colab-df-convert');\n",
              "        buttonEl.style.display =\n",
              "          google.colab.kernel.accessAllowed ? 'block' : 'none';\n",
              "\n",
              "        async function convertToInteractive(key) {\n",
              "          const element = document.querySelector('#df-ee5383f0-82d4-4948-8faf-236e8a718bbb');\n",
              "          const dataTable =\n",
              "            await google.colab.kernel.invokeFunction('convertToInteractive',\n",
              "                                                     [key], {});\n",
              "          if (!dataTable) return;\n",
              "\n",
              "          const docLinkHtml = 'Like what you see? Visit the ' +\n",
              "            '<a target=\"_blank\" href=https://colab.research.google.com/notebooks/data_table.ipynb>data table notebook</a>'\n",
              "            + ' to learn more about interactive tables.';\n",
              "          element.innerHTML = '';\n",
              "          dataTable['output_type'] = 'display_data';\n",
              "          await google.colab.output.renderOutput(dataTable, element);\n",
              "          const docLink = document.createElement('div');\n",
              "          docLink.innerHTML = docLinkHtml;\n",
              "          element.appendChild(docLink);\n",
              "        }\n",
              "      </script>\n",
              "    </div>\n",
              "  </div>\n",
              "  "
            ]
          },
          "metadata": {},
          "execution_count": 99
        }
      ]
    },
    {
      "cell_type": "markdown",
      "source": [
        "# train test split"
      ],
      "metadata": {
        "id": "DEOGNobQfgeE"
      }
    },
    {
      "cell_type": "code",
      "source": [
        "X = df.drop(['Domestic Market (Contract) Blow Molding, Low'],axis=1)\n",
        "y = df['Domestic Market (Contract) Blow Molding, Low']"
      ],
      "metadata": {
        "id": "tPY1W5lufaQA"
      },
      "execution_count": null,
      "outputs": []
    },
    {
      "cell_type": "code",
      "source": [
        "# MimMaxScaler\n",
        "from sklearn.preprocessing import MinMaxScaler\n",
        "scaler = MinMaxScaler()\n",
        "X_scaled = scaler.fit_transform(X)\n"
      ],
      "metadata": {
        "id": "fhbjIAa9fkZR"
      },
      "execution_count": null,
      "outputs": []
    },
    {
      "cell_type": "code",
      "source": [
        "print(X.shape,y.shape)"
      ],
      "metadata": {
        "colab": {
          "base_uri": "https://localhost:8080/"
        },
        "id": "IxPBYKY4f53L",
        "outputId": "bb5bd9f4-f236-498b-dc91-25a48fe381e8"
      },
      "execution_count": null,
      "outputs": [
        {
          "output_type": "stream",
          "name": "stdout",
          "text": [
            "(276, 11) (276,)\n"
          ]
        }
      ]
    },
    {
      "cell_type": "markdown",
      "source": [
        "## ***Train and Test Split***"
      ],
      "metadata": {
        "id": "Z01hcPKqQpBh"
      }
    },
    {
      "cell_type": "code",
      "source": [
        "from sklearn.model_selection import train_test_split\n",
        "X_train, X_test, y_train, y_test = train_test_split(X_scaled, y, test_size = 0.20, random_state = 42)\n"
      ],
      "metadata": {
        "id": "yYATyzrvgGyY"
      },
      "execution_count": null,
      "outputs": []
    },
    {
      "cell_type": "code",
      "source": [
        "from lazypredict.Supervised import LazyRegressor, LazyClassifier"
      ],
      "metadata": {
        "id": "6FMFeR6DgO1y"
      },
      "execution_count": null,
      "outputs": []
    },
    {
      "cell_type": "code",
      "source": [
        "clas = LazyClassifier(verbose=0,ignore_warnings=True, custom_metric=None)\n",
        "models,predictions = clas.fit(X_train, X_test, y_train, y_test) "
      ],
      "metadata": {
        "colab": {
          "base_uri": "https://localhost:8080/"
        },
        "id": "NzErQmvDgngf",
        "outputId": "b5311874-4fe3-4449-9685-0a9c78903037"
      },
      "execution_count": null,
      "outputs": [
        {
          "output_type": "stream",
          "name": "stderr",
          "text": [
            "100%|██████████| 29/29 [00:03<00:00,  8.52it/s]\n"
          ]
        }
      ]
    },
    {
      "cell_type": "code",
      "source": [
        "models"
      ],
      "metadata": {
        "colab": {
          "base_uri": "https://localhost:8080/",
          "height": 833
        },
        "id": "EiecOI-4hLqL",
        "outputId": "3b45c274-cceb-4750-e4f2-def2a3227907"
      },
      "execution_count": null,
      "outputs": [
        {
          "output_type": "execute_result",
          "data": {
            "text/plain": [
              "                             Accuracy  Balanced Accuracy ROC AUC  F1 Score  \\\n",
              "Model                                                                        \n",
              "RandomForestClassifier           0.43               0.46    None      0.43   \n",
              "BaggingClassifier                0.39               0.46    None      0.39   \n",
              "ExtraTreesClassifier             0.39               0.41    None      0.40   \n",
              "LabelPropagation                 0.41               0.40    None      0.41   \n",
              "LabelSpreading                   0.41               0.40    None      0.41   \n",
              "LGBMClassifier                   0.36               0.39    None      0.35   \n",
              "DecisionTreeClassifier           0.27               0.28    None      0.28   \n",
              "ExtraTreeClassifier              0.30               0.27    None      0.33   \n",
              "LinearSVC                        0.27               0.27    None      0.25   \n",
              "CalibratedClassifierCV           0.23               0.22    None      0.18   \n",
              "LinearDiscriminantAnalysis       0.23               0.22    None      0.22   \n",
              "KNeighborsClassifier             0.21               0.21    None      0.21   \n",
              "LogisticRegression               0.21               0.19    None      0.18   \n",
              "RidgeClassifierCV                0.18               0.18    None      0.14   \n",
              "SGDClassifier                    0.18               0.16    None      0.12   \n",
              "RidgeClassifier                  0.14               0.15    None      0.10   \n",
              "GaussianNB                       0.16               0.14    None      0.12   \n",
              "NearestCentroid                  0.11               0.14    None      0.10   \n",
              "SVC                              0.12               0.12    None      0.06   \n",
              "Perceptron                       0.12               0.12    None      0.09   \n",
              "BernoulliNB                      0.11               0.07    None      0.08   \n",
              "AdaBoostClassifier               0.07               0.06    None      0.01   \n",
              "PassiveAggressiveClassifier      0.04               0.05    None      0.02   \n",
              "DummyClassifier                  0.07               0.03    None      0.01   \n",
              "\n",
              "                             Time Taken  \n",
              "Model                                    \n",
              "RandomForestClassifier             0.23  \n",
              "BaggingClassifier                  0.05  \n",
              "ExtraTreesClassifier               0.18  \n",
              "LabelPropagation                   0.02  \n",
              "LabelSpreading                     0.04  \n",
              "LGBMClassifier                     1.43  \n",
              "DecisionTreeClassifier             0.01  \n",
              "ExtraTreeClassifier                0.01  \n",
              "LinearSVC                          0.14  \n",
              "CalibratedClassifierCV             0.73  \n",
              "LinearDiscriminantAnalysis         0.02  \n",
              "KNeighborsClassifier               0.01  \n",
              "LogisticRegression                 0.07  \n",
              "RidgeClassifierCV                  0.02  \n",
              "SGDClassifier                      0.05  \n",
              "RidgeClassifier                    0.01  \n",
              "GaussianNB                         0.02  \n",
              "NearestCentroid                    0.01  \n",
              "SVC                                0.03  \n",
              "Perceptron                         0.04  \n",
              "BernoulliNB                        0.01  \n",
              "AdaBoostClassifier                 0.15  \n",
              "PassiveAggressiveClassifier        0.05  \n",
              "DummyClassifier                    0.01  "
            ],
            "text/html": [
              "\n",
              "  <div id=\"df-d96cca79-7410-483d-81d5-ffa962e1f93b\">\n",
              "    <div class=\"colab-df-container\">\n",
              "      <div>\n",
              "<style scoped>\n",
              "    .dataframe tbody tr th:only-of-type {\n",
              "        vertical-align: middle;\n",
              "    }\n",
              "\n",
              "    .dataframe tbody tr th {\n",
              "        vertical-align: top;\n",
              "    }\n",
              "\n",
              "    .dataframe thead th {\n",
              "        text-align: right;\n",
              "    }\n",
              "</style>\n",
              "<table border=\"1\" class=\"dataframe\">\n",
              "  <thead>\n",
              "    <tr style=\"text-align: right;\">\n",
              "      <th></th>\n",
              "      <th>Accuracy</th>\n",
              "      <th>Balanced Accuracy</th>\n",
              "      <th>ROC AUC</th>\n",
              "      <th>F1 Score</th>\n",
              "      <th>Time Taken</th>\n",
              "    </tr>\n",
              "    <tr>\n",
              "      <th>Model</th>\n",
              "      <th></th>\n",
              "      <th></th>\n",
              "      <th></th>\n",
              "      <th></th>\n",
              "      <th></th>\n",
              "    </tr>\n",
              "  </thead>\n",
              "  <tbody>\n",
              "    <tr>\n",
              "      <th>RandomForestClassifier</th>\n",
              "      <td>0.43</td>\n",
              "      <td>0.46</td>\n",
              "      <td>None</td>\n",
              "      <td>0.43</td>\n",
              "      <td>0.23</td>\n",
              "    </tr>\n",
              "    <tr>\n",
              "      <th>BaggingClassifier</th>\n",
              "      <td>0.39</td>\n",
              "      <td>0.46</td>\n",
              "      <td>None</td>\n",
              "      <td>0.39</td>\n",
              "      <td>0.05</td>\n",
              "    </tr>\n",
              "    <tr>\n",
              "      <th>ExtraTreesClassifier</th>\n",
              "      <td>0.39</td>\n",
              "      <td>0.41</td>\n",
              "      <td>None</td>\n",
              "      <td>0.40</td>\n",
              "      <td>0.18</td>\n",
              "    </tr>\n",
              "    <tr>\n",
              "      <th>LabelPropagation</th>\n",
              "      <td>0.41</td>\n",
              "      <td>0.40</td>\n",
              "      <td>None</td>\n",
              "      <td>0.41</td>\n",
              "      <td>0.02</td>\n",
              "    </tr>\n",
              "    <tr>\n",
              "      <th>LabelSpreading</th>\n",
              "      <td>0.41</td>\n",
              "      <td>0.40</td>\n",
              "      <td>None</td>\n",
              "      <td>0.41</td>\n",
              "      <td>0.04</td>\n",
              "    </tr>\n",
              "    <tr>\n",
              "      <th>LGBMClassifier</th>\n",
              "      <td>0.36</td>\n",
              "      <td>0.39</td>\n",
              "      <td>None</td>\n",
              "      <td>0.35</td>\n",
              "      <td>1.43</td>\n",
              "    </tr>\n",
              "    <tr>\n",
              "      <th>DecisionTreeClassifier</th>\n",
              "      <td>0.27</td>\n",
              "      <td>0.28</td>\n",
              "      <td>None</td>\n",
              "      <td>0.28</td>\n",
              "      <td>0.01</td>\n",
              "    </tr>\n",
              "    <tr>\n",
              "      <th>ExtraTreeClassifier</th>\n",
              "      <td>0.30</td>\n",
              "      <td>0.27</td>\n",
              "      <td>None</td>\n",
              "      <td>0.33</td>\n",
              "      <td>0.01</td>\n",
              "    </tr>\n",
              "    <tr>\n",
              "      <th>LinearSVC</th>\n",
              "      <td>0.27</td>\n",
              "      <td>0.27</td>\n",
              "      <td>None</td>\n",
              "      <td>0.25</td>\n",
              "      <td>0.14</td>\n",
              "    </tr>\n",
              "    <tr>\n",
              "      <th>CalibratedClassifierCV</th>\n",
              "      <td>0.23</td>\n",
              "      <td>0.22</td>\n",
              "      <td>None</td>\n",
              "      <td>0.18</td>\n",
              "      <td>0.73</td>\n",
              "    </tr>\n",
              "    <tr>\n",
              "      <th>LinearDiscriminantAnalysis</th>\n",
              "      <td>0.23</td>\n",
              "      <td>0.22</td>\n",
              "      <td>None</td>\n",
              "      <td>0.22</td>\n",
              "      <td>0.02</td>\n",
              "    </tr>\n",
              "    <tr>\n",
              "      <th>KNeighborsClassifier</th>\n",
              "      <td>0.21</td>\n",
              "      <td>0.21</td>\n",
              "      <td>None</td>\n",
              "      <td>0.21</td>\n",
              "      <td>0.01</td>\n",
              "    </tr>\n",
              "    <tr>\n",
              "      <th>LogisticRegression</th>\n",
              "      <td>0.21</td>\n",
              "      <td>0.19</td>\n",
              "      <td>None</td>\n",
              "      <td>0.18</td>\n",
              "      <td>0.07</td>\n",
              "    </tr>\n",
              "    <tr>\n",
              "      <th>RidgeClassifierCV</th>\n",
              "      <td>0.18</td>\n",
              "      <td>0.18</td>\n",
              "      <td>None</td>\n",
              "      <td>0.14</td>\n",
              "      <td>0.02</td>\n",
              "    </tr>\n",
              "    <tr>\n",
              "      <th>SGDClassifier</th>\n",
              "      <td>0.18</td>\n",
              "      <td>0.16</td>\n",
              "      <td>None</td>\n",
              "      <td>0.12</td>\n",
              "      <td>0.05</td>\n",
              "    </tr>\n",
              "    <tr>\n",
              "      <th>RidgeClassifier</th>\n",
              "      <td>0.14</td>\n",
              "      <td>0.15</td>\n",
              "      <td>None</td>\n",
              "      <td>0.10</td>\n",
              "      <td>0.01</td>\n",
              "    </tr>\n",
              "    <tr>\n",
              "      <th>GaussianNB</th>\n",
              "      <td>0.16</td>\n",
              "      <td>0.14</td>\n",
              "      <td>None</td>\n",
              "      <td>0.12</td>\n",
              "      <td>0.02</td>\n",
              "    </tr>\n",
              "    <tr>\n",
              "      <th>NearestCentroid</th>\n",
              "      <td>0.11</td>\n",
              "      <td>0.14</td>\n",
              "      <td>None</td>\n",
              "      <td>0.10</td>\n",
              "      <td>0.01</td>\n",
              "    </tr>\n",
              "    <tr>\n",
              "      <th>SVC</th>\n",
              "      <td>0.12</td>\n",
              "      <td>0.12</td>\n",
              "      <td>None</td>\n",
              "      <td>0.06</td>\n",
              "      <td>0.03</td>\n",
              "    </tr>\n",
              "    <tr>\n",
              "      <th>Perceptron</th>\n",
              "      <td>0.12</td>\n",
              "      <td>0.12</td>\n",
              "      <td>None</td>\n",
              "      <td>0.09</td>\n",
              "      <td>0.04</td>\n",
              "    </tr>\n",
              "    <tr>\n",
              "      <th>BernoulliNB</th>\n",
              "      <td>0.11</td>\n",
              "      <td>0.07</td>\n",
              "      <td>None</td>\n",
              "      <td>0.08</td>\n",
              "      <td>0.01</td>\n",
              "    </tr>\n",
              "    <tr>\n",
              "      <th>AdaBoostClassifier</th>\n",
              "      <td>0.07</td>\n",
              "      <td>0.06</td>\n",
              "      <td>None</td>\n",
              "      <td>0.01</td>\n",
              "      <td>0.15</td>\n",
              "    </tr>\n",
              "    <tr>\n",
              "      <th>PassiveAggressiveClassifier</th>\n",
              "      <td>0.04</td>\n",
              "      <td>0.05</td>\n",
              "      <td>None</td>\n",
              "      <td>0.02</td>\n",
              "      <td>0.05</td>\n",
              "    </tr>\n",
              "    <tr>\n",
              "      <th>DummyClassifier</th>\n",
              "      <td>0.07</td>\n",
              "      <td>0.03</td>\n",
              "      <td>None</td>\n",
              "      <td>0.01</td>\n",
              "      <td>0.01</td>\n",
              "    </tr>\n",
              "  </tbody>\n",
              "</table>\n",
              "</div>\n",
              "      <button class=\"colab-df-convert\" onclick=\"convertToInteractive('df-d96cca79-7410-483d-81d5-ffa962e1f93b')\"\n",
              "              title=\"Convert this dataframe to an interactive table.\"\n",
              "              style=\"display:none;\">\n",
              "        \n",
              "  <svg xmlns=\"http://www.w3.org/2000/svg\" height=\"24px\"viewBox=\"0 0 24 24\"\n",
              "       width=\"24px\">\n",
              "    <path d=\"M0 0h24v24H0V0z\" fill=\"none\"/>\n",
              "    <path d=\"M18.56 5.44l.94 2.06.94-2.06 2.06-.94-2.06-.94-.94-2.06-.94 2.06-2.06.94zm-11 1L8.5 8.5l.94-2.06 2.06-.94-2.06-.94L8.5 2.5l-.94 2.06-2.06.94zm10 10l.94 2.06.94-2.06 2.06-.94-2.06-.94-.94-2.06-.94 2.06-2.06.94z\"/><path d=\"M17.41 7.96l-1.37-1.37c-.4-.4-.92-.59-1.43-.59-.52 0-1.04.2-1.43.59L10.3 9.45l-7.72 7.72c-.78.78-.78 2.05 0 2.83L4 21.41c.39.39.9.59 1.41.59.51 0 1.02-.2 1.41-.59l7.78-7.78 2.81-2.81c.8-.78.8-2.07 0-2.86zM5.41 20L4 18.59l7.72-7.72 1.47 1.35L5.41 20z\"/>\n",
              "  </svg>\n",
              "      </button>\n",
              "      \n",
              "  <style>\n",
              "    .colab-df-container {\n",
              "      display:flex;\n",
              "      flex-wrap:wrap;\n",
              "      gap: 12px;\n",
              "    }\n",
              "\n",
              "    .colab-df-convert {\n",
              "      background-color: #E8F0FE;\n",
              "      border: none;\n",
              "      border-radius: 50%;\n",
              "      cursor: pointer;\n",
              "      display: none;\n",
              "      fill: #1967D2;\n",
              "      height: 32px;\n",
              "      padding: 0 0 0 0;\n",
              "      width: 32px;\n",
              "    }\n",
              "\n",
              "    .colab-df-convert:hover {\n",
              "      background-color: #E2EBFA;\n",
              "      box-shadow: 0px 1px 2px rgba(60, 64, 67, 0.3), 0px 1px 3px 1px rgba(60, 64, 67, 0.15);\n",
              "      fill: #174EA6;\n",
              "    }\n",
              "\n",
              "    [theme=dark] .colab-df-convert {\n",
              "      background-color: #3B4455;\n",
              "      fill: #D2E3FC;\n",
              "    }\n",
              "\n",
              "    [theme=dark] .colab-df-convert:hover {\n",
              "      background-color: #434B5C;\n",
              "      box-shadow: 0px 1px 3px 1px rgba(0, 0, 0, 0.15);\n",
              "      filter: drop-shadow(0px 1px 2px rgba(0, 0, 0, 0.3));\n",
              "      fill: #FFFFFF;\n",
              "    }\n",
              "  </style>\n",
              "\n",
              "      <script>\n",
              "        const buttonEl =\n",
              "          document.querySelector('#df-d96cca79-7410-483d-81d5-ffa962e1f93b button.colab-df-convert');\n",
              "        buttonEl.style.display =\n",
              "          google.colab.kernel.accessAllowed ? 'block' : 'none';\n",
              "\n",
              "        async function convertToInteractive(key) {\n",
              "          const element = document.querySelector('#df-d96cca79-7410-483d-81d5-ffa962e1f93b');\n",
              "          const dataTable =\n",
              "            await google.colab.kernel.invokeFunction('convertToInteractive',\n",
              "                                                     [key], {});\n",
              "          if (!dataTable) return;\n",
              "\n",
              "          const docLinkHtml = 'Like what you see? Visit the ' +\n",
              "            '<a target=\"_blank\" href=https://colab.research.google.com/notebooks/data_table.ipynb>data table notebook</a>'\n",
              "            + ' to learn more about interactive tables.';\n",
              "          element.innerHTML = '';\n",
              "          dataTable['output_type'] = 'display_data';\n",
              "          await google.colab.output.renderOutput(dataTable, element);\n",
              "          const docLink = document.createElement('div');\n",
              "          docLink.innerHTML = docLinkHtml;\n",
              "          element.appendChild(docLink);\n",
              "        }\n",
              "      </script>\n",
              "    </div>\n",
              "  </div>\n",
              "  "
            ]
          },
          "metadata": {},
          "execution_count": 107
        }
      ]
    },
    {
      "cell_type": "markdown",
      "source": [
        "# Logistic Regression"
      ],
      "metadata": {
        "id": "pGqkju-_oHnd"
      }
    },
    {
      "cell_type": "code",
      "source": [
        "lr = LogisticRegression(C=1e5, solver='newton-cg', multi_class='multinomial')\n",
        "lr.fit(X_train,y_train)\n",
        "preds = lr.predict(X_test)"
      ],
      "metadata": {
        "id": "JWAg-Ildhp9G"
      },
      "execution_count": null,
      "outputs": []
    },
    {
      "cell_type": "code",
      "source": [
        "accuracy = float(np.sum(preds==y_test))/y_test.shape[0]\n",
        "print(\"accuracy: %f\" % (accuracy))\n"
      ],
      "metadata": {
        "colab": {
          "base_uri": "https://localhost:8080/"
        },
        "id": "szGCcttqoaf8",
        "outputId": "cefe8175-f570-456d-8ff2-567156b506ea"
      },
      "execution_count": null,
      "outputs": [
        {
          "output_type": "stream",
          "name": "stdout",
          "text": [
            "accuracy: 0.339286\n"
          ]
        }
      ]
    },
    {
      "cell_type": "code",
      "source": [
        "lr_y_pred_test = lr.predict(X_test)\n",
        "lr_y_pred_train = lr.predict(X_train)"
      ],
      "metadata": {
        "id": "Ra5nmEByoboW"
      },
      "execution_count": null,
      "outputs": []
    },
    {
      "cell_type": "code",
      "source": [
        "from sklearn.metrics import classification_report\n",
        "print('Classification report for Logistic Regression (Test set)= ')\n",
        "print(classification_report(lr_y_pred_test, y_test))"
      ],
      "metadata": {
        "colab": {
          "base_uri": "https://localhost:8080/"
        },
        "id": "JWRbKqHeogol",
        "outputId": "5211ad6d-c8a3-4013-dc2f-b2773023eea9"
      },
      "execution_count": null,
      "outputs": [
        {
          "output_type": "stream",
          "name": "stdout",
          "text": [
            "Classification report for Logistic Regression (Test set)= \n",
            "              precision    recall  f1-score   support\n",
            "\n",
            "          32       0.00      0.00      0.00         0\n",
            "          33       0.00      0.00      0.00         0\n",
            "          35       0.00      0.00      0.00         0\n",
            "          36       0.00      0.00      0.00         3\n",
            "          38       0.00      0.00      0.00         0\n",
            "          41       0.00      0.00      0.00         2\n",
            "          42       0.00      0.00      0.00         0\n",
            "          43       0.00      0.00      0.00         0\n",
            "          45       0.00      0.00      0.00         1\n",
            "          46       1.00      0.50      0.67         2\n",
            "          47       1.00      0.50      0.67         2\n",
            "          49       1.00      1.00      1.00         1\n",
            "          50       0.50      1.00      0.67         1\n",
            "          53       0.00      0.00      0.00         1\n",
            "          55       1.00      0.50      0.67         2\n",
            "          59       0.00      0.00      0.00         1\n",
            "          61       0.00      0.00      0.00         0\n",
            "          62       0.00      0.00      0.00         0\n",
            "          64       0.00      0.00      0.00         1\n",
            "          65       1.00      0.33      0.50         3\n",
            "          67       0.40      1.00      0.57         2\n",
            "          68       0.00      0.00      0.00         0\n",
            "          71       0.00      0.00      0.00         0\n",
            "          72       0.75      0.60      0.67         5\n",
            "          73       0.00      0.00      0.00         1\n",
            "          75       0.00      0.00      0.00         2\n",
            "          76       0.00      0.00      0.00         0\n",
            "          77       0.00      0.00      0.00         1\n",
            "          78       0.00      0.00      0.00         2\n",
            "          79       0.00      0.00      0.00         0\n",
            "          80       1.00      0.67      0.80         3\n",
            "          81       0.00      0.00      0.00         1\n",
            "          83       0.50      0.33      0.40         3\n",
            "          84       0.00      0.00      0.00         2\n",
            "          85       0.00      0.00      0.00         1\n",
            "          86       0.50      0.50      0.50         2\n",
            "          88       0.00      0.00      0.00         2\n",
            "          89       0.00      0.00      0.00         0\n",
            "          91       0.00      0.00      0.00         1\n",
            "          93       0.50      1.00      0.67         2\n",
            "          95       0.00      0.00      0.00         2\n",
            "          97       0.00      0.00      0.00         1\n",
            "         100       0.00      0.00      0.00         0\n",
            "         104       1.00      0.50      0.67         2\n",
            "         108       1.00      1.00      1.00         1\n",
            "\n",
            "    accuracy                           0.34        56\n",
            "   macro avg       0.25      0.21      0.21        56\n",
            "weighted avg       0.44      0.34      0.36        56\n",
            "\n"
          ]
        }
      ]
    },
    {
      "cell_type": "code",
      "source": [
        "accuracy_lr= accuracy_score(y_test, lr_y_pred_test)"
      ],
      "metadata": {
        "id": "z0ZWS7VZokTy"
      },
      "execution_count": null,
      "outputs": []
    },
    {
      "cell_type": "code",
      "source": [
        "import seaborn as sns\n",
        "from sklearn.metrics import confusion_matrix\n",
        "#Generate the confusion matrix\n",
        "cf_matrix = confusion_matrix(y_test,lr_y_pred_test)\n",
        "\n",
        "print(cf_matrix)"
      ],
      "metadata": {
        "colab": {
          "base_uri": "https://localhost:8080/"
        },
        "id": "EoSA4OGoo__9",
        "outputId": "47a101cd-e613-4d4d-acd3-4ff799ea9921"
      },
      "execution_count": null,
      "outputs": [
        {
          "output_type": "stream",
          "name": "stdout",
          "text": [
            "[[0 0 0 ... 0 0 0]\n",
            " [0 0 0 ... 0 0 0]\n",
            " [0 0 0 ... 0 0 0]\n",
            " ...\n",
            " [0 0 0 ... 0 1 0]\n",
            " [0 0 0 ... 0 1 0]\n",
            " [0 0 0 ... 0 0 1]]\n"
          ]
        }
      ]
    },
    {
      "cell_type": "markdown",
      "source": [
        "# # Random Forest"
      ],
      "metadata": {
        "id": "IvBLGRUxpbJp"
      }
    },
    {
      "cell_type": "code",
      "source": [
        "from sklearn.ensemble import RandomForestClassifier\n",
        "# taking 300 trees\n",
        "rf = RandomForestClassifier(n_estimators=300)\n",
        "rf.fit(X_train, y_train)\n",
        "rf_y_pred_test = rf.predict(X_test)\n",
        "accuracy_rf= accuracy_score(y_test, rf_y_pred_test)\n",
        "accuracy_rf"
      ],
      "metadata": {
        "colab": {
          "base_uri": "https://localhost:8080/"
        },
        "id": "IC8SjTsDpLvX",
        "outputId": "606dcbaa-034d-41fc-8c24-22711c4de5db"
      },
      "execution_count": null,
      "outputs": [
        {
          "output_type": "execute_result",
          "data": {
            "text/plain": [
              "0.4107142857142857"
            ]
          },
          "metadata": {},
          "execution_count": 117
        }
      ]
    },
    {
      "cell_type": "code",
      "source": [
        "print(classification_report(y_test, rf_y_pred_test))"
      ],
      "metadata": {
        "colab": {
          "base_uri": "https://localhost:8080/"
        },
        "id": "pOisunbfpi6q",
        "outputId": "490efdf0-90e0-40b9-96d7-77dcc1ff8953"
      },
      "execution_count": null,
      "outputs": [
        {
          "output_type": "stream",
          "name": "stdout",
          "text": [
            "              precision    recall  f1-score   support\n",
            "\n",
            "          32       0.00      0.00      0.00         1\n",
            "          33       0.00      0.00      0.00         1\n",
            "          34       0.00      0.00      0.00         0\n",
            "          35       0.00      0.00      0.00         1\n",
            "          37       0.00      0.00      0.00         0\n",
            "          38       0.00      0.00      0.00         1\n",
            "          40       0.00      0.00      0.00         0\n",
            "          41       0.00      0.00      0.00         0\n",
            "          42       0.00      0.00      0.00         2\n",
            "          43       0.00      0.00      0.00         1\n",
            "          46       0.50      1.00      0.67         1\n",
            "          47       0.50      1.00      0.67         1\n",
            "          49       1.00      1.00      1.00         1\n",
            "          50       1.00      1.00      1.00         2\n",
            "          55       1.00      1.00      1.00         1\n",
            "          61       0.00      0.00      0.00         1\n",
            "          62       1.00      1.00      1.00         1\n",
            "          64       0.00      0.00      0.00         0\n",
            "          65       1.00      1.00      1.00         1\n",
            "          67       0.25      0.20      0.22         5\n",
            "          68       1.00      1.00      1.00         1\n",
            "          69       0.00      0.00      0.00         0\n",
            "          70       0.00      0.00      0.00         0\n",
            "          71       0.00      0.00      0.00         1\n",
            "          72       0.25      0.25      0.25         4\n",
            "          73       0.00      0.00      0.00         0\n",
            "          75       0.00      0.00      0.00         2\n",
            "          76       0.00      0.00      0.00         3\n",
            "          77       0.00      0.00      0.00         1\n",
            "          78       0.00      0.00      0.00         1\n",
            "          79       0.00      0.00      0.00         1\n",
            "          80       0.50      1.00      0.67         2\n",
            "          81       0.00      0.00      0.00         0\n",
            "          83       0.00      0.00      0.00         2\n",
            "          84       0.50      0.33      0.40         3\n",
            "          85       1.00      1.00      1.00         1\n",
            "          86       0.50      0.50      0.50         2\n",
            "          89       1.00      0.33      0.50         3\n",
            "          90       0.00      0.00      0.00         0\n",
            "          92       0.00      0.00      0.00         0\n",
            "          93       0.75      0.75      0.75         4\n",
            "          95       0.00      0.00      0.00         0\n",
            "          97       0.00      0.00      0.00         0\n",
            "         100       1.00      0.50      0.67         2\n",
            "         104       1.00      1.00      1.00         1\n",
            "         108       1.00      1.00      1.00         1\n",
            "\n",
            "    accuracy                           0.41        56\n",
            "   macro avg       0.32      0.32      0.31        56\n",
            "weighted avg       0.44      0.41      0.41        56\n",
            "\n"
          ]
        }
      ]
    },
    {
      "cell_type": "code",
      "source": [
        "feature_importance = pd.DataFrame({'Feature':X.columns,\n",
        "                                   'Score':rf.feature_importances_}).sort_values(by='Score', ascending=False).reset_index(drop=True)\n",
        "feature_importance.head()"
      ],
      "metadata": {
        "colab": {
          "base_uri": "https://localhost:8080/",
          "height": 206
        },
        "id": "XQBIjpLgpxoI",
        "outputId": "505e71c9-9896-4cf8-cbbd-bf445b0c5fd0"
      },
      "execution_count": null,
      "outputs": [
        {
          "output_type": "execute_result",
          "data": {
            "text/plain": [
              "                                             Feature  Score\n",
              "0  Producer Price Index by Industry: Plastics Mat...   0.13\n",
              "1                                          Crude_oil   0.13\n",
              "2                                    Rubber_products   0.13\n",
              "3                                              EXPCH   0.11\n",
              "4                                              IMPCH   0.10"
            ],
            "text/html": [
              "\n",
              "  <div id=\"df-e805dd90-f153-48ca-a731-7356d689f367\">\n",
              "    <div class=\"colab-df-container\">\n",
              "      <div>\n",
              "<style scoped>\n",
              "    .dataframe tbody tr th:only-of-type {\n",
              "        vertical-align: middle;\n",
              "    }\n",
              "\n",
              "    .dataframe tbody tr th {\n",
              "        vertical-align: top;\n",
              "    }\n",
              "\n",
              "    .dataframe thead th {\n",
              "        text-align: right;\n",
              "    }\n",
              "</style>\n",
              "<table border=\"1\" class=\"dataframe\">\n",
              "  <thead>\n",
              "    <tr style=\"text-align: right;\">\n",
              "      <th></th>\n",
              "      <th>Feature</th>\n",
              "      <th>Score</th>\n",
              "    </tr>\n",
              "  </thead>\n",
              "  <tbody>\n",
              "    <tr>\n",
              "      <th>0</th>\n",
              "      <td>Producer Price Index by Industry: Plastics Mat...</td>\n",
              "      <td>0.13</td>\n",
              "    </tr>\n",
              "    <tr>\n",
              "      <th>1</th>\n",
              "      <td>Crude_oil</td>\n",
              "      <td>0.13</td>\n",
              "    </tr>\n",
              "    <tr>\n",
              "      <th>2</th>\n",
              "      <td>Rubber_products</td>\n",
              "      <td>0.13</td>\n",
              "    </tr>\n",
              "    <tr>\n",
              "      <th>3</th>\n",
              "      <td>EXPCH</td>\n",
              "      <td>0.11</td>\n",
              "    </tr>\n",
              "    <tr>\n",
              "      <th>4</th>\n",
              "      <td>IMPCH</td>\n",
              "      <td>0.10</td>\n",
              "    </tr>\n",
              "  </tbody>\n",
              "</table>\n",
              "</div>\n",
              "      <button class=\"colab-df-convert\" onclick=\"convertToInteractive('df-e805dd90-f153-48ca-a731-7356d689f367')\"\n",
              "              title=\"Convert this dataframe to an interactive table.\"\n",
              "              style=\"display:none;\">\n",
              "        \n",
              "  <svg xmlns=\"http://www.w3.org/2000/svg\" height=\"24px\"viewBox=\"0 0 24 24\"\n",
              "       width=\"24px\">\n",
              "    <path d=\"M0 0h24v24H0V0z\" fill=\"none\"/>\n",
              "    <path d=\"M18.56 5.44l.94 2.06.94-2.06 2.06-.94-2.06-.94-.94-2.06-.94 2.06-2.06.94zm-11 1L8.5 8.5l.94-2.06 2.06-.94-2.06-.94L8.5 2.5l-.94 2.06-2.06.94zm10 10l.94 2.06.94-2.06 2.06-.94-2.06-.94-.94-2.06-.94 2.06-2.06.94z\"/><path d=\"M17.41 7.96l-1.37-1.37c-.4-.4-.92-.59-1.43-.59-.52 0-1.04.2-1.43.59L10.3 9.45l-7.72 7.72c-.78.78-.78 2.05 0 2.83L4 21.41c.39.39.9.59 1.41.59.51 0 1.02-.2 1.41-.59l7.78-7.78 2.81-2.81c.8-.78.8-2.07 0-2.86zM5.41 20L4 18.59l7.72-7.72 1.47 1.35L5.41 20z\"/>\n",
              "  </svg>\n",
              "      </button>\n",
              "      \n",
              "  <style>\n",
              "    .colab-df-container {\n",
              "      display:flex;\n",
              "      flex-wrap:wrap;\n",
              "      gap: 12px;\n",
              "    }\n",
              "\n",
              "    .colab-df-convert {\n",
              "      background-color: #E8F0FE;\n",
              "      border: none;\n",
              "      border-radius: 50%;\n",
              "      cursor: pointer;\n",
              "      display: none;\n",
              "      fill: #1967D2;\n",
              "      height: 32px;\n",
              "      padding: 0 0 0 0;\n",
              "      width: 32px;\n",
              "    }\n",
              "\n",
              "    .colab-df-convert:hover {\n",
              "      background-color: #E2EBFA;\n",
              "      box-shadow: 0px 1px 2px rgba(60, 64, 67, 0.3), 0px 1px 3px 1px rgba(60, 64, 67, 0.15);\n",
              "      fill: #174EA6;\n",
              "    }\n",
              "\n",
              "    [theme=dark] .colab-df-convert {\n",
              "      background-color: #3B4455;\n",
              "      fill: #D2E3FC;\n",
              "    }\n",
              "\n",
              "    [theme=dark] .colab-df-convert:hover {\n",
              "      background-color: #434B5C;\n",
              "      box-shadow: 0px 1px 3px 1px rgba(0, 0, 0, 0.15);\n",
              "      filter: drop-shadow(0px 1px 2px rgba(0, 0, 0, 0.3));\n",
              "      fill: #FFFFFF;\n",
              "    }\n",
              "  </style>\n",
              "\n",
              "      <script>\n",
              "        const buttonEl =\n",
              "          document.querySelector('#df-e805dd90-f153-48ca-a731-7356d689f367 button.colab-df-convert');\n",
              "        buttonEl.style.display =\n",
              "          google.colab.kernel.accessAllowed ? 'block' : 'none';\n",
              "\n",
              "        async function convertToInteractive(key) {\n",
              "          const element = document.querySelector('#df-e805dd90-f153-48ca-a731-7356d689f367');\n",
              "          const dataTable =\n",
              "            await google.colab.kernel.invokeFunction('convertToInteractive',\n",
              "                                                     [key], {});\n",
              "          if (!dataTable) return;\n",
              "\n",
              "          const docLinkHtml = 'Like what you see? Visit the ' +\n",
              "            '<a target=\"_blank\" href=https://colab.research.google.com/notebooks/data_table.ipynb>data table notebook</a>'\n",
              "            + ' to learn more about interactive tables.';\n",
              "          element.innerHTML = '';\n",
              "          dataTable['output_type'] = 'display_data';\n",
              "          await google.colab.output.renderOutput(dataTable, element);\n",
              "          const docLink = document.createElement('div');\n",
              "          docLink.innerHTML = docLinkHtml;\n",
              "          element.appendChild(docLink);\n",
              "        }\n",
              "      </script>\n",
              "    </div>\n",
              "  </div>\n",
              "  "
            ]
          },
          "metadata": {},
          "execution_count": 121
        }
      ]
    },
    {
      "cell_type": "code",
      "source": [
        "fig, ax = plt.subplots(figsize=(15,8))\n",
        "ax = sns.barplot(x=feature_importance['Score'], y=feature_importance['Feature'])\n",
        "plt.show()\n"
      ],
      "metadata": {
        "colab": {
          "base_uri": "https://localhost:8080/",
          "height": 716
        },
        "id": "oYmGRhIZp2PA",
        "outputId": "b8dbcbd9-5743-4da1-96da-95751f023193"
      },
      "execution_count": null,
      "outputs": [
        {
          "output_type": "display_data",
          "data": {
            "text/plain": [
              "<Figure size 1500x800 with 1 Axes>"
            ],
            "image/png": "[encoded data removed]"
          },
          "metadata": {}
        }
      ]
    },
    {
      "cell_type": "markdown",
      "source": [
        "# GINI"
      ],
      "metadata": {
        "id": "6F8o8GmVqCmj"
      }
    },
    {
      "cell_type": "code",
      "source": [
        "rf_gini= RandomForestClassifier(bootstrap=True, ccp_alpha=0.0, class_weight=None,\n",
        "                       criterion='gini', max_depth=30, max_features='log2',\n",
        "                       max_leaf_nodes=40, max_samples=None,\n",
        "                       min_impurity_decrease=0.0,\n",
        "                       min_samples_leaf=1, min_samples_split=4,\n",
        "                       min_weight_fraction_leaf=0.0, n_estimators=200,\n",
        "                       n_jobs=None, oob_score=False, random_state=None,\n",
        "                       verbose=0, warm_start=False)\n",
        "rf_gini.fit(X_train, y_train)\n"
      ],
      "metadata": {
        "colab": {
          "base_uri": "https://localhost:8080/",
          "height": 91
        },
        "id": "84Fspdikp8kR",
        "outputId": "f2812f20-e2fd-4fc2-f539-f85b2620024f"
      },
      "execution_count": null,
      "outputs": [
        {
          "output_type": "execute_result",
          "data": {
            "text/plain": [
              "RandomForestClassifier(max_depth=30, max_features='log2', max_leaf_nodes=40,\n",
              "                       min_samples_split=4, n_estimators=200)"
            ],
            "text/html": [
              "<style>#sk-container-id-1 {color: black;background-color: white;}#sk-container-id-1 pre{padding: 0;}#sk-container-id-1 div.sk-toggleable {background-color: white;}#sk-container-id-1 label.sk-toggleable__label {cursor: pointer;display: block;width: 100%;margin-bottom: 0;padding: 0.3em;box-sizing: border-box;text-align: center;}#sk-container-id-1 label.sk-toggleable__label-arrow:before {content: \"▸\";float: left;margin-right: 0.25em;color: #696969;}#sk-container-id-1 label.sk-toggleable__label-arrow:hover:before {color: black;}#sk-container-id-1 div.sk-estimator:hover label.sk-toggleable__label-arrow:before {color: black;}#sk-container-id-1 div.sk-toggleable__content {max-height: 0;max-width: 0;overflow: hidden;text-align: left;background-color: #f0f8ff;}#sk-container-id-1 div.sk-toggleable__content pre {margin: 0.2em;color: black;border-radius: 0.25em;background-color: #f0f8ff;}#sk-container-id-1 input.sk-toggleable__control:checked~div.sk-toggleable__content {max-height: 200px;max-width: 100%;overflow: auto;}#sk-container-id-1 input.sk-toggleable__control:checked~label.sk-toggleable__label-arrow:before {content: \"▾\";}#sk-container-id-1 div.sk-estimator input.sk-toggleable__control:checked~label.sk-toggleable__label {background-color: #d4ebff;}#sk-container-id-1 div.sk-label input.sk-toggleable__control:checked~label.sk-toggleable__label {background-color: #d4ebff;}#sk-container-id-1 input.sk-hidden--visually {border: 0;clip: rect(1px 1px 1px 1px);clip: rect(1px, 1px, 1px, 1px);height: 1px;margin: -1px;overflow: hidden;padding: 0;position: absolute;width: 1px;}#sk-container-id-1 div.sk-estimator {font-family: monospace;background-color: #f0f8ff;border: 1px dotted black;border-radius: 0.25em;box-sizing: border-box;margin-bottom: 0.5em;}#sk-container-id-1 div.sk-estimator:hover {background-color: #d4ebff;}#sk-container-id-1 div.sk-parallel-item::after {content: \"\";width: 100%;border-bottom: 1px solid gray;flex-grow: 1;}#sk-container-id-1 div.sk-label:hover label.sk-toggleable__label {background-color: #d4ebff;}#sk-container-id-1 div.sk-serial::before {content: \"\";position: absolute;border-left: 1px solid gray;box-sizing: border-box;top: 0;bottom: 0;left: 50%;z-index: 0;}#sk-container-id-1 div.sk-serial {display: flex;flex-direction: column;align-items: center;background-color: white;padding-right: 0.2em;padding-left: 0.2em;position: relative;}#sk-container-id-1 div.sk-item {position: relative;z-index: 1;}#sk-container-id-1 div.sk-parallel {display: flex;align-items: stretch;justify-content: center;background-color: white;position: relative;}#sk-container-id-1 div.sk-item::before, #sk-container-id-1 div.sk-parallel-item::before {content: \"\";position: absolute;border-left: 1px solid gray;box-sizing: border-box;top: 0;bottom: 0;left: 50%;z-index: -1;}#sk-container-id-1 div.sk-parallel-item {display: flex;flex-direction: column;z-index: 1;position: relative;background-color: white;}#sk-container-id-1 div.sk-parallel-item:first-child::after {align-self: flex-end;width: 50%;}#sk-container-id-1 div.sk-parallel-item:last-child::after {align-self: flex-start;width: 50%;}#sk-container-id-1 div.sk-parallel-item:only-child::after {width: 0;}#sk-container-id-1 div.sk-dashed-wrapped {border: 1px dashed gray;margin: 0 0.4em 0.5em 0.4em;box-sizing: border-box;padding-bottom: 0.4em;background-color: white;}#sk-container-id-1 div.sk-label label {font-family: monospace;font-weight: bold;display: inline-block;line-height: 1.2em;}#sk-container-id-1 div.sk-label-container {text-align: center;}#sk-container-id-1 div.sk-container {/* jupyter's `normalize.less` sets `[hidden] { display: none; }` but bootstrap.min.css set `[hidden] { display: none !important; }` so we also need the `!important` here to be able to override the default hidden behavior on the sphinx rendered scikit-learn.org. See: https://github.com/scikit-learn/scikit-learn/issues/21755 */display: inline-block !important;position: relative;}#sk-container-id-1 div.sk-text-repr-fallback {display: none;}</style><div id=\"sk-container-id-1\" class=\"sk-top-container\"><div class=\"sk-text-repr-fallback\"><pre>RandomForestClassifier(max_depth=30, max_features=&#x27;log2&#x27;, max_leaf_nodes=40,\n",
              "                       min_samples_split=4, n_estimators=200)</pre><b>In a Jupyter environment, please rerun this cell to show the HTML representation or trust the notebook. <br />On GitHub, the HTML representation is unable to render, please try loading this page with nbviewer.org.</b></div><div class=\"sk-container\" hidden><div class=\"sk-item\"><div class=\"sk-estimator sk-toggleable\"><input class=\"sk-toggleable__control sk-hidden--visually\" id=\"sk-estimator-id-1\" type=\"checkbox\" checked><label for=\"sk-estimator-id-1\" class=\"sk-toggleable__label sk-toggleable__label-arrow\">RandomForestClassifier</label><div class=\"sk-toggleable__content\"><pre>RandomForestClassifier(max_depth=30, max_features=&#x27;log2&#x27;, max_leaf_nodes=40,\n",
              "                       min_samples_split=4, n_estimators=200)</pre></div></div></div></div></div>"
            ]
          },
          "metadata": {},
          "execution_count": 123
        }
      ]
    },
    {
      "cell_type": "code",
      "source": [
        "y_pred_train = rf_gini.predict(X_train)\n",
        "accuracy_score(y_train, y_pred_train)"
      ],
      "metadata": {
        "colab": {
          "base_uri": "https://localhost:8080/"
        },
        "id": "Av218L31qILU",
        "outputId": "b2e6791f-46ce-4a87-a0be-b848d5c3ac17"
      },
      "execution_count": null,
      "outputs": [
        {
          "output_type": "execute_result",
          "data": {
            "text/plain": [
              "0.95"
            ]
          },
          "metadata": {},
          "execution_count": 124
        }
      ]
    },
    {
      "cell_type": "code",
      "source": [
        "gini_y_pred_test = rf_gini.predict(X_test)\n",
        "accuracy_gini=accuracy_score(y_test, gini_y_pred_test)\n"
      ],
      "metadata": {
        "id": "JNs2El_xqOHr"
      },
      "execution_count": null,
      "outputs": []
    },
    {
      "cell_type": "code",
      "source": [
        "print(classification_report(y_test, gini_y_pred_test))\n"
      ],
      "metadata": {
        "colab": {
          "base_uri": "https://localhost:8080/"
        },
        "id": "1bMtmwfpqX_a",
        "outputId": "6fa38c68-e011-462c-ca2c-8e23a03a3f48"
      },
      "execution_count": null,
      "outputs": [
        {
          "output_type": "stream",
          "name": "stdout",
          "text": [
            "              precision    recall  f1-score   support\n",
            "\n",
            "          32       0.00      0.00      0.00         1\n",
            "          33       0.00      0.00      0.00         1\n",
            "          35       0.00      0.00      0.00         1\n",
            "          37       0.00      0.00      0.00         0\n",
            "          38       0.00      0.00      0.00         1\n",
            "          41       0.00      0.00      0.00         0\n",
            "          42       0.00      0.00      0.00         2\n",
            "          43       0.00      0.00      0.00         1\n",
            "          46       0.50      1.00      0.67         1\n",
            "          47       0.50      1.00      0.67         1\n",
            "          49       1.00      1.00      1.00         1\n",
            "          50       1.00      1.00      1.00         2\n",
            "          55       1.00      1.00      1.00         1\n",
            "          61       0.00      0.00      0.00         1\n",
            "          62       0.00      0.00      0.00         1\n",
            "          63       0.00      0.00      0.00         0\n",
            "          64       0.00      0.00      0.00         0\n",
            "          65       0.50      1.00      0.67         1\n",
            "          67       0.25      0.20      0.22         5\n",
            "          68       1.00      1.00      1.00         1\n",
            "          71       0.00      0.00      0.00         1\n",
            "          72       0.25      0.25      0.25         4\n",
            "          75       0.00      0.00      0.00         2\n",
            "          76       0.00      0.00      0.00         3\n",
            "          77       0.00      0.00      0.00         1\n",
            "          78       0.00      0.00      0.00         1\n",
            "          79       0.00      0.00      0.00         1\n",
            "          80       0.50      1.00      0.67         2\n",
            "          81       0.00      0.00      0.00         0\n",
            "          83       0.00      0.00      0.00         2\n",
            "          84       0.00      0.00      0.00         3\n",
            "          85       0.50      1.00      0.67         1\n",
            "          86       0.50      0.50      0.50         2\n",
            "          88       0.00      0.00      0.00         0\n",
            "          89       0.50      0.33      0.40         3\n",
            "          90       0.00      0.00      0.00         0\n",
            "          93       0.67      0.50      0.57         4\n",
            "          95       0.00      0.00      0.00         0\n",
            "          97       0.00      0.00      0.00         0\n",
            "         100       1.00      0.50      0.67         2\n",
            "         104       1.00      1.00      1.00         1\n",
            "         108       1.00      1.00      1.00         1\n",
            "\n",
            "    accuracy                           0.36        56\n",
            "   macro avg       0.28      0.32      0.28        56\n",
            "weighted avg       0.35      0.36      0.34        56\n",
            "\n"
          ]
        }
      ]
    },
    {
      "cell_type": "code",
      "source": [
        "feature_importance = pd.DataFrame({'Feature':X.columns,\n",
        "                                   'Score':rf_gini.feature_importances_}).sort_values(by='Score', ascending=False).reset_index(drop=True)\n",
        "feature_importance.head()\n"
      ],
      "metadata": {
        "colab": {
          "base_uri": "https://localhost:8080/",
          "height": 206
        },
        "id": "NmWweR9bqcGy",
        "outputId": "4a13cf53-233e-4a4b-bd6d-c18db929df70"
      },
      "execution_count": null,
      "outputs": [
        {
          "output_type": "execute_result",
          "data": {
            "text/plain": [
              "                                             Feature  Score\n",
              "0  Producer Price Index by Industry: Plastics Mat...   0.14\n",
              "1                                    Rubber_products   0.13\n",
              "2                                          Crude_oil   0.13\n",
              "3                                        Spot_market   0.11\n",
              "4                                              EXPCH   0.11"
            ],
            "text/html": [
              "\n",
              "  <div id=\"df-fd125f06-1390-439c-8a53-4b53f90fc254\">\n",
              "    <div class=\"colab-df-container\">\n",
              "      <div>\n",
              "<style scoped>\n",
              "    .dataframe tbody tr th:only-of-type {\n",
              "        vertical-align: middle;\n",
              "    }\n",
              "\n",
              "    .dataframe tbody tr th {\n",
              "        vertical-align: top;\n",
              "    }\n",
              "\n",
              "    .dataframe thead th {\n",
              "        text-align: right;\n",
              "    }\n",
              "</style>\n",
              "<table border=\"1\" class=\"dataframe\">\n",
              "  <thead>\n",
              "    <tr style=\"text-align: right;\">\n",
              "      <th></th>\n",
              "      <th>Feature</th>\n",
              "      <th>Score</th>\n",
              "    </tr>\n",
              "  </thead>\n",
              "  <tbody>\n",
              "    <tr>\n",
              "      <th>0</th>\n",
              "      <td>Producer Price Index by Industry: Plastics Mat...</td>\n",
              "      <td>0.14</td>\n",
              "    </tr>\n",
              "    <tr>\n",
              "      <th>1</th>\n",
              "      <td>Rubber_products</td>\n",
              "      <td>0.13</td>\n",
              "    </tr>\n",
              "    <tr>\n",
              "      <th>2</th>\n",
              "      <td>Crude_oil</td>\n",
              "      <td>0.13</td>\n",
              "    </tr>\n",
              "    <tr>\n",
              "      <th>3</th>\n",
              "      <td>Spot_market</td>\n",
              "      <td>0.11</td>\n",
              "    </tr>\n",
              "    <tr>\n",
              "      <th>4</th>\n",
              "      <td>EXPCH</td>\n",
              "      <td>0.11</td>\n",
              "    </tr>\n",
              "  </tbody>\n",
              "</table>\n",
              "</div>\n",
              "      <button class=\"colab-df-convert\" onclick=\"convertToInteractive('df-fd125f06-1390-439c-8a53-4b53f90fc254')\"\n",
              "              title=\"Convert this dataframe to an interactive table.\"\n",
              "              style=\"display:none;\">\n",
              "        \n",
              "  <svg xmlns=\"http://www.w3.org/2000/svg\" height=\"24px\"viewBox=\"0 0 24 24\"\n",
              "       width=\"24px\">\n",
              "    <path d=\"M0 0h24v24H0V0z\" fill=\"none\"/>\n",
              "    <path d=\"M18.56 5.44l.94 2.06.94-2.06 2.06-.94-2.06-.94-.94-2.06-.94 2.06-2.06.94zm-11 1L8.5 8.5l.94-2.06 2.06-.94-2.06-.94L8.5 2.5l-.94 2.06-2.06.94zm10 10l.94 2.06.94-2.06 2.06-.94-2.06-.94-.94-2.06-.94 2.06-2.06.94z\"/><path d=\"M17.41 7.96l-1.37-1.37c-.4-.4-.92-.59-1.43-.59-.52 0-1.04.2-1.43.59L10.3 9.45l-7.72 7.72c-.78.78-.78 2.05 0 2.83L4 21.41c.39.39.9.59 1.41.59.51 0 1.02-.2 1.41-.59l7.78-7.78 2.81-2.81c.8-.78.8-2.07 0-2.86zM5.41 20L4 18.59l7.72-7.72 1.47 1.35L5.41 20z\"/>\n",
              "  </svg>\n",
              "      </button>\n",
              "      \n",
              "  <style>\n",
              "    .colab-df-container {\n",
              "      display:flex;\n",
              "      flex-wrap:wrap;\n",
              "      gap: 12px;\n",
              "    }\n",
              "\n",
              "    .colab-df-convert {\n",
              "      background-color: #E8F0FE;\n",
              "      border: none;\n",
              "      border-radius: 50%;\n",
              "      cursor: pointer;\n",
              "      display: none;\n",
              "      fill: #1967D2;\n",
              "      height: 32px;\n",
              "      padding: 0 0 0 0;\n",
              "      width: 32px;\n",
              "    }\n",
              "\n",
              "    .colab-df-convert:hover {\n",
              "      background-color: #E2EBFA;\n",
              "      box-shadow: 0px 1px 2px rgba(60, 64, 67, 0.3), 0px 1px 3px 1px rgba(60, 64, 67, 0.15);\n",
              "      fill: #174EA6;\n",
              "    }\n",
              "\n",
              "    [theme=dark] .colab-df-convert {\n",
              "      background-color: #3B4455;\n",
              "      fill: #D2E3FC;\n",
              "    }\n",
              "\n",
              "    [theme=dark] .colab-df-convert:hover {\n",
              "      background-color: #434B5C;\n",
              "      box-shadow: 0px 1px 3px 1px rgba(0, 0, 0, 0.15);\n",
              "      filter: drop-shadow(0px 1px 2px rgba(0, 0, 0, 0.3));\n",
              "      fill: #FFFFFF;\n",
              "    }\n",
              "  </style>\n",
              "\n",
              "      <script>\n",
              "        const buttonEl =\n",
              "          document.querySelector('#df-fd125f06-1390-439c-8a53-4b53f90fc254 button.colab-df-convert');\n",
              "        buttonEl.style.display =\n",
              "          google.colab.kernel.accessAllowed ? 'block' : 'none';\n",
              "\n",
              "        async function convertToInteractive(key) {\n",
              "          const element = document.querySelector('#df-fd125f06-1390-439c-8a53-4b53f90fc254');\n",
              "          const dataTable =\n",
              "            await google.colab.kernel.invokeFunction('convertToInteractive',\n",
              "                                                     [key], {});\n",
              "          if (!dataTable) return;\n",
              "\n",
              "          const docLinkHtml = 'Like what you see? Visit the ' +\n",
              "            '<a target=\"_blank\" href=https://colab.research.google.com/notebooks/data_table.ipynb>data table notebook</a>'\n",
              "            + ' to learn more about interactive tables.';\n",
              "          element.innerHTML = '';\n",
              "          dataTable['output_type'] = 'display_data';\n",
              "          await google.colab.output.renderOutput(dataTable, element);\n",
              "          const docLink = document.createElement('div');\n",
              "          docLink.innerHTML = docLinkHtml;\n",
              "          element.appendChild(docLink);\n",
              "        }\n",
              "      </script>\n",
              "    </div>\n",
              "  </div>\n",
              "  "
            ]
          },
          "metadata": {},
          "execution_count": 128
        }
      ]
    },
    {
      "cell_type": "code",
      "source": [
        "fig, ax = plt.subplots(figsize=(15,8))\n",
        "ax = sns.barplot(x=feature_importance['Score'], y=feature_importance['Feature'])\n",
        "plt.show()"
      ],
      "metadata": {
        "colab": {
          "base_uri": "https://localhost:8080/",
          "height": 367
        },
        "id": "-yH-bYGtqfLS",
        "outputId": "08e9a2eb-4bbc-4fbe-eeea-15a669226b87"
      },
      "execution_count": null,
      "outputs": [
        {
          "output_type": "display_data",
          "data": {
            "text/plain": [
              "<Figure size 1500x800 with 1 Axes>"
            ],
            "image/png": "[encoded data removed]"
          },
          "metadata": {}
        }
      ]
    },
    {
      "cell_type": "markdown",
      "source": [
        "# Naive Bayes"
      ],
      "metadata": {
        "id": "02DVhT53q3F3"
      }
    },
    {
      "cell_type": "code",
      "source": [
        "from sklearn.naive_bayes import GaussianNB\n",
        "NB_model = GaussianNB().fit(X_train,y_train)"
      ],
      "metadata": {
        "id": "w6uOPkJSqjJ8"
      },
      "execution_count": null,
      "outputs": []
    },
    {
      "cell_type": "code",
      "source": [
        "NB_y_train_pred = NB_model.predict(X_train)\n",
        "NB_y_test_pred = NB_model.predict(X_test)"
      ],
      "metadata": {
        "id": "5nPM6uBUq7I9"
      },
      "execution_count": null,
      "outputs": []
    },
    {
      "cell_type": "code",
      "source": [
        "print(confusion_matrix(y_train,NB_y_train_pred))"
      ],
      "metadata": {
        "colab": {
          "base_uri": "https://localhost:8080/"
        },
        "id": "poSakTPTq-RC",
        "outputId": "e28e63d4-45ee-4d77-8d85-e7fc2cd56a6b"
      },
      "execution_count": null,
      "outputs": [
        {
          "output_type": "stream",
          "name": "stdout",
          "text": [
            "[[1 0 0 ... 0 0 0]\n",
            " [0 1 0 ... 0 0 0]\n",
            " [0 0 1 ... 0 0 0]\n",
            " ...\n",
            " [0 0 0 ... 7 0 0]\n",
            " [0 0 0 ... 0 2 0]\n",
            " [0 0 0 ... 0 0 2]]\n"
          ]
        }
      ]
    },
    {
      "cell_type": "code",
      "source": [
        "accuracy_NB=accuracy_score(y_test, NB_y_test_pred)"
      ],
      "metadata": {
        "id": "cRkXcv75rDQj"
      },
      "execution_count": null,
      "outputs": []
    },
    {
      "cell_type": "code",
      "source": [
        "print(classification_report(y_test, NB_y_test_pred))"
      ],
      "metadata": {
        "colab": {
          "base_uri": "https://localhost:8080/"
        },
        "id": "SEzpVlpWrKtO",
        "outputId": "2203773f-bbc0-4309-8c3e-dd3c6c8ac2b4"
      },
      "execution_count": null,
      "outputs": [
        {
          "output_type": "stream",
          "name": "stdout",
          "text": [
            "              precision    recall  f1-score   support\n",
            "\n",
            "          32       0.00      0.00      0.00         1\n",
            "          33       0.00      0.00      0.00         1\n",
            "          35       0.00      0.00      0.00         1\n",
            "          37       0.00      0.00      0.00         0\n",
            "          38       0.00      0.00      0.00         1\n",
            "          41       0.00      0.00      0.00         0\n",
            "          42       0.00      0.00      0.00         2\n",
            "          43       0.00      0.00      0.00         1\n",
            "          45       0.00      0.00      0.00         0\n",
            "          46       0.00      0.00      0.00         1\n",
            "          47       0.00      0.00      0.00         1\n",
            "          49       0.00      0.00      0.00         1\n",
            "          50       0.00      0.00      0.00         2\n",
            "          55       0.00      0.00      0.00         1\n",
            "          61       0.00      0.00      0.00         1\n",
            "          62       0.00      0.00      0.00         1\n",
            "          65       0.20      1.00      0.33         1\n",
            "          67       0.50      0.60      0.55         5\n",
            "          68       0.00      0.00      0.00         1\n",
            "          70       0.00      0.00      0.00         0\n",
            "          71       0.00      0.00      0.00         1\n",
            "          72       0.00      0.00      0.00         4\n",
            "          75       0.00      0.00      0.00         2\n",
            "          76       0.00      0.00      0.00         3\n",
            "          77       0.20      1.00      0.33         1\n",
            "          78       0.00      0.00      0.00         1\n",
            "          79       0.00      0.00      0.00         1\n",
            "          80       0.00      0.00      0.00         2\n",
            "          83       0.00      0.00      0.00         2\n",
            "          84       0.50      0.67      0.57         3\n",
            "          85       0.17      1.00      0.29         1\n",
            "          86       0.00      0.00      0.00         2\n",
            "          88       0.00      0.00      0.00         0\n",
            "          89       1.00      0.33      0.50         3\n",
            "          93       0.00      0.00      0.00         4\n",
            "          95       0.00      0.00      0.00         0\n",
            "          97       0.00      0.00      0.00         0\n",
            "          98       0.00      0.00      0.00         0\n",
            "         100       0.00      0.00      0.00         2\n",
            "         104       0.00      0.00      0.00         1\n",
            "         108       0.00      0.00      0.00         1\n",
            "\n",
            "    accuracy                           0.16        56\n",
            "   macro avg       0.06      0.11      0.06        56\n",
            "weighted avg       0.14      0.16      0.12        56\n",
            "\n"
          ]
        }
      ]
    },
    {
      "cell_type": "markdown",
      "source": [
        "# KNN"
      ],
      "metadata": {
        "id": "wfW21RxWrWe6"
      }
    },
    {
      "cell_type": "code",
      "source": [
        "from sklearn.neighbors import KNeighborsClassifier\n",
        "knn = KNeighborsClassifier()\n",
        "knn.fit(X_train,y_train)\n",
        "knn_predict = knn.predict(X_test)\n",
        "accuracy_KN = accuracy_score(y_test,knn_predict)\n",
        "print(\"Accuracy of the KNeighbors Classifier model: \", accuracy_KN * 100)"
      ],
      "metadata": {
        "colab": {
          "base_uri": "https://localhost:8080/"
        },
        "id": "W3g3utDYrQCW",
        "outputId": "7d4676f4-3724-45d3-b6c6-5dcf9d842614"
      },
      "execution_count": null,
      "outputs": [
        {
          "output_type": "stream",
          "name": "stdout",
          "text": [
            "Accuracy of the KNeighbors Classifier model:  23.214285714285715\n"
          ]
        }
      ]
    },
    {
      "cell_type": "code",
      "source": [
        "# Grid search cv\n",
        "from sklearn.model_selection import GridSearchCV\n",
        "k_range = list(range(1,21))\n",
        "weight_options = [\"uniform\", \"distance\"]\n",
        "\n",
        "param_grid = dict(n_neighbors = k_range, weights = weight_options,leaf_size=[1,2,4,5,10,15])\n",
        "#create a new knn object\n",
        "knn_2 = KNeighborsClassifier()\n",
        "# use GridSearch\n",
        "grid = GridSearchCV(knn, param_grid, cv = 10, scoring = 'accuracy')\n",
        "#fit the model\n",
        "best_model = grid.fit(X_train,y_train)\n",
        "\n",
        "print (grid.best_score_)\n",
        "print (grid.best_params_)\n",
        "print (grid.best_estimator_)"
      ],
      "metadata": {
        "colab": {
          "base_uri": "https://localhost:8080/"
        },
        "id": "fJ7zCIxQrhGK",
        "outputId": "8e93f683-9eb6-4e04-8d35-e63a735526d2"
      },
      "execution_count": null,
      "outputs": [
        {
          "output_type": "stream",
          "name": "stdout",
          "text": [
            "0.36818181818181817\n",
            "{'leaf_size': 1, 'n_neighbors': 1, 'weights': 'uniform'}\n",
            "KNeighborsClassifier(leaf_size=1, n_neighbors=1)\n"
          ]
        }
      ]
    },
    {
      "cell_type": "code",
      "source": [
        "knn_predict1 = best_model.predict(X_test)\n",
        "accuracy_KN2 = accuracy_score(y_test,knn_predict1)\n"
      ],
      "metadata": {
        "id": "Ye3jq7Girn8L"
      },
      "execution_count": null,
      "outputs": []
    },
    {
      "cell_type": "code",
      "source": [
        "print(\"Accuracy of the KNeighbors Classifier model: \", accuracy_KN2 * 100)"
      ],
      "metadata": {
        "colab": {
          "base_uri": "https://localhost:8080/"
        },
        "id": "HzXQ7Fprrydq",
        "outputId": "8b2f4dd9-fa65-4134-d159-4e5faf68189a"
      },
      "execution_count": null,
      "outputs": [
        {
          "output_type": "stream",
          "name": "stdout",
          "text": [
            "Accuracy of the KNeighbors Classifier model:  41.07142857142857\n"
          ]
        }
      ]
    }
  ]
}